{
 "cells": [
  {
   "cell_type": "code",
   "execution_count": 1,
   "id": "e2722a0f",
   "metadata": {},
   "outputs": [],
   "source": [
    "from Data_processing import import_images as i\n",
    "from Data_processing import data_preprocessing as dp\n",
    "from Classification import classification_class as classification\n",
    "from Features_extraction import feature_extraction_class as feature_extraction\n",
    "from Data_processing.images_processing_class import ImagesProcessing\n",
    "\n",
    "import pandas as pd\n",
    "import numpy as np\n",
    "import cv2"
   ]
  },
  {
   "cell_type": "code",
   "execution_count": 2,
   "id": "0452f6c2",
   "metadata": {},
   "outputs": [],
   "source": [
    "metrics_results_best_methods = {\n",
    "        \"accuracy\" : {},\n",
    "        \"f1-score\" : {},\n",
    "        \"recall\" : {},\n",
    "        \"precision\" : {},\n",
    "        \"roc_auc\" : {}\n",
    "        }\n",
    "\n",
    "name_best_models = {}"
   ]
  },
  {
   "cell_type": "code",
   "execution_count": 3,
   "id": "61c4f96a",
   "metadata": {},
   "outputs": [
    {
     "name": "stdout",
     "output_type": "stream",
     "text": [
      "============================================\n",
      "\u001b[1mExtracting SIFT Features\u001b[0;0m\n",
      "============================================\n",
      "\u001b[1mExtracting SIFT Features\u001b[0;0m\n",
      "============================================\n",
      "\u001b[1mExtracting SIFT Features\u001b[0;0m\n",
      "============================================\n",
      "\u001b[1mExtracting SIFT Features\u001b[0;0m\n",
      "============================================\n",
      "\u001b[1mExtracting SIFT Features\u001b[0;0m\n",
      "============================================\n",
      "\u001b[1mExtracting SIFT Features\u001b[0;0m\n",
      "============================================\n",
      "\u001b[1mExtracting SIFT Features\u001b[0;0m\n",
      "============================================\n",
      "\u001b[1mExtracting SIFT Features\u001b[0;0m\n",
      "============================================\n",
      "\u001b[1mExtracting SIFT Features\u001b[0;0m\n",
      "============================================\n",
      "\u001b[1mExtracting SIFT Features\u001b[0;0m\n",
      "Best preprocessing configuration for SIFT: {'filter': 'gaussian', 'filter_params': ((5, 5), 1), 'histogram': 'none', 'gamma': 0.8, 'normalize': False, 'f1-score': 0.7836818851251841}\n"
     ]
    }
   ],
   "source": [
    "data_normal_path = \"Data/normal/\"\n",
    "data_pothole_path = \"Data/potholes/\"\n",
    "\n",
    "i = ImagesProcessing(folder_normal=data_normal_path, folder_potholes=data_pothole_path, img_size=(256, 256))\n",
    "feature_extractor = feature_extraction.FeatureExtraction(i.images)\n",
    "df_Y = pd.DataFrame(i.labels)\n",
    "\n",
    "best_config_sift, all_results_sift = i.find_best_preprocessing(\n",
    "    feature_extraction_method=feature_extractor.method_SIFT,  \n",
    "    associated_filter=\"gaussian\",\n",
    "    n_iter=10\n",
    ")\n",
    "print(\"Best preprocessing configuration for SIFT:\", best_config_sift)"
   ]
  },
  {
   "cell_type": "code",
   "execution_count": null,
   "id": "b2ec9f64",
   "metadata": {},
   "outputs": [],
   "source": []
  }
 ],
 "metadata": {
  "kernelspec": {
   "display_name": "Python 3 (ipykernel)",
   "language": "python",
   "name": "python3"
  },
  "language_info": {
   "codemirror_mode": {
    "name": "ipython",
    "version": 3
   },
   "file_extension": ".py",
   "mimetype": "text/x-python",
   "name": "python",
   "nbconvert_exporter": "python",
   "pygments_lexer": "ipython3",
   "version": "3.10.9"
  }
 },
 "nbformat": 4,
 "nbformat_minor": 5
}
