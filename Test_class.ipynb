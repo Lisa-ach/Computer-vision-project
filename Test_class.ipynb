{
 "cells": [
  {
   "cell_type": "code",
   "execution_count": 1,
   "id": "e2722a0f",
   "metadata": {},
   "outputs": [],
   "source": [
    "from Data_processing import import_images as i\n",
    "#from Data_processing import data_preprocessing as dp\n",
    "from Classification import classification_class as classification\n",
    "from Features_extraction import feature_extraction_class as feature_extraction\n",
    "from Data_processing.images_processing_class import ImagesProcessing\n",
    "from utils import perform_classification, best_preprocessing\n",
    "\n",
    "import pandas as pd\n",
    "import numpy as np\n",
    "import cv2"
   ]
  },
  {
   "cell_type": "code",
   "execution_count": 2,
   "id": "0452f6c2",
   "metadata": {},
   "outputs": [],
   "source": [
    "metrics_results_best_methods = {\n",
    "        \"accuracy\" : {},\n",
    "        \"f1-score\" : {},\n",
    "        \"recall\" : {},\n",
    "        \"precision\" : {},\n",
    "        \"roc_auc\" : {}\n",
    "        }\n",
    "\n",
    "name_best_models = {}"
   ]
  },
  {
   "cell_type": "code",
   "execution_count": 3,
   "id": "385b19c5",
   "metadata": {},
   "outputs": [],
   "source": [
    "data_normal_path = \"Data/normal/\"\n",
    "data_pothole_path = \"Data/potholes/\"\n",
    "\n",
    "i = ImagesProcessing(folder_normal=data_normal_path, folder_potholes=data_pothole_path, img_size=(256, 256))\n",
    "images = i.images\n",
    "Y = i.labels\n",
    "df_Y = pd.DataFrame(Y)"
   ]
  },
  {
   "cell_type": "markdown",
   "id": "bf4d2a6d",
   "metadata": {},
   "source": [
    "# I. Unprocessed images"
   ]
  },
  {
   "cell_type": "code",
   "execution_count": 4,
   "id": "ed769b46",
   "metadata": {},
   "outputs": [],
   "source": [
    "env_feature_extraction_unprocessed_images = feature_extraction.FeatureExtraction(images)"
   ]
  },
  {
   "cell_type": "code",
   "execution_count": 6,
   "id": "fae67e79",
   "metadata": {},
   "outputs": [
    {
     "name": "stdout",
     "output_type": "stream",
     "text": [
      "============================================\n",
      "\u001b[1mExtracting SIFT Features\u001b[0;0m\n",
      "Performing Classification for SIFT + BoW\n",
      "Best method name for SIFT + BoW: RandomForest\n",
      "Classification Report:\n",
      "              precision    recall  f1-score   support\n",
      "\n",
      "           0       0.86      0.78      0.82        86\n",
      "           1       0.67      0.78      0.72        50\n",
      "\n",
      "    accuracy                           0.78       136\n",
      "   macro avg       0.77      0.78      0.77       136\n",
      "weighted avg       0.79      0.78      0.78       136\n",
      "\n",
      "============================================\n",
      "\u001b[1mExtracting ORB Features\u001b[0;0m\n",
      "Performing Classification for ORB + BoW\n",
      "Best method name for ORB + BoW: LogReg\n",
      "Classification Report:\n",
      "              precision    recall  f1-score   support\n",
      "\n",
      "           0       0.73      0.63      0.68        86\n",
      "           1       0.48      0.60      0.54        50\n",
      "\n",
      "    accuracy                           0.62       136\n",
      "   macro avg       0.61      0.61      0.61       136\n",
      "weighted avg       0.64      0.62      0.62       136\n",
      "\n",
      "============================================\n",
      "\u001b[1mExtracting Edge features\u001b[0;0m\n",
      "Performing Classification for EDGE\n",
      "Best method name for EDGE: LogReg\n",
      "Classification Report:\n",
      "              precision    recall  f1-score   support\n",
      "\n",
      "           0       0.92      0.81      0.86        86\n",
      "           1       0.73      0.88      0.80        50\n",
      "\n",
      "    accuracy                           0.84       136\n",
      "   macro avg       0.83      0.85      0.83       136\n",
      "weighted avg       0.85      0.84      0.84       136\n",
      "\n"
     ]
    }
   ],
   "source": [
    "methods = {\n",
    "    \"SIFT + BoW\": env_feature_extraction_unprocessed_images.method_SIFT,\n",
    "    \"ORB + BoW\": env_feature_extraction_unprocessed_images.method_ORB,\n",
    "    \"EDGE\": env_feature_extraction_unprocessed_images.method_EDGE\n",
    "}\n",
    "\n",
    "for method_name, method_function in methods.items():\n",
    "    metrics_results_best_methods = perform_classification(\n",
    "        method_function, method_name, df_Y, name_best_models, metrics_results_best_methods\n",
    "    )\n"
   ]
  },
  {
   "cell_type": "code",
   "execution_count": 7,
   "id": "3ecdaffa",
   "metadata": {
    "scrolled": false
   },
   "outputs": [
    {
     "name": "stdout",
     "output_type": "stream",
     "text": [
      "============================================\n",
      "\u001b[1mExtracting SIFT Features\u001b[0;0m\n",
      "============================================\n",
      "\u001b[1mExtracting SIFT Features\u001b[0;0m\n",
      "Best preprocessing configuration for SIFT: {'filter': 'gaussian', 'filter_params': ((3, 3), 0), 'histogram': 'none', 'gamma': 1.5, 'normalize': False, 'f1-score': 0.7836818851251841}\n",
      "============================================\n",
      "\u001b[1mExtracting ORB Features\u001b[0;0m\n",
      "============================================\n",
      "\u001b[1mExtracting ORB Features\u001b[0;0m\n",
      "Best preprocessing configuration for ORB: {'filter': 'median', 'filter_params': (5,), 'histogram': 'clahe', 'gamma': 0.8, 'normalize': True, 'f1-score': 0.6053571428571429}\n",
      "============================================\n",
      "\u001b[1mExtracting Edge features\u001b[0;0m\n",
      "============================================\n",
      "\u001b[1mExtracting Edge features\u001b[0;0m\n",
      "Best preprocessing configuration for EDGE: {'filter': 'bilateral', 'filter_params': (9, 75, 75), 'histogram': 'standard', 'gamma': 1.2, 'normalize': True, 'f1-score': 0.8320987654320988}\n"
     ]
    }
   ],
   "source": [
    "# TODO: Change this filter with the good association method-filter find in articles\n",
    "\n",
    "filters = {\n",
    "    \"SIFT\": \"gaussian\",\n",
    "    \"ORB\": \"median\",\n",
    "    \"EDGE\": \"bilateral\"\n",
    "}\n",
    "\n",
    "best_configs = {}\n",
    "\n",
    "for method_name, filter_name in filters.items():\n",
    "    best_config, all_results = best_preprocessing(\n",
    "        i, getattr(env_feature_extraction_unprocessed_images, f\"method_{method_name}\"), filter_name, method_name, n_iter=2\n",
    "    )\n",
    "    best_configs[method_name] = best_config"
   ]
  },
  {
   "cell_type": "code",
   "execution_count": null,
   "id": "61c4f96a",
   "metadata": {},
   "outputs": [],
   "source": [
    "data_normal_path = \"Data/normal/\"\n",
    "data_pothole_path = \"Data/potholes/\"\n",
    "\n",
    "i = ImagesProcessing(folder_normal=data_normal_path, folder_potholes=data_pothole_path, img_size=(256, 256))\n",
    "feature_extractor = feature_extraction.FeatureExtraction(i.images)\n",
    "df_Y = pd.DataFrame(i.labels)\n",
    "\n",
    "best_config_sift, all_results_sift = i.find_best_preprocessing(\n",
    "    feature_extraction_method=feature_extractor.method_SIFT,  \n",
    "    associated_filter=\"gaussian\",\n",
    "    n_iter=10\n",
    ")\n",
    "print(\"Best preprocessing configuration for SIFT:\", best_config_sift)"
   ]
  },
  {
   "cell_type": "code",
   "execution_count": null,
   "id": "0a43ce84",
   "metadata": {},
   "outputs": [],
   "source": []
  }
 ],
 "metadata": {
  "kernelspec": {
   "display_name": "Python 3 (ipykernel)",
   "language": "python",
   "name": "python3"
  },
  "language_info": {
   "codemirror_mode": {
    "name": "ipython",
    "version": 3
   },
   "file_extension": ".py",
   "mimetype": "text/x-python",
   "name": "python",
   "nbconvert_exporter": "python",
   "pygments_lexer": "ipython3",
   "version": "3.10.9"
  }
 },
 "nbformat": 4,
 "nbformat_minor": 5
}
