{
 "cells": [
  {
   "cell_type": "code",
   "execution_count": 1,
   "metadata": {},
   "outputs": [],
   "source": [
    "import sys\n",
    "import os\n",
    "import pandas as pd\n",
    "import numpy as np\n",
    "import cv2\n",
    "import json\n",
    "\n",
    "from Classification import classification_class as classification\n",
    "from Features_extraction.feature_extraction_class import FeatureExtraction\n",
    "from Data_processing.images_processing_class import ImagesProcessing\n",
    "\n",
    "\n",
    "# sys.path.append(os.path.abspath(os.path.join(os.path.dirname(__file__), '..', 'Classification')))\n",
    "# from Classification import classification_class as classification\n",
    "\n",
    "# sys.path.append(os.path.abspath(os.path.join(os.path.dirname(__file__), '..', 'Data_processing')))\n",
    "# from Data_processing.images_processing_class import ImagesProcessing\n",
    "\n",
    "# from utils import perform_classification, best_preprocessing\n"
   ]
  },
  {
   "cell_type": "code",
   "execution_count": null,
   "metadata": {},
   "outputs": [],
   "source": [
    "with open(\"best_configs_processing.json\", \"r\") as f:\n",
    "    best_configs_processing = json.load(f)\n",
    "\n",
    "# TODO use that"
   ]
  },
  {
   "cell_type": "code",
   "execution_count": 3,
   "metadata": {},
   "outputs": [],
   "source": [
    "data_normal_path = \"Data/normal/\"\n",
    "data_pothole_path = \"Data/potholes/\"\n",
    "\n",
    "imagesClass = ImagesProcessing(folder_normal=data_normal_path, folder_potholes=data_pothole_path, img_size=(256, 256))\n",
    "env_feature_extraction = FeatureExtraction(imagesClass)"
   ]
  },
  {
   "cell_type": "code",
   "execution_count": 4,
   "metadata": {},
   "outputs": [
    {
     "name": "stdout",
     "output_type": "stream",
     "text": [
      "============================================\n",
      "\u001b[1mExtracting SIFT Features\u001b[0;0m\n",
      "============================================\n",
      "\u001b[1mExtracting ORB Features\u001b[0;0m\n",
      "============================================\n",
      "\u001b[1mExtracting Edge features\u001b[0;0m\n"
     ]
    }
   ],
   "source": [
    "best_configs_methods = env_feature_extraction.optimal_hyperparameters()"
   ]
  },
  {
   "cell_type": "code",
   "execution_count": 5,
   "metadata": {},
   "outputs": [],
   "source": [
    "with open(\"best_configs_methods.json\", \"w\") as f:\n",
    "    json.dump(best_configs_methods, f, indent=4)"
   ]
  }
 ],
 "metadata": {
  "kernelspec": {
   "display_name": "Python 3 (ipykernel)",
   "language": "python",
   "name": "python3"
  },
  "language_info": {
   "codemirror_mode": {
    "name": "ipython",
    "version": 3
   },
   "file_extension": ".py",
   "mimetype": "text/x-python",
   "name": "python",
   "nbconvert_exporter": "python",
   "pygments_lexer": "ipython3",
   "version": "3.10.9"
  }
 },
 "nbformat": 4,
 "nbformat_minor": 2
}
