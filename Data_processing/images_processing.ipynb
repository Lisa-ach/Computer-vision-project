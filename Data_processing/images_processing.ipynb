{
 "cells": [
  {
   "cell_type": "code",
   "execution_count": 1,
   "id": "e2722a0f",
   "metadata": {},
   "outputs": [],
   "source": [
    "import pandas as pd\n",
    "import json\n",
    "import os\n",
    "import sys\n",
    "\n",
    "notebook_dir = os.getcwd()  \n",
    "sys.path.append(os.path.abspath(os.path.join(notebook_dir, '..')))\n",
    "\n",
    "from Features_extraction.feature_extraction_class import FeatureExtraction\n",
    "from Data_processing.images_processing_class import ImagesProcessing\n",
    "from utils import best_preprocessing"
   ]
  },
  {
   "cell_type": "code",
   "execution_count": 2,
   "id": "668a3ca7",
   "metadata": {},
   "outputs": [],
   "source": [
    "data_normal_path = \"../Data/normal/\"\n",
    "data_pothole_path = \"../Data/potholes/\"\n",
    "\n",
    "image_process = ImagesProcessing(folder_normal=data_normal_path, folder_potholes=data_pothole_path, img_size=(256, 256))\n",
    "images = image_process.images\n",
    "Y = image_process.labels\n",
    "df_Y = pd.DataFrame(Y)"
   ]
  },
  {
   "cell_type": "code",
   "execution_count": 3,
   "id": "5429b921",
   "metadata": {},
   "outputs": [],
   "source": [
    "env_feature_extraction_unprocessed_images = FeatureExtraction(image_process)"
   ]
  },
  {
   "cell_type": "code",
   "execution_count": null,
   "id": "e22d9f40",
   "metadata": {
    "scrolled": true
   },
   "outputs": [
    {
     "name": "stdout",
     "output_type": "stream",
     "text": [
      "============================================\n",
      "\u001b[1mExtracting Structural Features using HOG\u001b[0;0m\n",
      "============================================\n",
      "\u001b[1mExtracting Structural Features using HOG\u001b[0;0m\n",
      "============================================\n",
      "\u001b[1mExtracting Structural Features using HOG\u001b[0;0m\n",
      "Best preprocessing configuration for HOG: {'filter': 'gaussian', 'filter_params': ((3, 3), 0), 'histogram': 'none', 'normalize': True, 'f1-score': 0.8216393442622951}\n"
     ]
    }
   ],
   "source": [
    "# TODO: Change this filter with the good association method-filter find in articles\n",
    "\n",
    "filters = {\n",
    "    \"SIFT\": [\"bilateral\", 20],  \n",
    "    \"ORB\": [\"bilateral\", 20], \n",
    "    \"Harris\": [\"bilateral\", 20], \n",
    "    \"EDGE\": [\"bilateral\", 20], \n",
    "    \"LBP\": [\"gaussian\", 20], \n",
    "    \"Gabor\": [\"bilateral\", 20],\n",
    "    \"otsu\": [\"gaussian\", 20],\n",
    "    \"adaptive\": [\"bilateral\", 20],\n",
    "    \"HOG\": [\"gaussian\", 3],\n",
    "}\n",
    "\n",
    "best_configs = {}\n",
    "\n",
    "for method_name, params in filters.items(): \n",
    "    filter_name, n_iter = params\n",
    "    best_configs[method_name] = []\n",
    "    best_config, all_results = best_preprocessing(\n",
    "        image_process,\n",
    "        getattr(env_feature_extraction_unprocessed_images, f\"method_{method_name}\"),\n",
    "        filter_name,\n",
    "        method_name,\n",
    "        n_iter=n_iter,\n",
    "        fixed_histogram_method=\"clahe\" if method_name == \"SIFT\" else None  # ✅ On force CLAHE ici !\n",
    "    )\n",
    "    best_configs[method_name].append(best_config)\n"
   ]
  },
  {
   "cell_type": "code",
   "execution_count": 8,
   "id": "aad15c4d",
   "metadata": {},
   "outputs": [],
   "source": [
    "with open(\"../best_configs_processing.json\", \"w\") as f:\n",
    "    json.dump(best_configs, f, indent=4)"
   ]
  }
 ],
 "metadata": {
  "kernelspec": {
   "display_name": "base",
   "language": "python",
   "name": "python3"
  },
  "language_info": {
   "codemirror_mode": {
    "name": "ipython",
    "version": 3
   },
   "file_extension": ".py",
   "mimetype": "text/x-python",
   "name": "python",
   "nbconvert_exporter": "python",
   "pygments_lexer": "ipython3",
   "version": "3.11.7"
  }
 },
 "nbformat": 4,
 "nbformat_minor": 5
}
