{
 "cells": [
  {
   "cell_type": "code",
   "execution_count": 1,
   "metadata": {},
   "outputs": [],
   "source": [
    "from Data_processing import import_images as i\n",
    "from Classification import classification_class as classification\n",
    "from Features_extraction import interest_point_detection as interest_point_detection\n",
    "import pandas as pd"
   ]
  },
  {
   "cell_type": "code",
   "execution_count": 2,
   "metadata": {},
   "outputs": [],
   "source": [
    "metrics_results_best_methods = {\n",
    "        \"accuracy\" : {},\n",
    "        \"f1-score\" : {},\n",
    "        \"recall\" : {},\n",
    "        \"precision\" : {},\n",
    "        \"roc_auc\" : {}\n",
    "        }\n",
    "\n",
    "name_best_models = {}"
   ]
  },
  {
   "cell_type": "markdown",
   "metadata": {},
   "source": [
    "# I. Point of interest detection"
   ]
  },
  {
   "cell_type": "code",
   "execution_count": 3,
   "metadata": {},
   "outputs": [
    {
     "name": "stdout",
     "output_type": "stream",
     "text": [
      "=========1. Extract SIFT features from all images=========\n",
      "=========2. Stack all descriptors for clustering (BoVW) =========\n",
      "=========3. Cluster descriptors using KMeans (BoVW approach) =========\n",
      "========= 4. Create feature histograms for each image =========\n",
      "Optimization Logistic Regression\n",
      "Optimization Classification Decision Tree\n",
      "Optimization Random Forest\n",
      "Best method name: LogReg\n",
      "Classification Report:\n",
      "              precision    recall  f1-score   support\n",
      "\n",
      "           0       0.75      0.80      0.78        86\n",
      "           1       0.61      0.54      0.57        50\n",
      "\n",
      "    accuracy                           0.71       136\n",
      "   macro avg       0.68      0.67      0.67       136\n",
      "weighted avg       0.70      0.71      0.70       136\n",
      "\n"
     ]
    }
   ],
   "source": [
    "df_features = pd.DataFrame(interest_point_detection.method_SIFT(i.images))\n",
    "df_Y = pd.DataFrame(i.Y)\n",
    "\n",
    "data_SIFT = classification.DataProcessing(df_features, df_Y, stratified=False)\n",
    "env_SIFT = classification.BinaryClassification(data_SIFT, average=\"macro\")\n",
    "metrics_results = env_SIFT.CrossValidationKFold()\n",
    "labels = list(metrics_results['f1-score'].keys())\n",
    "results_train_KFold, results_test_KFold = env_SIFT.createMeansDataframe(metrics_results, labels)\n",
    "results_train_KFold.style.highlight_max(axis=0)\n",
    "\n",
    "best_method_name = env_SIFT.get_best_method(results_test_KFold, \"F1-score\", ens=\"Test\")\n",
    "print(f\"Best method name: {best_method_name}\")\n",
    "name_best_models[\"SIFT + BoW\"] = best_method_name\n",
    "metrics_results, predictions, models = env_SIFT.TrainTest()\n",
    "env_SIFT.evaluate_model(models[best_method_name])\n",
    "metrics_results_best_methods = env_SIFT.get_metrics(models[best_method_name], \"SIFT + BoW\", metrics_results_best_methods)"
   ]
  },
  {
   "cell_type": "code",
   "execution_count": 4,
   "metadata": {},
   "outputs": [
    {
     "name": "stdout",
     "output_type": "stream",
     "text": [
      "=========1. Extract ORB features from all images=========\n",
      "=========2. Stack all descriptors for clustering (BoVW) =========\n",
      "=========3. Cluster descriptors using KMeans (BoVW approach) =========\n",
      "========= 4. Create feature histograms for each image =========\n",
      "Optimization Logistic Regression\n",
      "Optimization Classification Decision Tree\n",
      "Optimization Random Forest\n",
      "Best method name: ClassificationDecisionTree\n",
      "Classification Report:\n",
      "              precision    recall  f1-score   support\n",
      "\n",
      "           0       0.59      0.34      0.43        86\n",
      "           1       0.34      0.60      0.44        50\n",
      "\n",
      "    accuracy                           0.43       136\n",
      "   macro avg       0.47      0.47      0.43       136\n",
      "weighted avg       0.50      0.43      0.43       136\n",
      "\n"
     ]
    }
   ],
   "source": [
    "df_features = pd.DataFrame(interest_point_detection.method_ORB(i.images))\n",
    "df_Y = pd.DataFrame(i.Y)\n",
    "\n",
    "data_ORB = classification.DataProcessing(df_features, df_Y, stratified=False)\n",
    "env_ORB = classification.BinaryClassification(data_ORB, average=\"macro\")\n",
    "metrics_results = env_ORB.CrossValidationKFold()\n",
    "labels = list(metrics_results['f1-score'].keys())\n",
    "results_train_KFold, results_test_KFold = env_ORB.createMeansDataframe(metrics_results, labels)\n",
    "results_train_KFold.style.highlight_max(axis=0)\n",
    "\n",
    "best_method_name = env_ORB.get_best_method(results_test_KFold, \"F1-score\", ens=\"Test\")\n",
    "print(f\"Best method name: {best_method_name}\")\n",
    "name_best_models[\"ORB + BoW\"] = best_method_name\n",
    "metrics_results, predictions, models = env_ORB.TrainTest()\n",
    "env_ORB.evaluate_model(models[best_method_name])\n",
    "metrics_results_best_methods = env_ORB.get_metrics(models[best_method_name], \"ORB + BoW\", metrics_results_best_methods)"
   ]
  },
  {
   "cell_type": "markdown",
   "metadata": {},
   "source": [
    "# II. Edge detection"
   ]
  },
  {
   "cell_type": "code",
   "execution_count": 5,
   "metadata": {},
   "outputs": [
    {
     "name": "stdout",
     "output_type": "stream",
     "text": [
      "========= Extracting Edge Detection Features from Original Images =========\n",
      "Optimization Logistic Regression\n",
      "Optimization Classification Decision Tree\n",
      "Optimization Random Forest\n",
      "Best method name: LogReg\n",
      "Classification Report:\n",
      "              precision    recall  f1-score   support\n",
      "\n",
      "           0       0.90      0.83      0.86        86\n",
      "           1       0.74      0.84      0.79        50\n",
      "\n",
      "    accuracy                           0.83       136\n",
      "   macro avg       0.82      0.83      0.82       136\n",
      "weighted avg       0.84      0.83      0.83       136\n",
      "\n"
     ]
    }
   ],
   "source": [
    "from Features_extraction import edge_detection as edges\n",
    "\n",
    "df_features_edge = edges.features_df\n",
    "\n",
    "data_edge = classification.DataProcessing(df_features_edge, df_Y, stratified=False)\n",
    "env_edge = classification.BinaryClassification(data_edge, average=\"macro\")\n",
    "metrics_results = env_edge.CrossValidationKFold()\n",
    "labels = list(metrics_results['f1-score'].keys())\n",
    "results_train_KFold, results_test_KFold = env_edge.createMeansDataframe(metrics_results, labels)\n",
    "results_train_KFold.style.highlight_max(axis=0)\n",
    "\n",
    "best_method_name = env_edge.get_best_method(results_test_KFold, \"F1-score\", ens=\"Test\")\n",
    "print(f\"Best method name: {best_method_name}\")\n",
    "name_best_models[\"EDGE\"] = best_method_name\n",
    "metrics_results, predictions, models = env_edge.TrainTest()\n",
    "env_edge.evaluate_model(models[best_method_name])\n",
    "metrics_results_best_methods = env_edge.get_metrics(models[best_method_name], \"EDGE\", metrics_results_best_methods)\n"
   ]
  },
  {
   "cell_type": "markdown",
   "metadata": {},
   "source": [
    "# III. Comparison after preprocessing"
   ]
  },
  {
   "cell_type": "code",
   "execution_count": 6,
   "metadata": {},
   "outputs": [
    {
     "name": "stdout",
     "output_type": "stream",
     "text": [
      "=========  Applying Preprocessing to Images =========\n"
     ]
    }
   ],
   "source": [
    "from Data_processing import data_preprocessing as dp\n",
    "import cv2\n",
    "import os\n",
    "import numpy as np\n",
    "\n",
    "# Apply preprocessing to all images\n",
    "print(\"=========  Applying Preprocessing to Images =========\")\n",
    "\n",
    "# Load images\n",
    "target_size = (128,128)\n",
    "\n",
    "preprocessed_images = [dp.preprocess_image(cv2.resize(img, target_size, interpolation=cv2.INTER_AREA)) for img in i.images]\n",
    "preprocessed_images = np.array(preprocessed_images)\n",
    "\n",
    "\n",
    "# Update dataset with preprocessed images\n",
    "i.images = preprocessed_images"
   ]
  },
  {
   "cell_type": "code",
   "execution_count": 7,
   "metadata": {},
   "outputs": [
    {
     "name": "stdout",
     "output_type": "stream",
     "text": [
      "========= Extracting SIFT Features After Preprocessing =========\n",
      "=========1. Extract SIFT features from all images=========\n",
      "=========2. Stack all descriptors for clustering (BoVW) =========\n",
      "=========3. Cluster descriptors using KMeans (BoVW approach) =========\n",
      "========= 4. Create feature histograms for each image =========\n",
      "Optimization Logistic Regression\n",
      "Optimization Classification Decision Tree\n",
      "Optimization Random Forest\n",
      "Best method name for SIFT: LogReg\n",
      "Classification Report:\n",
      "              precision    recall  f1-score   support\n",
      "\n",
      "           0       0.83      0.76      0.79        86\n",
      "           1       0.64      0.74      0.69        50\n",
      "\n",
      "    accuracy                           0.75       136\n",
      "   macro avg       0.74      0.75      0.74       136\n",
      "weighted avg       0.76      0.75      0.75       136\n",
      "\n",
      "========= Extracting ORB Features After Preprocessing =========\n",
      "=========1. Extract ORB features from all images=========\n",
      "=========2. Stack all descriptors for clustering (BoVW) =========\n",
      "=========3. Cluster descriptors using KMeans (BoVW approach) =========\n",
      "========= 4. Create feature histograms for each image =========\n",
      "Optimization Logistic Regression\n",
      "Optimization Classification Decision Tree\n",
      "Optimization Random Forest\n",
      "Best method name for ORB: LogReg\n",
      "Classification Report:\n",
      "              precision    recall  f1-score   support\n",
      "\n",
      "           0       0.74      0.73      0.74        86\n",
      "           1       0.55      0.56      0.55        50\n",
      "\n",
      "    accuracy                           0.67       136\n",
      "   macro avg       0.65      0.65      0.65       136\n",
      "weighted avg       0.67      0.67      0.67       136\n",
      "\n",
      "========= Extracting Edge Detection Features After Preprocessing =========\n",
      "Optimization Logistic Regression\n",
      "Optimization Classification Decision Tree\n",
      "Optimization Random Forest\n",
      "Best method name for Edge Detection: LogReg\n",
      "Classification Report:\n",
      "              precision    recall  f1-score   support\n",
      "\n",
      "           0       0.94      0.76      0.84        86\n",
      "           1       0.69      0.92      0.79        50\n",
      "\n",
      "    accuracy                           0.82       136\n",
      "   macro avg       0.81      0.84      0.81       136\n",
      "weighted avg       0.85      0.82      0.82       136\n",
      "\n"
     ]
    }
   ],
   "source": [
    "print(\"========= Extracting SIFT Features After Preprocessing =========\")\n",
    "df_features = pd.DataFrame(interest_point_detection.method_SIFT(i.images))\n",
    "df_Y = pd.DataFrame(i.Y)\n",
    "\n",
    "data_SIFT = classification.DataProcessing(df_features, df_Y, stratified=False)\n",
    "env_SIFT = classification.BinaryClassification(data_SIFT, average=\"macro\")\n",
    "metrics_results = env_SIFT.CrossValidationKFold()\n",
    "labels = list(metrics_results['f1-score'].keys())\n",
    "results_train_KFold, results_test_KFold = env_SIFT.createMeansDataframe(metrics_results, labels)\n",
    "best_method_name = env_SIFT.get_best_method(results_test_KFold, \"F1-score\", ens=\"Test\")\n",
    "\n",
    "print(f\"Best method name for SIFT: {best_method_name}\")\n",
    "name_best_models[\"SIFT + BoW (Preprocessed)\"] = best_method_name\n",
    "metrics_results, predictions, models = env_SIFT.TrainTest()\n",
    "env_SIFT.evaluate_model(models[best_method_name])\n",
    "metrics_results_best_methods = env_SIFT.get_metrics(models[best_method_name], \"SIFT + BoW (Preprocessed)\", metrics_results_best_methods)\n",
    "\n",
    "print(\"========= Extracting ORB Features After Preprocessing =========\")\n",
    "df_features = pd.DataFrame(interest_point_detection.method_ORB(i.images))\n",
    "df_Y = pd.DataFrame(i.Y)\n",
    "\n",
    "data_ORB = classification.DataProcessing(df_features, df_Y, stratified=False)\n",
    "env_ORB = classification.BinaryClassification(data_ORB, average=\"macro\")\n",
    "metrics_results = env_ORB.CrossValidationKFold()\n",
    "labels = list(metrics_results['f1-score'].keys())\n",
    "results_train_KFold, results_test_KFold = env_ORB.createMeansDataframe(metrics_results, labels)\n",
    "best_method_name = env_ORB.get_best_method(results_test_KFold, \"F1-score\", ens=\"Test\")\n",
    "\n",
    "print(f\"Best method name for ORB: {best_method_name}\")\n",
    "name_best_models[\"ORB + BoW (Preprocessed)\"] = best_method_name\n",
    "metrics_results, predictions, models = env_ORB.TrainTest()\n",
    "env_ORB.evaluate_model(models[best_method_name])\n",
    "metrics_results_best_methods = env_ORB.get_metrics(models[best_method_name], \"ORB + BoW (Preprocessed)\", metrics_results_best_methods)\n",
    "\n",
    "\n",
    "print(\"========= Extracting Edge Detection Features After Preprocessing =========\")\n",
    "\n",
    "df_features_edge = edges.extract_features_from_images(i.images)  # Recalculate features\n",
    "df_Y = pd.DataFrame(i.Y)\n",
    "\n",
    "data_edge = classification.DataProcessing(df_features_edge, df_Y, stratified=False)\n",
    "env_edge = classification.BinaryClassification(data_edge, average=\"macro\")\n",
    "metrics_results = env_edge.CrossValidationKFold()\n",
    "labels = list(metrics_results['f1-score'].keys())\n",
    "results_train_KFold, results_test_KFold = env_edge.createMeansDataframe(metrics_results, labels)\n",
    "best_method_name = env_edge.get_best_method(results_test_KFold, \"F1-score\", ens=\"Test\")\n",
    "\n",
    "print(f\"Best method name for Edge Detection: {best_method_name}\")\n",
    "name_best_models[\"EDGE (Preprocessed)\"] = best_method_name\n",
    "metrics_results, predictions, models = env_edge.TrainTest()\n",
    "env_edge.evaluate_model(models[best_method_name])\n",
    "metrics_results_best_methods = env_edge.get_metrics(models[best_method_name], \"EDGE (Preprocessed)\", metrics_results_best_methods)"
   ]
  },
  {
   "cell_type": "markdown",
   "metadata": {},
   "source": [
    "# IV. Overall results"
   ]
  },
  {
   "cell_type": "code",
   "execution_count": 8,
   "metadata": {},
   "outputs": [
    {
     "data": {
      "text/html": [
       "<style type=\"text/css\">\n",
       "#T_89435_row2_col1, #T_89435_row2_col2, #T_89435_row2_col4, #T_89435_row5_col3, #T_89435_row5_col5 {\n",
       "  background-color: yellow;\n",
       "}\n",
       "</style>\n",
       "<table id=\"T_89435\">\n",
       "  <thead>\n",
       "    <tr>\n",
       "      <th class=\"blank level0\" >&nbsp;</th>\n",
       "      <th id=\"T_89435_level0_col0\" class=\"col_heading level0 col0\" >Best models</th>\n",
       "      <th id=\"T_89435_level0_col1\" class=\"col_heading level0 col1\" >accuracy</th>\n",
       "      <th id=\"T_89435_level0_col2\" class=\"col_heading level0 col2\" >f1-score</th>\n",
       "      <th id=\"T_89435_level0_col3\" class=\"col_heading level0 col3\" >recall</th>\n",
       "      <th id=\"T_89435_level0_col4\" class=\"col_heading level0 col4\" >precision</th>\n",
       "      <th id=\"T_89435_level0_col5\" class=\"col_heading level0 col5\" >roc_auc</th>\n",
       "    </tr>\n",
       "  </thead>\n",
       "  <tbody>\n",
       "    <tr>\n",
       "      <th id=\"T_89435_level0_row0\" class=\"row_heading level0 row0\" >SIFT + BoW</th>\n",
       "      <td id=\"T_89435_row0_col0\" class=\"data row0 col0\" >LogReg</td>\n",
       "      <td id=\"T_89435_row0_col1\" class=\"data row0 col1\" >0.705882</td>\n",
       "      <td id=\"T_89435_row0_col2\" class=\"data row0 col2\" >0.674874</td>\n",
       "      <td id=\"T_89435_row0_col3\" class=\"data row0 col3\" >0.671163</td>\n",
       "      <td id=\"T_89435_row0_col4\" class=\"data row0 col4\" >0.681818</td>\n",
       "      <td id=\"T_89435_row0_col5\" class=\"data row0 col5\" >0.671163</td>\n",
       "    </tr>\n",
       "    <tr>\n",
       "      <th id=\"T_89435_level0_row1\" class=\"row_heading level0 row1\" >ORB + BoW</th>\n",
       "      <td id=\"T_89435_row1_col0\" class=\"data row1 col0\" >ClassificationDecisionTree</td>\n",
       "      <td id=\"T_89435_row1_col1\" class=\"data row1 col1\" >0.433824</td>\n",
       "      <td id=\"T_89435_row1_col2\" class=\"data row1 col2\" >0.433793</td>\n",
       "      <td id=\"T_89435_row1_col3\" class=\"data row1 col3\" >0.468605</td>\n",
       "      <td id=\"T_89435_row1_col4\" class=\"data row1 col4\" >0.468332</td>\n",
       "      <td id=\"T_89435_row1_col5\" class=\"data row1 col5\" >0.468605</td>\n",
       "    </tr>\n",
       "    <tr>\n",
       "      <th id=\"T_89435_level0_row2\" class=\"row_heading level0 row2\" >EDGE</th>\n",
       "      <td id=\"T_89435_row2_col0\" class=\"data row2 col0\" >LogReg</td>\n",
       "      <td id=\"T_89435_row2_col1\" class=\"data row2 col1\" >0.830882</td>\n",
       "      <td id=\"T_89435_row2_col2\" class=\"data row2 col2\" >0.822826</td>\n",
       "      <td id=\"T_89435_row2_col3\" class=\"data row2 col3\" >0.832791</td>\n",
       "      <td id=\"T_89435_row2_col4\" class=\"data row2 col4\" >0.817788</td>\n",
       "      <td id=\"T_89435_row2_col5\" class=\"data row2 col5\" >0.832791</td>\n",
       "    </tr>\n",
       "    <tr>\n",
       "      <th id=\"T_89435_level0_row3\" class=\"row_heading level0 row3\" >SIFT + BoW (Preprocessed)</th>\n",
       "      <td id=\"T_89435_row3_col0\" class=\"data row3 col0\" >LogReg</td>\n",
       "      <td id=\"T_89435_row3_col1\" class=\"data row3 col1\" >0.750000</td>\n",
       "      <td id=\"T_89435_row3_col2\" class=\"data row3 col2\" >0.738934</td>\n",
       "      <td id=\"T_89435_row3_col3\" class=\"data row3 col3\" >0.747907</td>\n",
       "      <td id=\"T_89435_row3_col4\" class=\"data row3 col4\" >0.735632</td>\n",
       "      <td id=\"T_89435_row3_col5\" class=\"data row3 col5\" >0.747907</td>\n",
       "    </tr>\n",
       "    <tr>\n",
       "      <th id=\"T_89435_level0_row4\" class=\"row_heading level0 row4\" >ORB + BoW (Preprocessed)</th>\n",
       "      <td id=\"T_89435_row4_col0\" class=\"data row4 col0\" >LogReg</td>\n",
       "      <td id=\"T_89435_row4_col1\" class=\"data row4 col1\" >0.669118</td>\n",
       "      <td id=\"T_89435_row4_col2\" class=\"data row4 col2\" >0.645649</td>\n",
       "      <td id=\"T_89435_row4_col3\" class=\"data row4 col3\" >0.646279</td>\n",
       "      <td id=\"T_89435_row4_col4\" class=\"data row4 col4\" >0.645098</td>\n",
       "      <td id=\"T_89435_row4_col5\" class=\"data row4 col5\" >0.646279</td>\n",
       "    </tr>\n",
       "    <tr>\n",
       "      <th id=\"T_89435_level0_row5\" class=\"row_heading level0 row5\" >EDGE (Preprocessed)</th>\n",
       "      <td id=\"T_89435_row5_col0\" class=\"data row5 col0\" >LogReg</td>\n",
       "      <td id=\"T_89435_row5_col1\" class=\"data row5 col1\" >0.816176</td>\n",
       "      <td id=\"T_89435_row5_col2\" class=\"data row5 col2\" >0.812517</td>\n",
       "      <td id=\"T_89435_row5_col3\" class=\"data row5 col3\" >0.837907</td>\n",
       "      <td id=\"T_89435_row5_col4\" class=\"data row5 col4\" >0.814298</td>\n",
       "      <td id=\"T_89435_row5_col5\" class=\"data row5 col5\" >0.837907</td>\n",
       "    </tr>\n",
       "  </tbody>\n",
       "</table>\n"
      ],
      "text/plain": [
       "<pandas.io.formats.style.Styler at 0x280308b0b50>"
      ]
     },
     "execution_count": 8,
     "metadata": {},
     "output_type": "execute_result"
    }
   ],
   "source": [
    "df_best_models_all_datasets_macro_f1 = pd.DataFrame(metrics_results_best_methods)\n",
    "df_best_models_all_datasets_macro_f1.insert(0, 'Best models', name_best_models)\n",
    "df_best_models_all_datasets_macro_f1.style.highlight_max(axis=0, subset=df_best_models_all_datasets_macro_f1.columns[1:])"
   ]
  },
  {
   "cell_type": "code",
   "execution_count": null,
   "metadata": {},
   "outputs": [],
   "source": []
  }
 ],
 "metadata": {
  "kernelspec": {
   "display_name": "Python 3 (ipykernel)",
   "language": "python",
   "name": "python3"
  },
  "language_info": {
   "codemirror_mode": {
    "name": "ipython",
    "version": 3
   },
   "file_extension": ".py",
   "mimetype": "text/x-python",
   "name": "python",
   "nbconvert_exporter": "python",
   "pygments_lexer": "ipython3",
   "version": "3.10.9"
  }
 },
 "nbformat": 4,
 "nbformat_minor": 2
}
