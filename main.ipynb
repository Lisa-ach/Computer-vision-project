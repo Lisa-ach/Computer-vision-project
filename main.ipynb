{
 "cells": [
  {
   "cell_type": "code",
   "execution_count": 1,
   "metadata": {},
   "outputs": [],
   "source": [
    "from Classification import classification_class as classification\n",
    "from Features_extraction.feature_extraction_class import FeatureExtraction\n",
    "from Data_processing.images_processing_class import ImagesProcessing\n",
    "from utils import perform_classification\n",
    "\n",
    "import pandas as pd\n",
    "import numpy as np\n",
    "import cv2\n",
    "import json"
   ]
  },
  {
   "cell_type": "code",
   "execution_count": 2,
   "metadata": {},
   "outputs": [],
   "source": [
    "metrics_results_best_methods = {\n",
    "        \"accuracy\" : {},\n",
    "        \"f1-score\" : {},\n",
    "        \"recall\" : {},\n",
    "        \"precision\" : {},\n",
    "        \"roc_auc\" : {}\n",
    "        }\n",
    "\n",
    "name_best_models = {}"
   ]
  },
  {
   "cell_type": "code",
   "execution_count": 3,
   "metadata": {},
   "outputs": [],
   "source": [
    "data_normal_path = \"Data/normal/\"\n",
    "data_pothole_path = \"Data/potholes/\"\n",
    "\n",
    "env_images = ImagesProcessing(folder_normal=data_normal_path, folder_potholes=data_pothole_path, img_size=(256, 256))\n",
    "\n",
    "Y = env_images.labels\n",
    "df_Y = pd.DataFrame(Y)"
   ]
  },
  {
   "cell_type": "code",
   "execution_count": 4,
   "metadata": {},
   "outputs": [],
   "source": [
    "with open(\"best_configs_processing.json\", \"r\") as f:\n",
    "    best_configs_processing = json.load(f)\n",
    "\n",
    "with open(\"best_configs_methods.json\", \"r\") as f:\n",
    "    best_configs_methods = json.load(f)"
   ]
  },
  {
   "cell_type": "markdown",
   "metadata": {},
   "source": [
    "# I. Unprocessed images"
   ]
  },
  {
   "cell_type": "code",
   "execution_count": 5,
   "metadata": {},
   "outputs": [],
   "source": [
    "env_feature_extraction_unprocessed_images = FeatureExtraction(env_images)"
   ]
  },
  {
   "cell_type": "markdown",
   "metadata": {},
   "source": [
    "## 1. Point of interest detection"
   ]
  },
  {
   "cell_type": "code",
   "execution_count": 6,
   "metadata": {},
   "outputs": [
    {
     "name": "stdout",
     "output_type": "stream",
     "text": [
      "============================================\n",
      "\u001b[1mExtracting SIFT Features\u001b[0;0m\n",
      "Performing Classification for SIFT\n",
      "Best method name for SIFT: RandomForest\n",
      "Classification Report:\n",
      "              precision    recall  f1-score   support\n",
      "\n",
      "           0       0.83      0.76      0.79        86\n",
      "           1       0.64      0.74      0.69        50\n",
      "\n",
      "    accuracy                           0.75       136\n",
      "   macro avg       0.74      0.75      0.74       136\n",
      "weighted avg       0.76      0.75      0.75       136\n",
      "\n"
     ]
    }
   ],
   "source": [
    "df_features_SIFT = pd.DataFrame(env_feature_extraction_unprocessed_images.method_SIFT())\n",
    "\n",
    "metrics_results_best_methods, _ = perform_classification(\n",
    "    'SIFT', df_Y, name_best_models, metrics_results_best_methods, df_features=df_features_SIFT\n",
    ")"
   ]
  },
  {
   "cell_type": "code",
   "execution_count": 7,
   "metadata": {},
   "outputs": [
    {
     "name": "stdout",
     "output_type": "stream",
     "text": [
      "============================================\n",
      "\u001b[1mExtracting ORB Features\u001b[0;0m\n",
      "Performing Classification for ORB\n",
      "Best method name for ORB: LogReg\n",
      "Classification Report:\n",
      "              precision    recall  f1-score   support\n",
      "\n",
      "           0       0.72      0.63      0.67        86\n",
      "           1       0.48      0.58      0.52        50\n",
      "\n",
      "    accuracy                           0.61       136\n",
      "   macro avg       0.60      0.60      0.60       136\n",
      "weighted avg       0.63      0.61      0.62       136\n",
      "\n"
     ]
    }
   ],
   "source": [
    "df_features_ORB = pd.DataFrame(env_feature_extraction_unprocessed_images.method_ORB())\n",
    "\n",
    "metrics_results_best_methods, _ = perform_classification(\n",
    "    'ORB', df_Y, name_best_models, metrics_results_best_methods, df_features=df_features_ORB\n",
    ")"
   ]
  },
  {
   "cell_type": "code",
   "execution_count": 8,
   "metadata": {},
   "outputs": [
    {
     "name": "stdout",
     "output_type": "stream",
     "text": [
      "============================================\n",
      "\u001b[1mExtracting Harris Corner Features\u001b[0;0m\n",
      "Performing Classification for Harris\n",
      "Best method name for Harris: LogReg\n",
      "Classification Report:\n",
      "              precision    recall  f1-score   support\n",
      "\n",
      "           0       0.91      0.70      0.79        86\n",
      "           1       0.63      0.88      0.73        50\n",
      "\n",
      "    accuracy                           0.76       136\n",
      "   macro avg       0.77      0.79      0.76       136\n",
      "weighted avg       0.81      0.76      0.77       136\n",
      "\n"
     ]
    }
   ],
   "source": [
    "df_features_harris = pd.DataFrame(env_feature_extraction_unprocessed_images.method_Harris())\n",
    "\n",
    "metrics_results_best_methods, _ = perform_classification(\n",
    "    'Harris', df_Y, name_best_models, metrics_results_best_methods, df_features=df_features_harris\n",
    ")"
   ]
  },
  {
   "cell_type": "markdown",
   "metadata": {},
   "source": [
    "## 2. Edge detection"
   ]
  },
  {
   "cell_type": "code",
   "execution_count": 9,
   "metadata": {},
   "outputs": [
    {
     "name": "stdout",
     "output_type": "stream",
     "text": [
      "============================================\n",
      "\u001b[1mExtracting Edge features\u001b[0;0m\n",
      "Performing Classification for EDGE\n",
      "Best method name for EDGE: LogReg\n",
      "Classification Report:\n",
      "              precision    recall  f1-score   support\n",
      "\n",
      "           0       0.91      0.81      0.86        86\n",
      "           1       0.73      0.86      0.79        50\n",
      "\n",
      "    accuracy                           0.83       136\n",
      "   macro avg       0.82      0.84      0.82       136\n",
      "weighted avg       0.84      0.83      0.83       136\n",
      "\n"
     ]
    }
   ],
   "source": [
    "df_features_edge = env_feature_extraction_unprocessed_images.method_EDGE()\n",
    "\n",
    "metrics_results_best_methods, _ = perform_classification(\n",
    "    'EDGE', df_Y, name_best_models, metrics_results_best_methods, df_features=df_features_edge\n",
    ")"
   ]
  },
  {
   "cell_type": "markdown",
   "metadata": {},
   "source": [
    "## 3. Thresholding Method"
   ]
  },
  {
   "cell_type": "markdown",
   "metadata": {},
   "source": [
    "### a. Otsu's Thresholding"
   ]
  },
  {
   "cell_type": "code",
   "execution_count": 10,
   "metadata": {},
   "outputs": [
    {
     "name": "stdout",
     "output_type": "stream",
     "text": [
      "============================================\n",
      "\u001b[1mData Segmentation using Otsu's Thresholding\u001b[0;0m\n",
      "Performing Classification for Otsu\n",
      "Best method name for Otsu: RandomForest\n",
      "Classification Report:\n",
      "              precision    recall  f1-score   support\n",
      "\n",
      "           0       0.70      0.76      0.73        86\n",
      "           1       0.51      0.44      0.47        50\n",
      "\n",
      "    accuracy                           0.64       136\n",
      "   macro avg       0.61      0.60      0.60       136\n",
      "weighted avg       0.63      0.64      0.63       136\n",
      "\n"
     ]
    }
   ],
   "source": [
    "df_features_otsu = pd.DataFrame(env_feature_extraction_unprocessed_images.method_Otsu())\n",
    "\n",
    "metrics_results_best_methods, _ = perform_classification(\n",
    "    \"Otsu\", df_Y, name_best_models, metrics_results_best_methods, df_features=df_features_otsu\n",
    ")"
   ]
  },
  {
   "cell_type": "markdown",
   "metadata": {},
   "source": [
    "### b. Adaptive's Thresholding"
   ]
  },
  {
   "cell_type": "code",
   "execution_count": 11,
   "metadata": {},
   "outputs": [
    {
     "name": "stdout",
     "output_type": "stream",
     "text": [
      "============================================\n",
      "\u001b[1mData Segmentation using Adaptive's Thresholding\u001b[0;0m\n",
      "Performing Classification for Adaptive\n",
      "Best method name for Adaptive: RandomForest\n",
      "Classification Report:\n",
      "              precision    recall  f1-score   support\n",
      "\n",
      "           0       0.94      0.34      0.50        86\n",
      "           1       0.46      0.96      0.62        50\n",
      "\n",
      "    accuracy                           0.57       136\n",
      "   macro avg       0.70      0.65      0.56       136\n",
      "weighted avg       0.76      0.57      0.54       136\n",
      "\n"
     ]
    }
   ],
   "source": [
    "df_features_adaptive = pd.DataFrame(env_feature_extraction_unprocessed_images.method_Adaptive())\n",
    "\n",
    "metrics_results_best_methods, _ = perform_classification(\n",
    "    'Adaptive', df_Y, name_best_models, metrics_results_best_methods, df_features=df_features_adaptive\n",
    ")"
   ]
  },
  {
   "cell_type": "markdown",
   "metadata": {},
   "source": [
    "## 4. Texture Feature"
   ]
  },
  {
   "cell_type": "markdown",
   "metadata": {},
   "source": [
    "### a. Frequency-Based Methods"
   ]
  },
  {
   "cell_type": "code",
   "execution_count": 12,
   "metadata": {},
   "outputs": [
    {
     "name": "stdout",
     "output_type": "stream",
     "text": [
      "============================================\n",
      "\u001b[1mExtracting Surface Textures Features using Gabor filters\u001b[0;0m\n",
      "Performing Classification for Gabor\n",
      "Best method name for Gabor: RandomForest\n",
      "Classification Report:\n",
      "              precision    recall  f1-score   support\n",
      "\n",
      "           0       0.64      0.62      0.63        86\n",
      "           1       0.38      0.40      0.39        50\n",
      "\n",
      "    accuracy                           0.54       136\n",
      "   macro avg       0.51      0.51      0.51       136\n",
      "weighted avg       0.54      0.54      0.54       136\n",
      "\n"
     ]
    }
   ],
   "source": [
    "df_features_gabor = pd.DataFrame(env_feature_extraction_unprocessed_images.method_Gabor())\n",
    "\n",
    "metrics_results_best_methods, _ = perform_classification(\n",
    "    'Gabor', df_Y, name_best_models, metrics_results_best_methods, df_features=df_features_gabor\n",
    ")"
   ]
  },
  {
   "cell_type": "markdown",
   "metadata": {},
   "source": [
    "### b. Spatial Texture Descriptors"
   ]
  },
  {
   "cell_type": "code",
   "execution_count": 13,
   "metadata": {},
   "outputs": [
    {
     "name": "stdout",
     "output_type": "stream",
     "text": [
      "============================================\n",
      "\u001b[1mExtracting Spatial Texture Features using LBP\u001b[0;0m\n",
      "Performing Classification for LBP\n",
      "Best method name for LBP: LogReg\n",
      "Classification Report:\n",
      "              precision    recall  f1-score   support\n",
      "\n",
      "           0       0.88      0.79      0.83        86\n",
      "           1       0.69      0.82      0.75        50\n",
      "\n",
      "    accuracy                           0.80       136\n",
      "   macro avg       0.79      0.81      0.79       136\n",
      "weighted avg       0.81      0.80      0.80       136\n",
      "\n"
     ]
    }
   ],
   "source": [
    "df_features_LBP = pd.DataFrame(env_feature_extraction_unprocessed_images.method_LBP())\n",
    "\n",
    "metrics_results_best_methods, _ = perform_classification(\n",
    "    'LBP', df_Y, name_best_models, metrics_results_best_methods, df_features=df_features_LBP\n",
    ")"
   ]
  },
  {
   "cell_type": "markdown",
   "metadata": {},
   "source": [
    "## 5. Structural Features"
   ]
  },
  {
   "cell_type": "markdown",
   "metadata": {},
   "source": [
    "- ### Histogram of Oriented Gradients (HOG)"
   ]
  },
  {
   "cell_type": "code",
   "execution_count": 14,
   "metadata": {},
   "outputs": [
    {
     "name": "stdout",
     "output_type": "stream",
     "text": [
      "============================================\n",
      "\u001b[1mExtracting Structural Features using HOG\u001b[0;0m\n",
      "Performing Classification for HOG\n",
      "Best method name for HOG: RandomForest\n",
      "Classification Report:\n",
      "              precision    recall  f1-score   support\n",
      "\n",
      "           0       0.93      0.80      0.86        86\n",
      "           1       0.73      0.90      0.80        50\n",
      "\n",
      "    accuracy                           0.84       136\n",
      "   macro avg       0.83      0.85      0.83       136\n",
      "weighted avg       0.86      0.84      0.84       136\n",
      "\n"
     ]
    }
   ],
   "source": [
    "df_features_HOG = pd.DataFrame(env_feature_extraction_unprocessed_images.method_HOG())\n",
    "\n",
    "metrics_results_best_methods, _ = perform_classification(\n",
    "    'HOG', df_Y, name_best_models, metrics_results_best_methods, df_features=df_features_HOG\n",
    ")"
   ]
  },
  {
   "cell_type": "markdown",
   "metadata": {},
   "source": [
    "# II. Processed images: using best configurations for processing and feature detection methods"
   ]
  },
  {
   "cell_type": "code",
   "execution_count": 15,
   "metadata": {},
   "outputs": [
    {
     "name": "stdout",
     "output_type": "stream",
     "text": [
      "=====================================================================\n",
      "\u001b[1mComputing results for SIFT\u001b[0;0m\n",
      "Applying best preprocessing :\n",
      " {'filter': 'bilateral', 'filter_params': [12, 100, 100], 'histogram': 'clahe', 'normalize': True, 'f1-score': 0.7940731126973826} \n",
      "\n",
      "Applying best method parameters:\n",
      " {'nOctaveLayers': 3, 'nfeatures': 500, 'num_clusters': 5, 'sigma': 1.2} \n",
      "\n",
      "============================================\n",
      "\u001b[1mExtracting SIFT Features\u001b[0;0m\n",
      "Performing Classification for SIFT + bilateral\n",
      "Best method name for SIFT + bilateral: RandomForest\n",
      "Classification Report:\n",
      "              precision    recall  f1-score   support\n",
      "\n",
      "           0       0.85      0.66      0.75        86\n",
      "           1       0.58      0.80      0.67        50\n",
      "\n",
      "    accuracy                           0.71       136\n",
      "   macro avg       0.72      0.73      0.71       136\n",
      "weighted avg       0.75      0.71      0.72       136\n",
      "\n",
      "=====================================================================\n",
      "\u001b[1mComputing results for ORB\u001b[0;0m\n",
      "Applying best preprocessing :\n",
      " {'filter': 'bilateral', 'filter_params': [12, 100, 100], 'histogram': 'none', 'normalize': False, 'f1-score': 0.6660664593223113} \n",
      "\n",
      "Applying best method parameters:\n",
      " {'nfeatures': 500, 'num_clusters': 5, 'scaleFactor': 1.5} \n",
      "\n",
      "============================================\n",
      "\u001b[1mExtracting ORB Features\u001b[0;0m\n",
      "Performing Classification for ORB + bilateral\n",
      "Best method name for ORB + bilateral: LogReg\n",
      "Classification Report:\n",
      "              precision    recall  f1-score   support\n",
      "\n",
      "           0       0.66      0.62      0.64        86\n",
      "           1       0.41      0.46      0.43        50\n",
      "\n",
      "    accuracy                           0.56       136\n",
      "   macro avg       0.54      0.54      0.54       136\n",
      "weighted avg       0.57      0.56      0.56       136\n",
      "\n",
      "=====================================================================\n",
      "\u001b[1mComputing results for Harris\u001b[0;0m\n",
      "Applying best preprocessing :\n",
      " {'filter': 'bilateral', 'filter_params': [5, 50, 50], 'histogram': 'standard', 'normalize': True, 'f1-score': 0.7261496598639456} \n",
      "\n",
      "Applying best method parameters:\n",
      " {'blockSize': 3, 'k': 0.04, 'ksize': 3, 'threshold': 0.01} \n",
      "\n",
      "============================================\n",
      "\u001b[1mExtracting Harris Corner Features\u001b[0;0m\n",
      "Performing Classification for Harris + bilateral\n",
      "Best method name for Harris + bilateral: LogReg\n",
      "Classification Report:\n",
      "              precision    recall  f1-score   support\n",
      "\n",
      "           0       0.88      0.73      0.80        86\n",
      "           1       0.64      0.82      0.72        50\n",
      "\n",
      "    accuracy                           0.76       136\n",
      "   macro avg       0.76      0.78      0.76       136\n",
      "weighted avg       0.79      0.76      0.77       136\n",
      "\n",
      "=====================================================================\n",
      "\u001b[1mComputing results for EDGE\u001b[0;0m\n",
      "Applying best preprocessing :\n",
      " {'filter': 'bilateral', 'filter_params': [12, 100, 100], 'histogram': 'clahe', 'normalize': False, 'f1-score': 0.9028944911297853} \n",
      "\n",
      "Applying best method parameters:\n",
      " {'canny_threshold1': 50, 'canny_threshold2': 150, 'laplacian_ksize': 3, 'sobel_ksize': 3} \n",
      "\n",
      "============================================\n",
      "\u001b[1mExtracting Edge features\u001b[0;0m\n",
      "Performing Classification for EDGE + bilateral\n",
      "Best method name for EDGE + bilateral: LogReg\n",
      "Classification Report:\n",
      "              precision    recall  f1-score   support\n",
      "\n",
      "           0       0.92      0.69      0.79        86\n",
      "           1       0.62      0.90      0.74        50\n",
      "\n",
      "    accuracy                           0.76       136\n",
      "   macro avg       0.77      0.79      0.76       136\n",
      "weighted avg       0.81      0.76      0.77       136\n",
      "\n",
      "=====================================================================\n",
      "\u001b[1mComputing results for Otsu\u001b[0;0m\n",
      "Applying best preprocessing :\n",
      " {'filter': 'gaussian', 'filter_params': [[3, 3], 0], 'histogram': 'none', 'normalize': True, 'f1-score': 0.5878787878787879} \n",
      "\n",
      "Applying best method parameters:\n",
      " None \n",
      "\n",
      "============================================\n",
      "\u001b[1mData Segmentation using Otsu's Thresholding\u001b[0;0m\n",
      "Performing Classification for Otsu + gaussian\n",
      "Best method name for Otsu + gaussian: RandomForest\n",
      "Classification Report:\n",
      "              precision    recall  f1-score   support\n",
      "\n",
      "           0       0.72      0.85      0.78        86\n",
      "           1       0.63      0.44      0.52        50\n",
      "\n",
      "    accuracy                           0.70       136\n",
      "   macro avg       0.68      0.64      0.65       136\n",
      "weighted avg       0.69      0.70      0.68       136\n",
      "\n",
      "=====================================================================\n",
      "\u001b[1mComputing results for Adaptive\u001b[0;0m\n",
      "Applying best preprocessing :\n",
      " {'filter': 'bilateral', 'filter_params': [12, 100, 100], 'histogram': 'none', 'normalize': True, 'f1-score': 0.7419642857142857} \n",
      "\n",
      "Applying best method parameters:\n",
      " {'C': 5, 'block_size': 9} \n",
      "\n",
      "============================================\n",
      "\u001b[1mData Segmentation using Adaptive's Thresholding\u001b[0;0m\n",
      "Performing Classification for Adaptive + bilateral\n",
      "Best method name for Adaptive + bilateral: LogReg\n",
      "Classification Report:\n",
      "              precision    recall  f1-score   support\n",
      "\n",
      "           0       0.70      0.70      0.70        86\n",
      "           1       0.48      0.48      0.48        50\n",
      "\n",
      "    accuracy                           0.62       136\n",
      "   macro avg       0.59      0.59      0.59       136\n",
      "weighted avg       0.62      0.62      0.62       136\n",
      "\n",
      "=====================================================================\n",
      "\u001b[1mComputing results for Gabor\u001b[0;0m\n",
      "Applying best preprocessing :\n",
      " {'filter': 'bilateral', 'filter_params': [5, 50, 50], 'histogram': 'clahe', 'normalize': False, 'f1-score': 0.5425420457678523} \n",
      "\n",
      "Applying best method parameters:\n",
      " {'gamma': 0.8, 'ksize': 15, 'lambd': 5, 'sigma': 6} \n",
      "\n",
      "============================================\n",
      "\u001b[1mExtracting Surface Textures Features using Gabor filters\u001b[0;0m\n",
      "Performing Classification for Gabor + bilateral\n",
      "Best method name for Gabor + bilateral: LogReg\n",
      "Classification Report:\n",
      "              precision    recall  f1-score   support\n",
      "\n",
      "           0       0.86      0.78      0.82        86\n",
      "           1       0.67      0.78      0.72        50\n",
      "\n",
      "    accuracy                           0.78       136\n",
      "   macro avg       0.77      0.78      0.77       136\n",
      "weighted avg       0.79      0.78      0.78       136\n",
      "\n",
      "=====================================================================\n",
      "\u001b[1mComputing results for LBP\u001b[0;0m\n",
      "Applying best preprocessing :\n",
      " {'filter': 'gaussian', 'filter_params': [[7, 7], 2], 'histogram': 'none', 'normalize': False, 'f1-score': 0.8293228569869591} \n",
      "\n",
      "Applying best method parameters:\n",
      " {'num_points': 24, 'radius': 2} \n",
      "\n",
      "============================================\n",
      "\u001b[1mExtracting Spatial Texture Features using LBP\u001b[0;0m\n",
      "Performing Classification for LBP + gaussian\n",
      "Best method name for LBP + gaussian: LogReg\n",
      "Classification Report:\n",
      "              precision    recall  f1-score   support\n",
      "\n",
      "           0       0.96      0.80      0.87        86\n",
      "           1       0.73      0.94      0.82        50\n",
      "\n",
      "    accuracy                           0.85       136\n",
      "   macro avg       0.85      0.87      0.85       136\n",
      "weighted avg       0.88      0.85      0.86       136\n",
      "\n",
      "=====================================================================\n",
      "\u001b[1mComputing results for HOG\u001b[0;0m\n",
      "Applying best preprocessing :\n",
      " {'filter': 'gaussian', 'filter_params': [[7, 7], 2], 'histogram': 'standard', 'normalize': True, 'f1-score': 0.8870119080587096} \n",
      "\n",
      "Applying best method parameters:\n",
      " {'orientations': 5, 'pixels_per_cell': [32, 32]} \n",
      "\n",
      "============================================\n",
      "\u001b[1mExtracting Structural Features using HOG\u001b[0;0m\n",
      "Performing Classification for HOG + gaussian\n",
      "Best method name for HOG + gaussian: RandomForest\n",
      "Classification Report:\n",
      "              precision    recall  f1-score   support\n",
      "\n",
      "           0       0.99      0.86      0.92        86\n",
      "           1       0.80      0.98      0.88        50\n",
      "\n",
      "    accuracy                           0.90       136\n",
      "   macro avg       0.89      0.92      0.90       136\n",
      "weighted avg       0.92      0.90      0.91       136\n",
      "\n"
     ]
    }
   ],
   "source": [
    "dict_features = {}\n",
    "dict_num_features = {}\n",
    "\n",
    "for method_name, best_config in best_configs_processing.items():\n",
    "\n",
    "    if method_name in best_configs_methods:\n",
    "        best_params_method = best_configs_methods[method_name]\n",
    "    else:\n",
    "        best_params_method = None\n",
    "\n",
    "    print(\"=====================================================================\")\n",
    "    print(f\"\\033[1mComputing results for {method_name}\\033[0;0m\")\n",
    "    print(f\"Applying best preprocessing :\\n {best_config} \\n\")\n",
    "    print(f\"Applying best method parameters:\\n {best_params_method} \\n\")\n",
    "\n",
    "    env_images.apply_preprocessing(best_config)\n",
    "\n",
    "    env_feature_extraction = FeatureExtraction(env_images)\n",
    "    feature_extraction_method = getattr(env_feature_extraction, f\"method_{method_name}\")\n",
    "    \n",
    "    method_name_preprocessed = f\"{method_name} + {best_config['filter']}\"\n",
    "\n",
    "    metrics_results_best_methods, df_features = perform_classification(\n",
    "        method_name_preprocessed, df_Y, name_best_models, metrics_results_best_methods, best_params_method, feature_extraction_method=feature_extraction_method\n",
    "    )\n",
    "\n",
    "    # To be able to reuse features later on\n",
    "    dict_features[method_name] = df_features\n",
    "    \n",
    "    # To have informations about number of features in final dataframe\n",
    "    dict_num_features[method_name] = df_features.shape[1]\n",
    "    dict_num_features[method_name_preprocessed] = df_features.shape[1]"
   ]
  },
  {
   "cell_type": "markdown",
   "metadata": {},
   "source": [
    "# III. Overall results"
   ]
  },
  {
   "cell_type": "code",
   "execution_count": 16,
   "metadata": {},
   "outputs": [
    {
     "data": {
      "text/html": [
       "<style type=\"text/css\">\n",
       "#T_fb830_row17_col1, #T_fb830_row17_col2, #T_fb830_row17_col3, #T_fb830_row17_col4, #T_fb830_row17_col5 {\n",
       "  background-color: yellow;\n",
       "}\n",
       "</style>\n",
       "<table id=\"T_fb830\">\n",
       "  <thead>\n",
       "    <tr>\n",
       "      <th class=\"blank level0\" >&nbsp;</th>\n",
       "      <th id=\"T_fb830_level0_col0\" class=\"col_heading level0 col0\" >Best models</th>\n",
       "      <th id=\"T_fb830_level0_col1\" class=\"col_heading level0 col1\" >accuracy</th>\n",
       "      <th id=\"T_fb830_level0_col2\" class=\"col_heading level0 col2\" >f1-score</th>\n",
       "      <th id=\"T_fb830_level0_col3\" class=\"col_heading level0 col3\" >recall</th>\n",
       "      <th id=\"T_fb830_level0_col4\" class=\"col_heading level0 col4\" >precision</th>\n",
       "      <th id=\"T_fb830_level0_col5\" class=\"col_heading level0 col5\" >roc_auc</th>\n",
       "      <th id=\"T_fb830_level0_col6\" class=\"col_heading level0 col6\" >Number of features</th>\n",
       "    </tr>\n",
       "  </thead>\n",
       "  <tbody>\n",
       "    <tr>\n",
       "      <th id=\"T_fb830_level0_row0\" class=\"row_heading level0 row0\" >SIFT</th>\n",
       "      <td id=\"T_fb830_row0_col0\" class=\"data row0 col0\" >RandomForest</td>\n",
       "      <td id=\"T_fb830_row0_col1\" class=\"data row0 col1\" >0.7500</td>\n",
       "      <td id=\"T_fb830_row0_col2\" class=\"data row0 col2\" >0.7389</td>\n",
       "      <td id=\"T_fb830_row0_col3\" class=\"data row0 col3\" >0.7479</td>\n",
       "      <td id=\"T_fb830_row0_col4\" class=\"data row0 col4\" >0.7356</td>\n",
       "      <td id=\"T_fb830_row0_col5\" class=\"data row0 col5\" >0.7479</td>\n",
       "      <td id=\"T_fb830_row0_col6\" class=\"data row0 col6\" >5</td>\n",
       "    </tr>\n",
       "    <tr>\n",
       "      <th id=\"T_fb830_level0_row1\" class=\"row_heading level0 row1\" >ORB</th>\n",
       "      <td id=\"T_fb830_row1_col0\" class=\"data row1 col0\" >LogReg</td>\n",
       "      <td id=\"T_fb830_row1_col1\" class=\"data row1 col1\" >0.6103</td>\n",
       "      <td id=\"T_fb830_row1_col2\" class=\"data row1 col2\" >0.5967</td>\n",
       "      <td id=\"T_fb830_row1_col3\" class=\"data row1 col3\" >0.6040</td>\n",
       "      <td id=\"T_fb830_row1_col4\" class=\"data row1 col4\" >0.5977</td>\n",
       "      <td id=\"T_fb830_row1_col5\" class=\"data row1 col5\" >0.6040</td>\n",
       "      <td id=\"T_fb830_row1_col6\" class=\"data row1 col6\" >5</td>\n",
       "    </tr>\n",
       "    <tr>\n",
       "      <th id=\"T_fb830_level0_row2\" class=\"row_heading level0 row2\" >Harris</th>\n",
       "      <td id=\"T_fb830_row2_col0\" class=\"data row2 col0\" >LogReg</td>\n",
       "      <td id=\"T_fb830_row2_col1\" class=\"data row2 col1\" >0.7647</td>\n",
       "      <td id=\"T_fb830_row2_col2\" class=\"data row2 col2\" >0.7614</td>\n",
       "      <td id=\"T_fb830_row2_col3\" class=\"data row2 col3\" >0.7888</td>\n",
       "      <td id=\"T_fb830_row2_col4\" class=\"data row2 col4\" >0.7688</td>\n",
       "      <td id=\"T_fb830_row2_col5\" class=\"data row2 col5\" >0.7888</td>\n",
       "      <td id=\"T_fb830_row2_col6\" class=\"data row2 col6\" >7</td>\n",
       "    </tr>\n",
       "    <tr>\n",
       "      <th id=\"T_fb830_level0_row3\" class=\"row_heading level0 row3\" >EDGE</th>\n",
       "      <td id=\"T_fb830_row3_col0\" class=\"data row3 col0\" >LogReg</td>\n",
       "      <td id=\"T_fb830_row3_col1\" class=\"data row3 col1\" >0.8309</td>\n",
       "      <td id=\"T_fb830_row3_col2\" class=\"data row3 col2\" >0.8239</td>\n",
       "      <td id=\"T_fb830_row3_col3\" class=\"data row3 col3\" >0.8370</td>\n",
       "      <td id=\"T_fb830_row3_col4\" class=\"data row3 col4\" >0.8190</td>\n",
       "      <td id=\"T_fb830_row3_col5\" class=\"data row3 col5\" >0.8370</td>\n",
       "      <td id=\"T_fb830_row3_col6\" class=\"data row3 col6\" >20</td>\n",
       "    </tr>\n",
       "    <tr>\n",
       "      <th id=\"T_fb830_level0_row4\" class=\"row_heading level0 row4\" >Otsu</th>\n",
       "      <td id=\"T_fb830_row4_col0\" class=\"data row4 col0\" >RandomForest</td>\n",
       "      <td id=\"T_fb830_row4_col1\" class=\"data row4 col1\" >0.6397</td>\n",
       "      <td id=\"T_fb830_row4_col2\" class=\"data row4 col2\" >0.5997</td>\n",
       "      <td id=\"T_fb830_row4_col3\" class=\"data row4 col3\" >0.5979</td>\n",
       "      <td id=\"T_fb830_row4_col4\" class=\"data row4 col4\" >0.6053</td>\n",
       "      <td id=\"T_fb830_row4_col5\" class=\"data row4 col5\" >0.5979</td>\n",
       "      <td id=\"T_fb830_row4_col6\" class=\"data row4 col6\" >256</td>\n",
       "    </tr>\n",
       "    <tr>\n",
       "      <th id=\"T_fb830_level0_row5\" class=\"row_heading level0 row5\" >Adaptive</th>\n",
       "      <td id=\"T_fb830_row5_col0\" class=\"data row5 col0\" >RandomForest</td>\n",
       "      <td id=\"T_fb830_row5_col1\" class=\"data row5 col1\" >0.5662</td>\n",
       "      <td id=\"T_fb830_row5_col2\" class=\"data row5 col2\" >0.5575</td>\n",
       "      <td id=\"T_fb830_row5_col3\" class=\"data row5 col3\" >0.6486</td>\n",
       "      <td id=\"T_fb830_row5_col4\" class=\"data row5 col4\" >0.6963</td>\n",
       "      <td id=\"T_fb830_row5_col5\" class=\"data row5 col5\" >0.6486</td>\n",
       "      <td id=\"T_fb830_row5_col6\" class=\"data row5 col6\" >256</td>\n",
       "    </tr>\n",
       "    <tr>\n",
       "      <th id=\"T_fb830_level0_row6\" class=\"row_heading level0 row6\" >Gabor</th>\n",
       "      <td id=\"T_fb830_row6_col0\" class=\"data row6 col0\" >RandomForest</td>\n",
       "      <td id=\"T_fb830_row6_col1\" class=\"data row6 col1\" >0.5368</td>\n",
       "      <td id=\"T_fb830_row6_col2\" class=\"data row6 col2\" >0.5078</td>\n",
       "      <td id=\"T_fb830_row6_col3\" class=\"data row6 col3\" >0.5081</td>\n",
       "      <td id=\"T_fb830_row6_col4\" class=\"data row6 col4\" >0.5080</td>\n",
       "      <td id=\"T_fb830_row6_col5\" class=\"data row6 col5\" >0.5081</td>\n",
       "      <td id=\"T_fb830_row6_col6\" class=\"data row6 col6\" >12</td>\n",
       "    </tr>\n",
       "    <tr>\n",
       "      <th id=\"T_fb830_level0_row7\" class=\"row_heading level0 row7\" >LBP</th>\n",
       "      <td id=\"T_fb830_row7_col0\" class=\"data row7 col0\" >LogReg</td>\n",
       "      <td id=\"T_fb830_row7_col1\" class=\"data row7 col1\" >0.8015</td>\n",
       "      <td id=\"T_fb830_row7_col2\" class=\"data row7 col2\" >0.7933</td>\n",
       "      <td id=\"T_fb830_row7_col3\" class=\"data row7 col3\" >0.8053</td>\n",
       "      <td id=\"T_fb830_row7_col4\" class=\"data row7 col4\" >0.7890</td>\n",
       "      <td id=\"T_fb830_row7_col5\" class=\"data row7 col5\" >0.8053</td>\n",
       "      <td id=\"T_fb830_row7_col6\" class=\"data row7 col6\" >26</td>\n",
       "    </tr>\n",
       "    <tr>\n",
       "      <th id=\"T_fb830_level0_row8\" class=\"row_heading level0 row8\" >HOG</th>\n",
       "      <td id=\"T_fb830_row8_col0\" class=\"data row8 col0\" >RandomForest</td>\n",
       "      <td id=\"T_fb830_row8_col1\" class=\"data row8 col1\" >0.8382</td>\n",
       "      <td id=\"T_fb830_row8_col2\" class=\"data row8 col2\" >0.8330</td>\n",
       "      <td id=\"T_fb830_row8_col3\" class=\"data row8 col3\" >0.8512</td>\n",
       "      <td id=\"T_fb830_row8_col4\" class=\"data row8 col4\" >0.8291</td>\n",
       "      <td id=\"T_fb830_row8_col5\" class=\"data row8 col5\" >0.8512</td>\n",
       "      <td id=\"T_fb830_row8_col6\" class=\"data row8 col6\" >980</td>\n",
       "    </tr>\n",
       "    <tr>\n",
       "      <th id=\"T_fb830_level0_row9\" class=\"row_heading level0 row9\" >SIFT + bilateral</th>\n",
       "      <td id=\"T_fb830_row9_col0\" class=\"data row9 col0\" >RandomForest</td>\n",
       "      <td id=\"T_fb830_row9_col1\" class=\"data row9 col1\" >0.7132</td>\n",
       "      <td id=\"T_fb830_row9_col2\" class=\"data row9 col2\" >0.7087</td>\n",
       "      <td id=\"T_fb830_row9_col3\" class=\"data row9 col3\" >0.7314</td>\n",
       "      <td id=\"T_fb830_row9_col4\" class=\"data row9 col4\" >0.7152</td>\n",
       "      <td id=\"T_fb830_row9_col5\" class=\"data row9 col5\" >0.7314</td>\n",
       "      <td id=\"T_fb830_row9_col6\" class=\"data row9 col6\" >5</td>\n",
       "    </tr>\n",
       "    <tr>\n",
       "      <th id=\"T_fb830_level0_row10\" class=\"row_heading level0 row10\" >ORB + bilateral</th>\n",
       "      <td id=\"T_fb830_row10_col0\" class=\"data row10 col0\" >LogReg</td>\n",
       "      <td id=\"T_fb830_row10_col1\" class=\"data row10 col1\" >0.5588</td>\n",
       "      <td id=\"T_fb830_row10_col2\" class=\"data row10 col2\" >0.5363</td>\n",
       "      <td id=\"T_fb830_row10_col3\" class=\"data row10 col3\" >0.5381</td>\n",
       "      <td id=\"T_fb830_row10_col4\" class=\"data row10 col4\" >0.5366</td>\n",
       "      <td id=\"T_fb830_row10_col5\" class=\"data row10 col5\" >0.5381</td>\n",
       "      <td id=\"T_fb830_row10_col6\" class=\"data row10 col6\" >5</td>\n",
       "    </tr>\n",
       "    <tr>\n",
       "      <th id=\"T_fb830_level0_row11\" class=\"row_heading level0 row11\" >Harris + bilateral</th>\n",
       "      <td id=\"T_fb830_row11_col0\" class=\"data row11 col0\" >LogReg</td>\n",
       "      <td id=\"T_fb830_row11_col1\" class=\"data row11 col1\" >0.7647</td>\n",
       "      <td id=\"T_fb830_row11_col2\" class=\"data row11 col2\" >0.7584</td>\n",
       "      <td id=\"T_fb830_row11_col3\" class=\"data row11 col3\" >0.7763</td>\n",
       "      <td id=\"T_fb830_row11_col4\" class=\"data row11 col4\" >0.7578</td>\n",
       "      <td id=\"T_fb830_row11_col5\" class=\"data row11 col5\" >0.7763</td>\n",
       "      <td id=\"T_fb830_row11_col6\" class=\"data row11 col6\" >7</td>\n",
       "    </tr>\n",
       "    <tr>\n",
       "      <th id=\"T_fb830_level0_row12\" class=\"row_heading level0 row12\" >EDGE + bilateral</th>\n",
       "      <td id=\"T_fb830_row12_col0\" class=\"data row12 col0\" >LogReg</td>\n",
       "      <td id=\"T_fb830_row12_col1\" class=\"data row12 col1\" >0.7647</td>\n",
       "      <td id=\"T_fb830_row12_col2\" class=\"data row12 col2\" >0.7622</td>\n",
       "      <td id=\"T_fb830_row12_col3\" class=\"data row12 col3\" >0.7930</td>\n",
       "      <td id=\"T_fb830_row12_col4\" class=\"data row12 col4\" >0.7734</td>\n",
       "      <td id=\"T_fb830_row12_col5\" class=\"data row12 col5\" >0.7930</td>\n",
       "      <td id=\"T_fb830_row12_col6\" class=\"data row12 col6\" >20</td>\n",
       "    </tr>\n",
       "    <tr>\n",
       "      <th id=\"T_fb830_level0_row13\" class=\"row_heading level0 row13\" >Otsu + gaussian</th>\n",
       "      <td id=\"T_fb830_row13_col0\" class=\"data row13 col0\" >RandomForest</td>\n",
       "      <td id=\"T_fb830_row13_col1\" class=\"data row13 col1\" >0.6985</td>\n",
       "      <td id=\"T_fb830_row13_col2\" class=\"data row13 col2\" >0.6492</td>\n",
       "      <td id=\"T_fb830_row13_col3\" class=\"data row13 col3\" >0.6444</td>\n",
       "      <td id=\"T_fb830_row13_col4\" class=\"data row13 col4\" >0.6757</td>\n",
       "      <td id=\"T_fb830_row13_col5\" class=\"data row13 col5\" >0.6444</td>\n",
       "      <td id=\"T_fb830_row13_col6\" class=\"data row13 col6\" >256</td>\n",
       "    </tr>\n",
       "    <tr>\n",
       "      <th id=\"T_fb830_level0_row14\" class=\"row_heading level0 row14\" >Adaptive + bilateral</th>\n",
       "      <td id=\"T_fb830_row14_col0\" class=\"data row14 col0\" >LogReg</td>\n",
       "      <td id=\"T_fb830_row14_col1\" class=\"data row14 col1\" >0.6176</td>\n",
       "      <td id=\"T_fb830_row14_col2\" class=\"data row14 col2\" >0.5888</td>\n",
       "      <td id=\"T_fb830_row14_col3\" class=\"data row14 col3\" >0.5888</td>\n",
       "      <td id=\"T_fb830_row14_col4\" class=\"data row14 col4\" >0.5888</td>\n",
       "      <td id=\"T_fb830_row14_col5\" class=\"data row14 col5\" >0.5888</td>\n",
       "      <td id=\"T_fb830_row14_col6\" class=\"data row14 col6\" >256</td>\n",
       "    </tr>\n",
       "    <tr>\n",
       "      <th id=\"T_fb830_level0_row15\" class=\"row_heading level0 row15\" >Gabor + bilateral</th>\n",
       "      <td id=\"T_fb830_row15_col0\" class=\"data row15 col0\" >LogReg</td>\n",
       "      <td id=\"T_fb830_row15_col1\" class=\"data row15 col1\" >0.7794</td>\n",
       "      <td id=\"T_fb830_row15_col2\" class=\"data row15 col2\" >0.7696</td>\n",
       "      <td id=\"T_fb830_row15_col3\" class=\"data row15 col3\" >0.7795</td>\n",
       "      <td id=\"T_fb830_row15_col4\" class=\"data row15 col4\" >0.7657</td>\n",
       "      <td id=\"T_fb830_row15_col5\" class=\"data row15 col5\" >0.7795</td>\n",
       "      <td id=\"T_fb830_row15_col6\" class=\"data row15 col6\" >12</td>\n",
       "    </tr>\n",
       "    <tr>\n",
       "      <th id=\"T_fb830_level0_row16\" class=\"row_heading level0 row16\" >LBP + gaussian</th>\n",
       "      <td id=\"T_fb830_row16_col0\" class=\"data row16 col0\" >LogReg</td>\n",
       "      <td id=\"T_fb830_row16_col1\" class=\"data row16 col1\" >0.8529</td>\n",
       "      <td id=\"T_fb830_row16_col2\" class=\"data row16 col2\" >0.8490</td>\n",
       "      <td id=\"T_fb830_row16_col3\" class=\"data row16 col3\" >0.8712</td>\n",
       "      <td id=\"T_fb830_row16_col4\" class=\"data row16 col4\" >0.8464</td>\n",
       "      <td id=\"T_fb830_row16_col5\" class=\"data row16 col5\" >0.8712</td>\n",
       "      <td id=\"T_fb830_row16_col6\" class=\"data row16 col6\" >26</td>\n",
       "    </tr>\n",
       "    <tr>\n",
       "      <th id=\"T_fb830_level0_row17\" class=\"row_heading level0 row17\" >HOG + gaussian</th>\n",
       "      <td id=\"T_fb830_row17_col0\" class=\"data row17 col0\" >RandomForest</td>\n",
       "      <td id=\"T_fb830_row17_col1\" class=\"data row17 col1\" >0.9044</td>\n",
       "      <td id=\"T_fb830_row17_col2\" class=\"data row17 col2\" >0.9011</td>\n",
       "      <td id=\"T_fb830_row17_col3\" class=\"data row17 col3\" >0.9202</td>\n",
       "      <td id=\"T_fb830_row17_col4\" class=\"data row17 col4\" >0.8950</td>\n",
       "      <td id=\"T_fb830_row17_col5\" class=\"data row17 col5\" >0.9202</td>\n",
       "      <td id=\"T_fb830_row17_col6\" class=\"data row17 col6\" >980</td>\n",
       "    </tr>\n",
       "  </tbody>\n",
       "</table>\n"
      ],
      "text/plain": [
       "<pandas.io.formats.style.Styler at 0x180b0ca3f10>"
      ]
     },
     "execution_count": 16,
     "metadata": {},
     "output_type": "execute_result"
    }
   ],
   "source": [
    "df_best_models_f1_score = pd.DataFrame(metrics_results_best_methods)\n",
    "df_best_models_f1_score.insert(0, 'Best models', name_best_models)\n",
    "df_best_models_f1_score.insert(6, 'Number of features', dict_num_features)\n",
    "df_best_models_f1_score= df_best_models_f1_score.map(lambda x: f'{x:.4f}' if isinstance(x, float) else x)\n",
    "df_best_models_f1_score.style.highlight_max(axis=0, subset=df_best_models_f1_score.columns[1:6])"
   ]
  },
  {
   "cell_type": "markdown",
   "metadata": {},
   "source": [
    "# IV. Combining some features"
   ]
  },
  {
   "cell_type": "code",
   "execution_count": 17,
   "metadata": {},
   "outputs": [],
   "source": [
    "metrics_results_concatenated_features = {\n",
    "        \"accuracy\" : {},\n",
    "        \"f1-score\" : {},\n",
    "        \"recall\" : {},\n",
    "        \"precision\" : {},\n",
    "        \"roc_auc\" : {}\n",
    "        }\n",
    "\n",
    "name_best_models_concatenated_features = {}\n",
    "\n",
    "dict_num_concatenated_features = {}\n"
   ]
  },
  {
   "cell_type": "markdown",
   "metadata": {},
   "source": [
    "## 1. SIFT + Edge"
   ]
  },
  {
   "cell_type": "code",
   "execution_count": 18,
   "metadata": {},
   "outputs": [
    {
     "name": "stdout",
     "output_type": "stream",
     "text": [
      "Performing Classification for SIFT + Edge\n",
      "Best method name for SIFT + Edge: LogReg\n",
      "Classification Report:\n",
      "              precision    recall  f1-score   support\n",
      "\n",
      "           0       0.89      0.74      0.81        86\n",
      "           1       0.66      0.84      0.74        50\n",
      "\n",
      "    accuracy                           0.78       136\n",
      "   macro avg       0.77      0.79      0.77       136\n",
      "weighted avg       0.80      0.78      0.78       136\n",
      "\n"
     ]
    }
   ],
   "source": [
    "df_features_SIFT_Edge = env_feature_extraction_unprocessed_images.concatenate_features([dict_features[\"SIFT\"], dict_features[\"EDGE\"]])\n",
    "\n",
    "metrics_results_concatenated_features, _ = perform_classification(\n",
    "    'SIFT + Edge', df_Y, name_best_models_concatenated_features, metrics_results_concatenated_features, df_features=df_features_SIFT_Edge\n",
    ")\n",
    "\n",
    "dict_num_concatenated_features['SIFT + Edge'] = df_features_SIFT_Edge.shape[1]"
   ]
  },
  {
   "cell_type": "markdown",
   "metadata": {},
   "source": [
    "## 2. SIFT + HOG"
   ]
  },
  {
   "cell_type": "code",
   "execution_count": 19,
   "metadata": {},
   "outputs": [
    {
     "name": "stdout",
     "output_type": "stream",
     "text": [
      "Performing Classification for SIFT + HOG\n",
      "Best method name for SIFT + HOG: RandomForest\n",
      "Classification Report:\n",
      "              precision    recall  f1-score   support\n",
      "\n",
      "           0       0.95      0.86      0.90        86\n",
      "           1       0.79      0.92      0.85        50\n",
      "\n",
      "    accuracy                           0.88       136\n",
      "   macro avg       0.87      0.89      0.88       136\n",
      "weighted avg       0.89      0.88      0.88       136\n",
      "\n"
     ]
    }
   ],
   "source": [
    "df_features_SIFT_HOG = env_feature_extraction_unprocessed_images.concatenate_features([dict_features[\"SIFT\"], dict_features[\"HOG\"]])\n",
    "\n",
    "metrics_results_concatenated_features, _ = perform_classification(\n",
    "    'SIFT + HOG', df_Y, name_best_models_concatenated_features, metrics_results_concatenated_features, df_features=df_features_SIFT_HOG # , dim_reduction=\"PCA\"\n",
    ")\n",
    "\n",
    "dict_num_concatenated_features['SIFT + HOG'] = df_features_SIFT_HOG.shape[1]"
   ]
  },
  {
   "cell_type": "markdown",
   "metadata": {},
   "source": [
    "## 3. HOG with PCA + SIFT"
   ]
  },
  {
   "cell_type": "code",
   "execution_count": 20,
   "metadata": {},
   "outputs": [
    {
     "name": "stdout",
     "output_type": "stream",
     "text": [
      "Performing Classification for HOG with PCA\n",
      "Number of components for the chosen cumulative variance: 209\n",
      "Best method name for HOG with PCA: LogReg\n",
      "Classification Report:\n",
      "              precision    recall  f1-score   support\n",
      "\n",
      "           0       0.96      0.81      0.88        86\n",
      "           1       0.75      0.94      0.83        50\n",
      "\n",
      "    accuracy                           0.86       136\n",
      "   macro avg       0.85      0.88      0.86       136\n",
      "weighted avg       0.88      0.86      0.86       136\n",
      "\n"
     ]
    }
   ],
   "source": [
    "metrics_results_concatenated_features, df_features_HOG_PCA, n_pca = perform_classification(\n",
    "    'HOG with PCA', df_Y, name_best_models_concatenated_features, metrics_results_concatenated_features, df_features=dict_features[\"HOG\"], dim_reduction=\"PCA\"\n",
    ")\n",
    "\n",
    "dict_num_concatenated_features['HOG with PCA'] = n_pca"
   ]
  },
  {
   "cell_type": "code",
   "execution_count": 21,
   "metadata": {},
   "outputs": [
    {
     "name": "stdout",
     "output_type": "stream",
     "text": [
      "Performing Classification for SIFT + HOG with PCA\n",
      "Number of components for the chosen cumulative variance: 211\n",
      "Best method name for SIFT + HOG with PCA: LogReg\n",
      "Classification Report:\n",
      "              precision    recall  f1-score   support\n",
      "\n",
      "           0       0.96      0.80      0.87        86\n",
      "           1       0.73      0.94      0.82        50\n",
      "\n",
      "    accuracy                           0.85       136\n",
      "   macro avg       0.85      0.87      0.85       136\n",
      "weighted avg       0.88      0.85      0.86       136\n",
      "\n"
     ]
    }
   ],
   "source": [
    "df_features_SIFT_HOG_PCA = env_feature_extraction_unprocessed_images.concatenate_features([dict_features[\"SIFT\"], dict_features[\"HOG\"]])\n",
    "\n",
    "metrics_results_concatenated_features, _ , n_pca = perform_classification(\n",
    "    'SIFT + HOG with PCA', df_Y, name_best_models_concatenated_features, metrics_results_concatenated_features, df_features=df_features_SIFT_HOG_PCA, dim_reduction=\"PCA\"\n",
    ")\n",
    "\n",
    "dict_num_concatenated_features['SIFT + HOG with PCA'] = n_pca"
   ]
  },
  {
   "cell_type": "code",
   "execution_count": 22,
   "metadata": {},
   "outputs": [
    {
     "data": {
      "text/html": [
       "<style type=\"text/css\">\n",
       "#T_8e430_row1_col1, #T_8e430_row1_col2, #T_8e430_row1_col3, #T_8e430_row1_col4, #T_8e430_row1_col5 {\n",
       "  background-color: yellow;\n",
       "}\n",
       "</style>\n",
       "<table id=\"T_8e430\">\n",
       "  <thead>\n",
       "    <tr>\n",
       "      <th class=\"blank level0\" >&nbsp;</th>\n",
       "      <th id=\"T_8e430_level0_col0\" class=\"col_heading level0 col0\" >Best models</th>\n",
       "      <th id=\"T_8e430_level0_col1\" class=\"col_heading level0 col1\" >accuracy</th>\n",
       "      <th id=\"T_8e430_level0_col2\" class=\"col_heading level0 col2\" >f1-score</th>\n",
       "      <th id=\"T_8e430_level0_col3\" class=\"col_heading level0 col3\" >recall</th>\n",
       "      <th id=\"T_8e430_level0_col4\" class=\"col_heading level0 col4\" >precision</th>\n",
       "      <th id=\"T_8e430_level0_col5\" class=\"col_heading level0 col5\" >roc_auc</th>\n",
       "      <th id=\"T_8e430_level0_col6\" class=\"col_heading level0 col6\" >Number of features</th>\n",
       "    </tr>\n",
       "  </thead>\n",
       "  <tbody>\n",
       "    <tr>\n",
       "      <th id=\"T_8e430_level0_row0\" class=\"row_heading level0 row0\" >SIFT + Edge</th>\n",
       "      <td id=\"T_8e430_row0_col0\" class=\"data row0 col0\" >LogReg</td>\n",
       "      <td id=\"T_8e430_row0_col1\" class=\"data row0 col1\" >0.7794</td>\n",
       "      <td id=\"T_8e430_row0_col2\" class=\"data row0 col2\" >0.7735</td>\n",
       "      <td id=\"T_8e430_row0_col3\" class=\"data row0 col3\" >0.7921</td>\n",
       "      <td id=\"T_8e430_row0_col4\" class=\"data row0 col4\" >0.7726</td>\n",
       "      <td id=\"T_8e430_row0_col5\" class=\"data row0 col5\" >0.7921</td>\n",
       "      <td id=\"T_8e430_row0_col6\" class=\"data row0 col6\" >25</td>\n",
       "    </tr>\n",
       "    <tr>\n",
       "      <th id=\"T_8e430_level0_row1\" class=\"row_heading level0 row1\" >SIFT + HOG</th>\n",
       "      <td id=\"T_8e430_row1_col0\" class=\"data row1 col0\" >RandomForest</td>\n",
       "      <td id=\"T_8e430_row1_col1\" class=\"data row1 col1\" >0.8824</td>\n",
       "      <td id=\"T_8e430_row1_col2\" class=\"data row1 col2\" >0.8771</td>\n",
       "      <td id=\"T_8e430_row1_col3\" class=\"data row1 col3\" >0.8902</td>\n",
       "      <td id=\"T_8e430_row1_col4\" class=\"data row1 col4\" >0.8709</td>\n",
       "      <td id=\"T_8e430_row1_col5\" class=\"data row1 col5\" >0.8902</td>\n",
       "      <td id=\"T_8e430_row1_col6\" class=\"data row1 col6\" >985</td>\n",
       "    </tr>\n",
       "    <tr>\n",
       "      <th id=\"T_8e430_level0_row2\" class=\"row_heading level0 row2\" >HOG with PCA</th>\n",
       "      <td id=\"T_8e430_row2_col0\" class=\"data row2 col0\" >LogReg</td>\n",
       "      <td id=\"T_8e430_row2_col1\" class=\"data row2 col1\" >0.8603</td>\n",
       "      <td id=\"T_8e430_row2_col2\" class=\"data row2 col2\" >0.8562</td>\n",
       "      <td id=\"T_8e430_row2_col3\" class=\"data row2 col3\" >0.8770</td>\n",
       "      <td id=\"T_8e430_row2_col4\" class=\"data row2 col4\" >0.8525</td>\n",
       "      <td id=\"T_8e430_row2_col5\" class=\"data row2 col5\" >0.8770</td>\n",
       "      <td id=\"T_8e430_row2_col6\" class=\"data row2 col6\" >209</td>\n",
       "    </tr>\n",
       "    <tr>\n",
       "      <th id=\"T_8e430_level0_row3\" class=\"row_heading level0 row3\" >SIFT + HOG with PCA</th>\n",
       "      <td id=\"T_8e430_row3_col0\" class=\"data row3 col0\" >LogReg</td>\n",
       "      <td id=\"T_8e430_row3_col1\" class=\"data row3 col1\" >0.8529</td>\n",
       "      <td id=\"T_8e430_row3_col2\" class=\"data row3 col2\" >0.8490</td>\n",
       "      <td id=\"T_8e430_row3_col3\" class=\"data row3 col3\" >0.8712</td>\n",
       "      <td id=\"T_8e430_row3_col4\" class=\"data row3 col4\" >0.8464</td>\n",
       "      <td id=\"T_8e430_row3_col5\" class=\"data row3 col5\" >0.8712</td>\n",
       "      <td id=\"T_8e430_row3_col6\" class=\"data row3 col6\" >211</td>\n",
       "    </tr>\n",
       "  </tbody>\n",
       "</table>\n"
      ],
      "text/plain": [
       "<pandas.io.formats.style.Styler at 0x180b5e7b8d0>"
      ]
     },
     "execution_count": 22,
     "metadata": {},
     "output_type": "execute_result"
    }
   ],
   "source": [
    "df_best_models_mixed_features_best_f1 = pd.DataFrame(metrics_results_concatenated_features)\n",
    "df_best_models_mixed_features_best_f1.insert(0, 'Best models', name_best_models_concatenated_features)\n",
    "df_best_models_mixed_features_best_f1.insert(6, 'Number of features', dict_num_concatenated_features)\n",
    "df_best_models_mixed_features_best_f1= df_best_models_mixed_features_best_f1.map(lambda x: f'{x:.4f}' if isinstance(x, float) else x)\n",
    "df_best_models_mixed_features_best_f1.style.highlight_max(axis=0, subset=df_best_models_mixed_features_best_f1.columns[1:6])"
   ]
  }
 ],
 "metadata": {
  "kernelspec": {
   "display_name": "base",
   "language": "python",
   "name": "python3"
  },
  "language_info": {
   "codemirror_mode": {
    "name": "ipython",
    "version": 3
   },
   "file_extension": ".py",
   "mimetype": "text/x-python",
   "name": "python",
   "nbconvert_exporter": "python",
   "pygments_lexer": "ipython3",
   "version": "3.11.7"
  }
 },
 "nbformat": 4,
 "nbformat_minor": 2
}
