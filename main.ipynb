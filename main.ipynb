{
 "cells": [
  {
   "cell_type": "code",
   "execution_count": 1,
   "metadata": {},
   "outputs": [],
   "source": [
    "from Classification import classification_class as classification\n",
    "from Features_extraction.feature_extraction_class import FeatureExtraction\n",
    "from Data_processing.images_processing_class import ImagesProcessing\n",
    "from utils import perform_classification\n",
    "\n",
    "import pandas as pd\n",
    "import numpy as np\n",
    "import cv2\n",
    "import json"
   ]
  },
  {
   "cell_type": "code",
   "execution_count": 2,
   "metadata": {},
   "outputs": [],
   "source": [
    "metrics_results_best_methods = {\n",
    "        \"accuracy\" : {},\n",
    "        \"f1-score\" : {},\n",
    "        \"recall\" : {},\n",
    "        \"precision\" : {},\n",
    "        \"roc_auc\" : {}\n",
    "        }\n",
    "\n",
    "name_best_models = {}"
   ]
  },
  {
   "cell_type": "code",
   "execution_count": 3,
   "metadata": {},
   "outputs": [],
   "source": [
    "data_normal_path = \"Data/normal/\"\n",
    "data_pothole_path = \"Data/potholes/\"\n",
    "\n",
    "env_images = ImagesProcessing(folder_normal=data_normal_path, folder_potholes=data_pothole_path, img_size=(256, 256))\n",
    "\n",
    "Y = env_images.labels\n",
    "df_Y = pd.DataFrame(Y)"
   ]
  },
  {
   "cell_type": "code",
   "execution_count": 4,
   "metadata": {},
   "outputs": [],
   "source": [
    "with open(\"best_configs_processing.json\", \"r\") as f:\n",
    "    best_configs_processing = json.load(f)\n",
    "\n",
    "with open(\"best_configs_methods.json\", \"r\") as f:\n",
    "    best_configs_methods = json.load(f)"
   ]
  },
  {
   "cell_type": "markdown",
   "metadata": {},
   "source": [
    "# I. Unprocessed images"
   ]
  },
  {
   "cell_type": "code",
   "execution_count": 5,
   "metadata": {},
   "outputs": [],
   "source": [
    "env_feature_extraction_unprocessed_images = FeatureExtraction(env_images)"
   ]
  },
  {
   "cell_type": "markdown",
   "metadata": {},
   "source": [
    "## 1. Point of interest detection"
   ]
  },
  {
   "cell_type": "code",
   "execution_count": 6,
   "metadata": {},
   "outputs": [
    {
     "name": "stdout",
     "output_type": "stream",
     "text": [
      "============================================\n",
      "\u001b[1mExtracting SIFT Features\u001b[0;0m\n",
      "Performing Classification for SIFT\n",
      "Best method name for SIFT: RandomForest\n",
      "Classification Report:\n",
      "              precision    recall  f1-score   support\n",
      "\n",
      "           0       0.83      0.76      0.79        86\n",
      "           1       0.64      0.74      0.69        50\n",
      "\n",
      "    accuracy                           0.75       136\n",
      "   macro avg       0.74      0.75      0.74       136\n",
      "weighted avg       0.76      0.75      0.75       136\n",
      "\n"
     ]
    }
   ],
   "source": [
    "df_features = pd.DataFrame(env_feature_extraction_unprocessed_images.method_SIFT())\n",
    "\n",
    "metrics_results_best_methods, _ = perform_classification(\n",
    "    'SIFT', df_Y, name_best_models, metrics_results_best_methods, df_features=df_features\n",
    ")"
   ]
  },
  {
   "cell_type": "code",
   "execution_count": 7,
   "metadata": {},
   "outputs": [
    {
     "name": "stdout",
     "output_type": "stream",
     "text": [
      "============================================\n",
      "\u001b[1mExtracting ORB Features\u001b[0;0m\n",
      "Performing Classification for ORB\n",
      "Best method name for ORB: RandomForest\n",
      "Classification Report:\n",
      "              precision    recall  f1-score   support\n",
      "\n",
      "           0       0.73      0.60      0.66        86\n",
      "           1       0.48      0.62      0.54        50\n",
      "\n",
      "    accuracy                           0.61       136\n",
      "   macro avg       0.60      0.61      0.60       136\n",
      "weighted avg       0.64      0.61      0.62       136\n",
      "\n"
     ]
    }
   ],
   "source": [
    "df_features = pd.DataFrame(env_feature_extraction_unprocessed_images.method_ORB())\n",
    "\n",
    "metrics_results_best_methods, _ = perform_classification(\n",
    "    'ORB', df_Y, name_best_models, metrics_results_best_methods, df_features=df_features\n",
    ")"
   ]
  },
  {
   "cell_type": "code",
   "execution_count": 8,
   "metadata": {},
   "outputs": [
    {
     "name": "stdout",
     "output_type": "stream",
     "text": [
      "============================================\n",
      "\u001b[1mExtracting Harris Corner Features\u001b[0;0m\n",
      "Performing Classification for Harris\n",
      "Best method name for Harris: RandomForest\n",
      "Classification Report:\n",
      "              precision    recall  f1-score   support\n",
      "\n",
      "           0       0.85      0.73      0.79        86\n",
      "           1       0.63      0.78      0.70        50\n",
      "\n",
      "    accuracy                           0.75       136\n",
      "   macro avg       0.74      0.76      0.74       136\n",
      "weighted avg       0.77      0.75      0.75       136\n",
      "\n"
     ]
    }
   ],
   "source": [
    "df_features_harris = pd.DataFrame(env_feature_extraction_unprocessed_images.method_Harris())\n",
    "\n",
    "metrics_results_best_methods, _ = perform_classification(\n",
    "    'Harris', df_Y, name_best_models, metrics_results_best_methods, df_features=df_features_harris\n",
    ")"
   ]
  },
  {
   "cell_type": "markdown",
   "metadata": {},
   "source": [
    "## 2. Edge detection"
   ]
  },
  {
   "cell_type": "code",
   "execution_count": 9,
   "metadata": {},
   "outputs": [
    {
     "name": "stdout",
     "output_type": "stream",
     "text": [
      "============================================\n",
      "\u001b[1mExtracting Edge features\u001b[0;0m\n",
      "Performing Classification for EDGE\n",
      "Best method name for EDGE: LogReg\n",
      "Classification Report:\n",
      "              precision    recall  f1-score   support\n",
      "\n",
      "           0       0.91      0.81      0.86        86\n",
      "           1       0.73      0.86      0.79        50\n",
      "\n",
      "    accuracy                           0.83       136\n",
      "   macro avg       0.82      0.84      0.82       136\n",
      "weighted avg       0.84      0.83      0.83       136\n",
      "\n"
     ]
    }
   ],
   "source": [
    "df_features_edge = env_feature_extraction_unprocessed_images.method_EDGE()\n",
    "\n",
    "metrics_results_best_methods, _ = perform_classification(\n",
    "    'EDGE', df_Y, name_best_models, metrics_results_best_methods, df_features=df_features_edge\n",
    ")"
   ]
  },
  {
   "cell_type": "markdown",
   "metadata": {},
   "source": [
    "## 3. Thresholding Method"
   ]
  },
  {
   "cell_type": "markdown",
   "metadata": {},
   "source": [
    "### a. Otsu's Thresholding"
   ]
  },
  {
   "cell_type": "code",
   "execution_count": 10,
   "metadata": {},
   "outputs": [
    {
     "name": "stdout",
     "output_type": "stream",
     "text": [
      "============================================\n",
      "\u001b[1mData Segmentation using Otsu's Thresholding\u001b[0;0m\n",
      "Performing Classification for Otsu's thresholding\n",
      "Best method name for Otsu's thresholding: LogReg\n",
      "Classification Report:\n",
      "              precision    recall  f1-score   support\n",
      "\n",
      "           0       0.79      0.73      0.76        86\n",
      "           1       0.59      0.66      0.62        50\n",
      "\n",
      "    accuracy                           0.71       136\n",
      "   macro avg       0.69      0.70      0.69       136\n",
      "weighted avg       0.71      0.71      0.71       136\n",
      "\n"
     ]
    }
   ],
   "source": [
    "df_features_otsu = pd.DataFrame(env_feature_extraction_unprocessed_images.method_otsu())\n",
    "\n",
    "metrics_results_best_methods, _ = perform_classification(\n",
    "    \"Otsu's thresholding\", df_Y, name_best_models, metrics_results_best_methods, df_features=df_features_otsu\n",
    ")"
   ]
  },
  {
   "cell_type": "markdown",
   "metadata": {},
   "source": [
    "### b. Adaptive's Thresholding"
   ]
  },
  {
   "cell_type": "code",
   "execution_count": 11,
   "metadata": {},
   "outputs": [
    {
     "name": "stdout",
     "output_type": "stream",
     "text": [
      "============================================\n",
      "\u001b[1mData Segmentation using Adaptive's Thresholding\u001b[0;0m\n",
      "Performing Classification for Adaptive\n",
      "Best method name for Adaptive: RandomForest\n",
      "Classification Report:\n",
      "              precision    recall  f1-score   support\n",
      "\n",
      "           0       0.94      0.34      0.50        86\n",
      "           1       0.46      0.96      0.62        50\n",
      "\n",
      "    accuracy                           0.57       136\n",
      "   macro avg       0.70      0.65      0.56       136\n",
      "weighted avg       0.76      0.57      0.54       136\n",
      "\n"
     ]
    }
   ],
   "source": [
    "df_features_adaptive = pd.DataFrame(env_feature_extraction_unprocessed_images.method_adaptive())\n",
    "\n",
    "metrics_results_best_methods, _ = perform_classification(\n",
    "    'Adaptive', df_Y, name_best_models, metrics_results_best_methods, df_features=df_features_adaptive\n",
    ")"
   ]
  },
  {
   "cell_type": "markdown",
   "metadata": {},
   "source": [
    "## 4. Texture Feature"
   ]
  },
  {
   "cell_type": "markdown",
   "metadata": {},
   "source": [
    "### a. Frequency-Based Methods"
   ]
  },
  {
   "cell_type": "code",
   "execution_count": 12,
   "metadata": {},
   "outputs": [
    {
     "name": "stdout",
     "output_type": "stream",
     "text": [
      "============================================\n",
      "\u001b[1mExtracting Surface Textures Features using Gabor filters\u001b[0;0m\n",
      "Performing Classification for Gabor\n",
      "Best method name for Gabor: RandomForest\n",
      "Classification Report:\n",
      "              precision    recall  f1-score   support\n",
      "\n",
      "           0       0.64      0.62      0.63        86\n",
      "           1       0.38      0.40      0.39        50\n",
      "\n",
      "    accuracy                           0.54       136\n",
      "   macro avg       0.51      0.51      0.51       136\n",
      "weighted avg       0.54      0.54      0.54       136\n",
      "\n"
     ]
    }
   ],
   "source": [
    "df_features_gabor = pd.DataFrame(env_feature_extraction_unprocessed_images.method_Gabor())\n",
    "\n",
    "metrics_results_best_methods, _ = perform_classification(\n",
    "    'Gabor', df_Y, name_best_models, metrics_results_best_methods, df_features=df_features_gabor\n",
    ")"
   ]
  },
  {
   "cell_type": "markdown",
   "metadata": {},
   "source": [
    "### b. Spatial Texture Descriptors"
   ]
  },
  {
   "cell_type": "code",
   "execution_count": 13,
   "metadata": {},
   "outputs": [
    {
     "name": "stdout",
     "output_type": "stream",
     "text": [
      "============================================\n",
      "\u001b[1mExtracting Spatial Texture Features using LBP\u001b[0;0m\n",
      "Performing Classification for LBP\n",
      "Best method name for LBP: LogReg\n",
      "Classification Report:\n",
      "              precision    recall  f1-score   support\n",
      "\n",
      "           0       0.88      0.79      0.83        86\n",
      "           1       0.69      0.82      0.75        50\n",
      "\n",
      "    accuracy                           0.80       136\n",
      "   macro avg       0.79      0.81      0.79       136\n",
      "weighted avg       0.81      0.80      0.80       136\n",
      "\n"
     ]
    }
   ],
   "source": [
    "df_features_LBP = pd.DataFrame(env_feature_extraction_unprocessed_images.method_LBP())\n",
    "\n",
    "metrics_results_best_methods, _ = perform_classification(\n",
    "    'LBP', df_Y, name_best_models, metrics_results_best_methods, df_features=df_features_LBP\n",
    ")"
   ]
  },
  {
   "cell_type": "markdown",
   "metadata": {},
   "source": [
    "## 5. Structural Features"
   ]
  },
  {
   "cell_type": "markdown",
   "metadata": {},
   "source": [
    "- ### Histogram of Oriented Gradients (HOG)"
   ]
  },
  {
   "cell_type": "code",
   "execution_count": 14,
   "metadata": {},
   "outputs": [
    {
     "name": "stdout",
     "output_type": "stream",
     "text": [
      "============================================\n",
      "\u001b[1mExtracting Structural Features using HOG\u001b[0;0m\n",
      "Performing Classification for HOG\n",
      "Best method name for HOG: RandomForest\n",
      "Classification Report:\n",
      "              precision    recall  f1-score   support\n",
      "\n",
      "           0       0.93      0.80      0.86        86\n",
      "           1       0.73      0.90      0.80        50\n",
      "\n",
      "    accuracy                           0.84       136\n",
      "   macro avg       0.83      0.85      0.83       136\n",
      "weighted avg       0.86      0.84      0.84       136\n",
      "\n"
     ]
    }
   ],
   "source": [
    "df_features_HOG = pd.DataFrame(env_feature_extraction_unprocessed_images.method_HOG())\n",
    "\n",
    "metrics_results_best_methods, _ = perform_classification(\n",
    "    'HOG', df_Y, name_best_models, metrics_results_best_methods, df_features=df_features_HOG\n",
    ")"
   ]
  },
  {
   "cell_type": "markdown",
   "metadata": {},
   "source": [
    "# II. Processed images: using best configurations for processing and feature detection methods"
   ]
  },
  {
   "cell_type": "code",
   "execution_count": 15,
   "metadata": {},
   "outputs": [
    {
     "data": {
      "text/plain": [
       "{'SIFT': {'nOctaveLayers': 4,\n",
       "  'nfeatures': 500,\n",
       "  'num_clusters': 10,\n",
       "  'sigma': 1.2},\n",
       " 'ORB': {'nfeatures': 300, 'num_clusters': 5, 'scaleFactor': 1.5},\n",
       " 'Harris': {'blockSize': 2, 'k': 0.04, 'ksize': 3, 'threshold': 0.01},\n",
       " 'EDGE': {'canny_threshold1': 100,\n",
       "  'canny_threshold2': 200,\n",
       "  'laplacian_ksize': 3,\n",
       "  'sobel_ksize': 5},\n",
       " 'Adaptive': {'C': 5, 'block_size': 9},\n",
       " 'Gabor': {'gamma': 1.0, 'ksize': 7, 'lambd': 5, 'sigma': 6},\n",
       " 'LBP': {'num_points': 24, 'radius': 2},\n",
       " 'HOG': {'orientations': 6, 'pixels_per_cell': [32, 32]}}"
      ]
     },
     "execution_count": 15,
     "metadata": {},
     "output_type": "execute_result"
    }
   ],
   "source": [
    "best_configs_methods"
   ]
  },
  {
   "cell_type": "code",
   "execution_count": 16,
   "metadata": {},
   "outputs": [
    {
     "name": "stdout",
     "output_type": "stream",
     "text": [
      "=====================================================================\n",
      "\u001b[1mComputing results for SIFT\u001b[0;0m\n",
      "Applying best preprocessing :\n",
      " {'filter': 'bilateral', 'filter_params': [9, 75, 75], 'histogram': 'clahe', 'normalize': False, 'f1-score': 0.804676279657609} \n",
      "\n",
      "Applying best method parameters:\n",
      " {'nOctaveLayers': 4, 'nfeatures': 500, 'num_clusters': 10, 'sigma': 1.2} \n",
      "\n",
      "============================================\n",
      "\u001b[1mExtracting SIFT Features\u001b[0;0m\n",
      "Performing Classification for SIFT + bilateral\n",
      "Best method name for SIFT + bilateral: LogReg\n",
      "Classification Report:\n",
      "              precision    recall  f1-score   support\n",
      "\n",
      "           0       0.83      0.87      0.85        86\n",
      "           1       0.76      0.70      0.73        50\n",
      "\n",
      "    accuracy                           0.81       136\n",
      "   macro avg       0.80      0.79      0.79       136\n",
      "weighted avg       0.81      0.81      0.81       136\n",
      "\n",
      "=====================================================================\n",
      "\u001b[1mComputing results for ORB\u001b[0;0m\n",
      "Applying best preprocessing :\n",
      " {'filter': 'bilateral', 'filter_params': [5, 50, 50], 'histogram': 'standard', 'normalize': False, 'f1-score': 0.5966649879693358} \n",
      "\n",
      "Applying best method parameters:\n",
      " {'nfeatures': 300, 'num_clusters': 5, 'scaleFactor': 1.5} \n",
      "\n",
      "============================================\n",
      "\u001b[1mExtracting ORB Features\u001b[0;0m\n",
      "Performing Classification for ORB + bilateral\n",
      "Best method name for ORB + bilateral: LogReg\n",
      "Classification Report:\n",
      "              precision    recall  f1-score   support\n",
      "\n",
      "           0       0.77      0.59      0.67        86\n",
      "           1       0.50      0.70      0.58        50\n",
      "\n",
      "    accuracy                           0.63       136\n",
      "   macro avg       0.64      0.65      0.63       136\n",
      "weighted avg       0.67      0.63      0.64       136\n",
      "\n",
      "=====================================================================\n",
      "\u001b[1mComputing results for Harris\u001b[0;0m\n",
      "Applying best preprocessing :\n",
      " {'filter': 'bilateral', 'filter_params': [12, 100, 100], 'histogram': 'standard', 'normalize': False, 'f1-score': 0.7614035087719299} \n",
      "\n",
      "Applying best method parameters:\n",
      " {'blockSize': 2, 'k': 0.04, 'ksize': 3, 'threshold': 0.01} \n",
      "\n",
      "============================================\n",
      "\u001b[1mExtracting Harris Corner Features\u001b[0;0m\n",
      "Performing Classification for Harris + bilateral\n",
      "Best method name for Harris + bilateral: LogReg\n",
      "Classification Report:\n",
      "              precision    recall  f1-score   support\n",
      "\n",
      "           0       0.80      0.62      0.70        86\n",
      "           1       0.53      0.74      0.62        50\n",
      "\n",
      "    accuracy                           0.66       136\n",
      "   macro avg       0.67      0.68      0.66       136\n",
      "weighted avg       0.70      0.66      0.67       136\n",
      "\n",
      "=====================================================================\n",
      "\u001b[1mComputing results for EDGE\u001b[0;0m\n",
      "Applying best preprocessing :\n",
      " {'filter': 'bilateral', 'filter_params': [12, 100, 100], 'histogram': 'none', 'normalize': True, 'f1-score': 0.8310749774164408} \n",
      "\n",
      "Applying best method parameters:\n",
      " {'canny_threshold1': 100, 'canny_threshold2': 200, 'laplacian_ksize': 3, 'sobel_ksize': 5} \n",
      "\n",
      "============================================\n",
      "\u001b[1mExtracting Edge features\u001b[0;0m\n",
      "Performing Classification for EDGE + bilateral\n",
      "Best method name for EDGE + bilateral: LogReg\n",
      "Classification Report:\n",
      "              precision    recall  f1-score   support\n",
      "\n",
      "           0       0.89      0.77      0.82        86\n",
      "           1       0.68      0.84      0.75        50\n",
      "\n",
      "    accuracy                           0.79       136\n",
      "   macro avg       0.78      0.80      0.79       136\n",
      "weighted avg       0.81      0.79      0.80       136\n",
      "\n",
      "=====================================================================\n",
      "\u001b[1mComputing results for LBP\u001b[0;0m\n",
      "Applying best preprocessing :\n",
      " {'filter': 'gaussian', 'filter_params': [[7, 7], 2], 'histogram': 'clahe', 'normalize': False, 'f1-score': 0.7933247031012551} \n",
      "\n",
      "Applying best method parameters:\n",
      " {'num_points': 24, 'radius': 2} \n",
      "\n",
      "============================================\n",
      "\u001b[1mExtracting Spatial Texture Features using LBP\u001b[0;0m\n",
      "Performing Classification for LBP + gaussian\n",
      "Best method name for LBP + gaussian: LogReg\n",
      "Classification Report:\n",
      "              precision    recall  f1-score   support\n",
      "\n",
      "           0       0.92      0.76      0.83        86\n",
      "           1       0.68      0.88      0.77        50\n",
      "\n",
      "    accuracy                           0.80       136\n",
      "   macro avg       0.80      0.82      0.80       136\n",
      "weighted avg       0.83      0.80      0.80       136\n",
      "\n",
      "=====================================================================\n",
      "\u001b[1mComputing results for Gabor\u001b[0;0m\n",
      "Applying best preprocessing :\n",
      " {'filter': 'bilateral', 'filter_params': [9, 75, 75], 'histogram': 'standard', 'normalize': False, 'f1-score': 0.5748937234308578} \n",
      "\n",
      "Applying best method parameters:\n",
      " {'gamma': 1.0, 'ksize': 7, 'lambd': 5, 'sigma': 6} \n",
      "\n",
      "============================================\n",
      "\u001b[1mExtracting Surface Textures Features using Gabor filters\u001b[0;0m\n",
      "Performing Classification for Gabor + bilateral\n",
      "Best method name for Gabor + bilateral: LogReg\n",
      "Classification Report:\n",
      "              precision    recall  f1-score   support\n",
      "\n",
      "           0       0.86      0.79      0.82        86\n",
      "           1       0.68      0.78      0.73        50\n",
      "\n",
      "    accuracy                           0.79       136\n",
      "   macro avg       0.77      0.79      0.78       136\n",
      "weighted avg       0.80      0.79      0.79       136\n",
      "\n",
      "=====================================================================\n",
      "\u001b[1mComputing results for otsu\u001b[0;0m\n",
      "Applying best preprocessing :\n",
      " {'filter': 'gaussian', 'filter_params': [[3, 3], 0], 'histogram': 'standard', 'normalize': True, 'f1-score': 0.6908388270061376} \n",
      "\n",
      "Applying best method parameters:\n",
      " None \n",
      "\n",
      "============================================\n",
      "\u001b[1mData Segmentation using Otsu's Thresholding\u001b[0;0m\n",
      "Performing Classification for otsu + gaussian\n",
      "Best method name for otsu + gaussian: LogReg\n",
      "Classification Report:\n",
      "              precision    recall  f1-score   support\n",
      "\n",
      "           0       0.70      0.52      0.60        86\n",
      "           1       0.43      0.62      0.51        50\n",
      "\n",
      "    accuracy                           0.56       136\n",
      "   macro avg       0.57      0.57      0.55       136\n",
      "weighted avg       0.60      0.56      0.57       136\n",
      "\n",
      "=====================================================================\n",
      "\u001b[1mComputing results for adaptive\u001b[0;0m\n",
      "Applying best preprocessing :\n",
      " {'filter': 'bilateral', 'filter_params': [9, 75, 75], 'histogram': 'standard', 'normalize': True, 'f1-score': 0.6029411764705882} \n",
      "\n",
      "Applying best method parameters:\n",
      " None \n",
      "\n",
      "============================================\n",
      "\u001b[1mData Segmentation using Adaptive's Thresholding\u001b[0;0m\n",
      "Performing Classification for adaptive + bilateral\n",
      "Best method name for adaptive + bilateral: RandomForest\n",
      "Classification Report:\n",
      "              precision    recall  f1-score   support\n",
      "\n",
      "           0       0.86      0.50      0.63        86\n",
      "           1       0.50      0.86      0.63        50\n",
      "\n",
      "    accuracy                           0.63       136\n",
      "   macro avg       0.68      0.68      0.63       136\n",
      "weighted avg       0.73      0.63      0.63       136\n",
      "\n",
      "=====================================================================\n",
      "\u001b[1mComputing results for HOG\u001b[0;0m\n",
      "Applying best preprocessing :\n",
      " {'filter': 'gaussian', 'filter_params': [[3, 3], 0], 'histogram': 'standard', 'normalize': True, 'f1-score': 0.8216393442622951} \n",
      "\n",
      "Applying best method parameters:\n",
      " {'orientations': 6, 'pixels_per_cell': [32, 32]} \n",
      "\n",
      "============================================\n",
      "\u001b[1mExtracting Structural Features using HOG\u001b[0;0m\n",
      "Performing Classification for HOG + gaussian\n",
      "Best method name for HOG + gaussian: RandomForest\n",
      "Classification Report:\n",
      "              precision    recall  f1-score   support\n",
      "\n",
      "           0       0.97      0.87      0.92        86\n",
      "           1       0.81      0.96      0.88        50\n",
      "\n",
      "    accuracy                           0.90       136\n",
      "   macro avg       0.89      0.92      0.90       136\n",
      "weighted avg       0.92      0.90      0.91       136\n",
      "\n"
     ]
    }
   ],
   "source": [
    "dict_features = {}\n",
    "\n",
    "for method_name, best_config in best_configs_processing.items():\n",
    "\n",
    "    if method_name in best_configs_methods:\n",
    "        best_params_method = best_configs_methods[method_name]\n",
    "    else:\n",
    "        best_params_method = None\n",
    "\n",
    "    print(\"=====================================================================\")\n",
    "    print(f\"\\033[1mComputing results for {method_name}\\033[0;0m\")\n",
    "    print(f\"Applying best preprocessing :\\n {best_config} \\n\")\n",
    "    print(f\"Applying best method parameters:\\n {best_params_method} \\n\")\n",
    "\n",
    "    env_images.apply_preprocessing(best_config)\n",
    "\n",
    "    env_feature_extraction = FeatureExtraction(env_images)\n",
    "    feature_extraction_method = getattr(env_feature_extraction, f\"method_{method_name}\")\n",
    "    \n",
    "    method_name_preprocessed = f\"{method_name} + {best_config['filter']}\"\n",
    "\n",
    "    metrics_results_best_methods, df_features = perform_classification(\n",
    "        method_name_preprocessed, df_Y, name_best_models, metrics_results_best_methods, best_params_method, feature_extraction_method=feature_extraction_method\n",
    "    )\n",
    "\n",
    "    dict_features[method_name] = df_features"
   ]
  },
  {
   "cell_type": "markdown",
   "metadata": {},
   "source": [
    "# III. Overall results"
   ]
  },
  {
   "cell_type": "code",
   "execution_count": 17,
   "metadata": {},
   "outputs": [
    {
     "data": {
      "text/html": [
       "<style type=\"text/css\">\n",
       "#T_0acc0_row17_col1, #T_0acc0_row17_col2, #T_0acc0_row17_col3, #T_0acc0_row17_col4, #T_0acc0_row17_col5 {\n",
       "  background-color: yellow;\n",
       "}\n",
       "</style>\n",
       "<table id=\"T_0acc0\">\n",
       "  <thead>\n",
       "    <tr>\n",
       "      <th class=\"blank level0\" >&nbsp;</th>\n",
       "      <th id=\"T_0acc0_level0_col0\" class=\"col_heading level0 col0\" >Best models</th>\n",
       "      <th id=\"T_0acc0_level0_col1\" class=\"col_heading level0 col1\" >accuracy</th>\n",
       "      <th id=\"T_0acc0_level0_col2\" class=\"col_heading level0 col2\" >f1-score</th>\n",
       "      <th id=\"T_0acc0_level0_col3\" class=\"col_heading level0 col3\" >recall</th>\n",
       "      <th id=\"T_0acc0_level0_col4\" class=\"col_heading level0 col4\" >precision</th>\n",
       "      <th id=\"T_0acc0_level0_col5\" class=\"col_heading level0 col5\" >roc_auc</th>\n",
       "    </tr>\n",
       "  </thead>\n",
       "  <tbody>\n",
       "    <tr>\n",
       "      <th id=\"T_0acc0_level0_row0\" class=\"row_heading level0 row0\" >SIFT</th>\n",
       "      <td id=\"T_0acc0_row0_col0\" class=\"data row0 col0\" >RandomForest</td>\n",
       "      <td id=\"T_0acc0_row0_col1\" class=\"data row0 col1\" >0.750000</td>\n",
       "      <td id=\"T_0acc0_row0_col2\" class=\"data row0 col2\" >0.738934</td>\n",
       "      <td id=\"T_0acc0_row0_col3\" class=\"data row0 col3\" >0.747907</td>\n",
       "      <td id=\"T_0acc0_row0_col4\" class=\"data row0 col4\" >0.735632</td>\n",
       "      <td id=\"T_0acc0_row0_col5\" class=\"data row0 col5\" >0.747907</td>\n",
       "    </tr>\n",
       "    <tr>\n",
       "      <th id=\"T_0acc0_level0_row1\" class=\"row_heading level0 row1\" >ORB</th>\n",
       "      <td id=\"T_0acc0_row1_col0\" class=\"data row1 col0\" >RandomForest</td>\n",
       "      <td id=\"T_0acc0_row1_col1\" class=\"data row1 col1\" >0.610294</td>\n",
       "      <td id=\"T_0acc0_row1_col2\" class=\"data row1 col2\" >0.600775</td>\n",
       "      <td id=\"T_0acc0_row1_col3\" class=\"data row1 col3\" >0.612326</td>\n",
       "      <td id=\"T_0acc0_row1_col4\" class=\"data row1 col4\" >0.604659</td>\n",
       "      <td id=\"T_0acc0_row1_col5\" class=\"data row1 col5\" >0.612326</td>\n",
       "    </tr>\n",
       "    <tr>\n",
       "      <th id=\"T_0acc0_level0_row2\" class=\"row_heading level0 row2\" >Harris</th>\n",
       "      <td id=\"T_0acc0_row2_col0\" class=\"data row2 col0\" >RandomForest</td>\n",
       "      <td id=\"T_0acc0_row2_col1\" class=\"data row2 col1\" >0.750000</td>\n",
       "      <td id=\"T_0acc0_row2_col2\" class=\"data row2 col2\" >0.741964</td>\n",
       "      <td id=\"T_0acc0_row2_col3\" class=\"data row2 col3\" >0.756279</td>\n",
       "      <td id=\"T_0acc0_row2_col4\" class=\"data row2 col4\" >0.740192</td>\n",
       "      <td id=\"T_0acc0_row2_col5\" class=\"data row2 col5\" >0.756279</td>\n",
       "    </tr>\n",
       "    <tr>\n",
       "      <th id=\"T_0acc0_level0_row3\" class=\"row_heading level0 row3\" >EDGE</th>\n",
       "      <td id=\"T_0acc0_row3_col0\" class=\"data row3 col0\" >LogReg</td>\n",
       "      <td id=\"T_0acc0_row3_col1\" class=\"data row3 col1\" >0.830882</td>\n",
       "      <td id=\"T_0acc0_row3_col2\" class=\"data row3 col2\" >0.823943</td>\n",
       "      <td id=\"T_0acc0_row3_col3\" class=\"data row3 col3\" >0.836977</td>\n",
       "      <td id=\"T_0acc0_row3_col4\" class=\"data row3 col4\" >0.818952</td>\n",
       "      <td id=\"T_0acc0_row3_col5\" class=\"data row3 col5\" >0.836977</td>\n",
       "    </tr>\n",
       "    <tr>\n",
       "      <th id=\"T_0acc0_level0_row4\" class=\"row_heading level0 row4\" >Otsu's thresholding</th>\n",
       "      <td id=\"T_0acc0_row4_col0\" class=\"data row4 col0\" >LogReg</td>\n",
       "      <td id=\"T_0acc0_row4_col1\" class=\"data row4 col1\" >0.705882</td>\n",
       "      <td id=\"T_0acc0_row4_col2\" class=\"data row4 col2\" >0.690839</td>\n",
       "      <td id=\"T_0acc0_row4_col3\" class=\"data row4 col3\" >0.696279</td>\n",
       "      <td id=\"T_0acc0_row4_col4\" class=\"data row4 col4\" >0.688393</td>\n",
       "      <td id=\"T_0acc0_row4_col5\" class=\"data row4 col5\" >0.696279</td>\n",
       "    </tr>\n",
       "    <tr>\n",
       "      <th id=\"T_0acc0_level0_row5\" class=\"row_heading level0 row5\" >Adaptive</th>\n",
       "      <td id=\"T_0acc0_row5_col0\" class=\"data row5 col0\" >RandomForest</td>\n",
       "      <td id=\"T_0acc0_row5_col1\" class=\"data row5 col1\" >0.566176</td>\n",
       "      <td id=\"T_0acc0_row5_col2\" class=\"data row5 col2\" >0.557541</td>\n",
       "      <td id=\"T_0acc0_row5_col3\" class=\"data row5 col3\" >0.648605</td>\n",
       "      <td id=\"T_0acc0_row5_col4\" class=\"data row5 col4\" >0.696313</td>\n",
       "      <td id=\"T_0acc0_row5_col5\" class=\"data row5 col5\" >0.648605</td>\n",
       "    </tr>\n",
       "    <tr>\n",
       "      <th id=\"T_0acc0_level0_row6\" class=\"row_heading level0 row6\" >Gabor</th>\n",
       "      <td id=\"T_0acc0_row6_col0\" class=\"data row6 col0\" >RandomForest</td>\n",
       "      <td id=\"T_0acc0_row6_col1\" class=\"data row6 col1\" >0.536765</td>\n",
       "      <td id=\"T_0acc0_row6_col2\" class=\"data row6 col2\" >0.507784</td>\n",
       "      <td id=\"T_0acc0_row6_col3\" class=\"data row6 col3\" >0.508140</td>\n",
       "      <td id=\"T_0acc0_row6_col4\" class=\"data row6 col4\" >0.507956</td>\n",
       "      <td id=\"T_0acc0_row6_col5\" class=\"data row6 col5\" >0.508140</td>\n",
       "    </tr>\n",
       "    <tr>\n",
       "      <th id=\"T_0acc0_level0_row7\" class=\"row_heading level0 row7\" >LBP</th>\n",
       "      <td id=\"T_0acc0_row7_col0\" class=\"data row7 col0\" >LogReg</td>\n",
       "      <td id=\"T_0acc0_row7_col1\" class=\"data row7 col1\" >0.801471</td>\n",
       "      <td id=\"T_0acc0_row7_col2\" class=\"data row7 col2\" >0.793325</td>\n",
       "      <td id=\"T_0acc0_row7_col3\" class=\"data row7 col3\" >0.805349</td>\n",
       "      <td id=\"T_0acc0_row7_col4\" class=\"data row7 col4\" >0.789016</td>\n",
       "      <td id=\"T_0acc0_row7_col5\" class=\"data row7 col5\" >0.805349</td>\n",
       "    </tr>\n",
       "    <tr>\n",
       "      <th id=\"T_0acc0_level0_row8\" class=\"row_heading level0 row8\" >HOG</th>\n",
       "      <td id=\"T_0acc0_row8_col0\" class=\"data row8 col0\" >RandomForest</td>\n",
       "      <td id=\"T_0acc0_row8_col1\" class=\"data row8 col1\" >0.838235</td>\n",
       "      <td id=\"T_0acc0_row8_col2\" class=\"data row8 col2\" >0.833036</td>\n",
       "      <td id=\"T_0acc0_row8_col3\" class=\"data row8 col3\" >0.851163</td>\n",
       "      <td id=\"T_0acc0_row8_col4\" class=\"data row8 col4\" >0.829119</td>\n",
       "      <td id=\"T_0acc0_row8_col5\" class=\"data row8 col5\" >0.851163</td>\n",
       "    </tr>\n",
       "    <tr>\n",
       "      <th id=\"T_0acc0_level0_row9\" class=\"row_heading level0 row9\" >SIFT + bilateral</th>\n",
       "      <td id=\"T_0acc0_row9_col0\" class=\"data row9 col0\" >LogReg</td>\n",
       "      <td id=\"T_0acc0_row9_col1\" class=\"data row9 col1\" >0.808824</td>\n",
       "      <td id=\"T_0acc0_row9_col2\" class=\"data row9 col2\" >0.790720</td>\n",
       "      <td id=\"T_0acc0_row9_col3\" class=\"data row9 col3\" >0.786047</td>\n",
       "      <td id=\"T_0acc0_row9_col4\" class=\"data row9 col4\" >0.797101</td>\n",
       "      <td id=\"T_0acc0_row9_col5\" class=\"data row9 col5\" >0.786047</td>\n",
       "    </tr>\n",
       "    <tr>\n",
       "      <th id=\"T_0acc0_level0_row10\" class=\"row_heading level0 row10\" >ORB + bilateral</th>\n",
       "      <td id=\"T_0acc0_row10_col0\" class=\"data row10 col0\" >LogReg</td>\n",
       "      <td id=\"T_0acc0_row10_col1\" class=\"data row10 col1\" >0.632353</td>\n",
       "      <td id=\"T_0acc0_row10_col2\" class=\"data row10 col2\" >0.627193</td>\n",
       "      <td id=\"T_0acc0_row10_col3\" class=\"data row10 col3\" >0.646512</td>\n",
       "      <td id=\"T_0acc0_row10_col4\" class=\"data row10 col4\" >0.636364</td>\n",
       "      <td id=\"T_0acc0_row10_col5\" class=\"data row10 col5\" >0.646512</td>\n",
       "    </tr>\n",
       "    <tr>\n",
       "      <th id=\"T_0acc0_level0_row11\" class=\"row_heading level0 row11\" >Harris + bilateral</th>\n",
       "      <td id=\"T_0acc0_row11_col0\" class=\"data row11 col0\" >LogReg</td>\n",
       "      <td id=\"T_0acc0_row11_col1\" class=\"data row11 col1\" >0.661765</td>\n",
       "      <td id=\"T_0acc0_row11_col2\" class=\"data row11 col2\" >0.657018</td>\n",
       "      <td id=\"T_0acc0_row11_col3\" class=\"data row11 col3\" >0.678140</td>\n",
       "      <td id=\"T_0acc0_row11_col4\" class=\"data row11 col4\" >0.665801</td>\n",
       "      <td id=\"T_0acc0_row11_col5\" class=\"data row11 col5\" >0.678140</td>\n",
       "    </tr>\n",
       "    <tr>\n",
       "      <th id=\"T_0acc0_level0_row12\" class=\"row_heading level0 row12\" >EDGE + bilateral</th>\n",
       "      <td id=\"T_0acc0_row12_col0\" class=\"data row12 col0\" >LogReg</td>\n",
       "      <td id=\"T_0acc0_row12_col1\" class=\"data row12 col1\" >0.794118</td>\n",
       "      <td id=\"T_0acc0_row12_col2\" class=\"data row12 col2\" >0.787500</td>\n",
       "      <td id=\"T_0acc0_row12_col3\" class=\"data row12 col3\" >0.803721</td>\n",
       "      <td id=\"T_0acc0_row12_col4\" class=\"data row12 col4\" >0.784656</td>\n",
       "      <td id=\"T_0acc0_row12_col5\" class=\"data row12 col5\" >0.803721</td>\n",
       "    </tr>\n",
       "    <tr>\n",
       "      <th id=\"T_0acc0_level0_row13\" class=\"row_heading level0 row13\" >LBP + gaussian</th>\n",
       "      <td id=\"T_0acc0_row13_col0\" class=\"data row13 col0\" >LogReg</td>\n",
       "      <td id=\"T_0acc0_row13_col1\" class=\"data row13 col1\" >0.801471</td>\n",
       "      <td id=\"T_0acc0_row13_col2\" class=\"data row13 col2\" >0.796621</td>\n",
       "      <td id=\"T_0acc0_row13_col3\" class=\"data row13 col3\" >0.817907</td>\n",
       "      <td id=\"T_0acc0_row13_col4\" class=\"data row13 col4\" >0.796208</td>\n",
       "      <td id=\"T_0acc0_row13_col5\" class=\"data row13 col5\" >0.817907</td>\n",
       "    </tr>\n",
       "    <tr>\n",
       "      <th id=\"T_0acc0_level0_row14\" class=\"row_heading level0 row14\" >Gabor + bilateral</th>\n",
       "      <td id=\"T_0acc0_row14_col0\" class=\"data row14 col0\" >LogReg</td>\n",
       "      <td id=\"T_0acc0_row14_col1\" class=\"data row14 col1\" >0.786765</td>\n",
       "      <td id=\"T_0acc0_row14_col2\" class=\"data row14 col2\" >0.776607</td>\n",
       "      <td id=\"T_0acc0_row14_col3\" class=\"data row14 col3\" >0.785349</td>\n",
       "      <td id=\"T_0acc0_row14_col4\" class=\"data row14 col4\" >0.772485</td>\n",
       "      <td id=\"T_0acc0_row14_col5\" class=\"data row14 col5\" >0.785349</td>\n",
       "    </tr>\n",
       "    <tr>\n",
       "      <th id=\"T_0acc0_level0_row15\" class=\"row_heading level0 row15\" >otsu + gaussian</th>\n",
       "      <td id=\"T_0acc0_row15_col0\" class=\"data row15 col0\" >LogReg</td>\n",
       "      <td id=\"T_0acc0_row15_col1\" class=\"data row15 col1\" >0.558824</td>\n",
       "      <td id=\"T_0acc0_row15_col2\" class=\"data row15 col2\" >0.554098</td>\n",
       "      <td id=\"T_0acc0_row15_col3\" class=\"data row15 col3\" >0.571628</td>\n",
       "      <td id=\"T_0acc0_row15_col4\" class=\"data row15 col4\" >0.566840</td>\n",
       "      <td id=\"T_0acc0_row15_col5\" class=\"data row15 col5\" >0.571628</td>\n",
       "    </tr>\n",
       "    <tr>\n",
       "      <th id=\"T_0acc0_level0_row16\" class=\"row_heading level0 row16\" >adaptive + bilateral</th>\n",
       "      <td id=\"T_0acc0_row16_col0\" class=\"data row16 col0\" >RandomForest</td>\n",
       "      <td id=\"T_0acc0_row16_col1\" class=\"data row16 col1\" >0.632353</td>\n",
       "      <td id=\"T_0acc0_row16_col2\" class=\"data row16 col2\" >0.632353</td>\n",
       "      <td id=\"T_0acc0_row16_col3\" class=\"data row16 col3\" >0.680000</td>\n",
       "      <td id=\"T_0acc0_row16_col4\" class=\"data row16 col4\" >0.680000</td>\n",
       "      <td id=\"T_0acc0_row16_col5\" class=\"data row16 col5\" >0.680000</td>\n",
       "    </tr>\n",
       "    <tr>\n",
       "      <th id=\"T_0acc0_level0_row17\" class=\"row_heading level0 row17\" >HOG + gaussian</th>\n",
       "      <td id=\"T_0acc0_row17_col0\" class=\"data row17 col0\" >RandomForest</td>\n",
       "      <td id=\"T_0acc0_row17_col1\" class=\"data row17 col1\" >0.904412</td>\n",
       "      <td id=\"T_0acc0_row17_col2\" class=\"data row17 col2\" >0.900490</td>\n",
       "      <td id=\"T_0acc0_row17_col3\" class=\"data row17 col3\" >0.916047</td>\n",
       "      <td id=\"T_0acc0_row17_col4\" class=\"data row17 col4\" >0.893793</td>\n",
       "      <td id=\"T_0acc0_row17_col5\" class=\"data row17 col5\" >0.916047</td>\n",
       "    </tr>\n",
       "  </tbody>\n",
       "</table>\n"
      ],
      "text/plain": [
       "<pandas.io.formats.style.Styler at 0x2e3a993b090>"
      ]
     },
     "execution_count": 17,
     "metadata": {},
     "output_type": "execute_result"
    }
   ],
   "source": [
    "df_best_models_all_datasets_macro_f1 = pd.DataFrame(metrics_results_best_methods)\n",
    "df_best_models_all_datasets_macro_f1.insert(0, 'Best models', name_best_models)\n",
    "df_best_models_all_datasets_macro_f1.style.highlight_max(axis=0, subset=df_best_models_all_datasets_macro_f1.columns[1:])"
   ]
  },
  {
   "cell_type": "markdown",
   "metadata": {},
   "source": [
    "# IV. Combining some features"
   ]
  },
  {
   "cell_type": "code",
   "execution_count": null,
   "metadata": {},
   "outputs": [],
   "source": [
    "# TODO use dict_features"
   ]
  }
 ],
 "metadata": {
  "kernelspec": {
   "display_name": "base",
   "language": "python",
   "name": "python3"
  },
  "language_info": {
   "codemirror_mode": {
    "name": "ipython",
    "version": 3
   },
   "file_extension": ".py",
   "mimetype": "text/x-python",
   "name": "python",
   "nbconvert_exporter": "python",
   "pygments_lexer": "ipython3",
   "version": "3.11.7"
  }
 },
 "nbformat": 4,
 "nbformat_minor": 2
}
