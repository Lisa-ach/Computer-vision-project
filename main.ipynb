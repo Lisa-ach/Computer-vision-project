{
 "cells": [
  {
   "cell_type": "code",
   "execution_count": 1,
   "metadata": {},
   "outputs": [],
   "source": [
    "from Classification import classification_class as classification\n",
    "from Features_extraction import feature_extraction_class as feature_extraction\n",
    "from Data_processing.images_processing_class import ImagesProcessing\n",
    "from utils import perform_classification, best_preprocessing\n",
    "\n",
    "import pandas as pd\n",
    "import numpy as np\n",
    "import cv2\n",
    "import json"
   ]
  },
  {
   "cell_type": "code",
   "execution_count": 2,
   "metadata": {},
   "outputs": [],
   "source": [
    "metrics_results_best_methods = {\n",
    "        \"accuracy\" : {},\n",
    "        \"f1-score\" : {},\n",
    "        \"recall\" : {},\n",
    "        \"precision\" : {},\n",
    "        \"roc_auc\" : {}\n",
    "        }\n",
    "\n",
    "name_best_models = {}"
   ]
  },
  {
   "cell_type": "code",
   "execution_count": 3,
   "metadata": {},
   "outputs": [],
   "source": [
    "data_normal_path = \"Data/normal/\"\n",
    "data_pothole_path = \"Data/potholes/\"\n",
    "\n",
    "i = ImagesProcessing(folder_normal=data_normal_path, folder_potholes=data_pothole_path, img_size=(256, 256))\n",
    "image_process = ImagesProcessing(folder_normal=data_normal_path, folder_potholes=data_pothole_path, img_size=(256, 256))\n",
    "\n",
    "Y = i.labels\n",
    "df_Y = pd.DataFrame(Y)"
   ]
  },
  {
   "cell_type": "code",
   "execution_count": 4,
   "metadata": {},
   "outputs": [],
   "source": [
    "with open(\"best_configs_processing.json\", \"r\") as f:\n",
    "    best_configs_processing = json.load(f)\n",
    "\n",
    "with open(\"best_configs_methods.json\", \"r\") as f:\n",
    "    best_configs_methods = json.load(f)"
   ]
  },
  {
   "cell_type": "markdown",
   "metadata": {},
   "source": [
    "# I. Unprocessed images"
   ]
  },
  {
   "cell_type": "code",
   "execution_count": 19,
   "metadata": {},
   "outputs": [],
   "source": [
    "env_feature_extraction_unprocessed_images = feature_extraction.FeatureExtraction(i)"
   ]
  },
  {
   "cell_type": "markdown",
   "metadata": {},
   "source": [
    "## 1. Point of interest detection"
   ]
  },
  {
   "cell_type": "code",
   "execution_count": 8,
   "metadata": {},
   "outputs": [
    {
     "name": "stdout",
     "output_type": "stream",
     "text": [
      "============================================\n",
      "\u001b[1mExtracting SIFT Features\u001b[0;0m\n",
      "Performing Classification\n",
      "Best method name: RandomForest\n",
      "Classification Report:\n",
      "              precision    recall  f1-score   support\n",
      "\n",
      "           0       0.86      0.78      0.82        86\n",
      "           1       0.67      0.78      0.72        50\n",
      "\n",
      "    accuracy                           0.78       136\n",
      "   macro avg       0.77      0.78      0.77       136\n",
      "weighted avg       0.79      0.78      0.78       136\n",
      "\n"
     ]
    }
   ],
   "source": [
    "df_features = pd.DataFrame(env_feature_extraction_unprocessed_images.method_SIFT())\n",
    "\n",
    "print(\"Performing Classification\")\n",
    "data_SIFT = classification.DataProcessing(df_features, df_Y, stratified=False)\n",
    "env_SIFT = classification.BinaryClassification(data_SIFT, average=\"macro\")\n",
    "metrics_results = env_SIFT.CrossValidationKFold()\n",
    "labels = list(metrics_results['f1-score'].keys())\n",
    "results_train_KFold, results_test_KFold = env_SIFT.createMeansDataframe(metrics_results, labels)\n",
    "results_train_KFold.style.highlight_max(axis=0)\n",
    "\n",
    "best_method_name = env_SIFT.get_best_method(results_test_KFold, \"F1-score\", ens=\"Test\")\n",
    "print(f\"Best method name: {best_method_name}\")\n",
    "name_best_models[\"SIFT + BoW\"] = best_method_name\n",
    "metrics_results, predictions, models = env_SIFT.TrainTest()\n",
    "env_SIFT.evaluate_model(models[best_method_name])\n",
    "metrics_results_best_methods = env_SIFT.get_metrics(models[best_method_name], \"SIFT + BoW\", metrics_results_best_methods)"
   ]
  },
  {
   "cell_type": "code",
   "execution_count": 9,
   "metadata": {},
   "outputs": [
    {
     "name": "stdout",
     "output_type": "stream",
     "text": [
      "============================================\n",
      "\u001b[1mExtracting ORB Features\u001b[0;0m\n",
      "Performing Classification\n",
      "Best method name: LogReg\n",
      "Classification Report:\n",
      "              precision    recall  f1-score   support\n",
      "\n",
      "           0       0.73      0.63      0.68        86\n",
      "           1       0.48      0.60      0.54        50\n",
      "\n",
      "    accuracy                           0.62       136\n",
      "   macro avg       0.61      0.61      0.61       136\n",
      "weighted avg       0.64      0.62      0.62       136\n",
      "\n"
     ]
    }
   ],
   "source": [
    "df_features = pd.DataFrame(env_feature_extraction_unprocessed_images.method_ORB())\n",
    "\n",
    "print(\"Performing Classification\")\n",
    "data_ORB = classification.DataProcessing(df_features, df_Y, stratified=False)\n",
    "env_ORB = classification.BinaryClassification(data_ORB, average=\"macro\")\n",
    "metrics_results = env_ORB.CrossValidationKFold()\n",
    "labels = list(metrics_results['f1-score'].keys())\n",
    "results_train_KFold, results_test_KFold = env_ORB.createMeansDataframe(metrics_results, labels)\n",
    "results_train_KFold.style.highlight_max(axis=0)\n",
    "\n",
    "best_method_name = env_ORB.get_best_method(results_test_KFold, \"F1-score\", ens=\"Test\")\n",
    "print(f\"Best method name: {best_method_name}\")\n",
    "name_best_models[\"ORB + BoW\"] = best_method_name\n",
    "metrics_results, predictions, models = env_ORB.TrainTest()\n",
    "env_ORB.evaluate_model(models[best_method_name])\n",
    "metrics_results_best_methods = env_ORB.get_metrics(models[best_method_name], \"ORB + BoW\", metrics_results_best_methods)"
   ]
  },
  {
   "cell_type": "markdown",
   "metadata": {},
   "source": [
    "## 2. Edge detection"
   ]
  },
  {
   "cell_type": "code",
   "execution_count": null,
   "metadata": {},
   "outputs": [
    {
     "name": "stdout",
     "output_type": "stream",
     "text": [
      "============================================\n",
      "\u001b[1mExtracting Edge features\u001b[0;0m\n",
      "Performing Classification\n",
      "Best method name: LogReg\n",
      "Classification Report:\n",
      "              precision    recall  f1-score   support\n",
      "\n",
      "           0       0.89      0.86      0.88        86\n",
      "           1       0.77      0.82      0.80        50\n",
      "\n",
      "    accuracy                           0.85       136\n",
      "   macro avg       0.83      0.84      0.84       136\n",
      "weighted avg       0.85      0.85      0.85       136\n",
      "\n"
     ]
    }
   ],
   "source": [
    "df_features_edge = env_feature_extraction_unprocessed_images.method_EDGE()\n",
    "\n",
    "print(\"Performing Classification\")\n",
    "data_edge = classification.DataProcessing(df_features_edge, df_Y, stratified=False)\n",
    "env_edge = classification.BinaryClassification(data_edge, average=\"macro\")\n",
    "metrics_results = env_edge.CrossValidationKFold()\n",
    "labels = list(metrics_results['f1-score'].keys())\n",
    "results_train_KFold, results_test_KFold = env_edge.createMeansDataframe(metrics_results, labels)\n",
    "results_train_KFold.style.highlight_max(axis=0)\n",
    "\n",
    "best_method_name = env_edge.get_best_method(results_test_KFold, \"F1-score\", ens=\"Test\")\n",
    "print(f\"Best method name: {best_method_name}\")\n",
    "name_best_models[\"EDGE\"] = best_method_name\n",
    "metrics_results, predictions, models = env_edge.TrainTest()\n",
    "env_edge.evaluate_model(models[best_method_name])\n",
    "metrics_results_best_methods = env_edge.get_metrics(models[best_method_name], \"EDGE\", metrics_results_best_methods)"
   ]
  },
  {
   "cell_type": "markdown",
   "metadata": {},
   "source": [
    "## 3. Thresholding Method"
   ]
  },
  {
   "cell_type": "code",
   "execution_count": null,
   "metadata": {},
   "outputs": [],
   "source": [
    "def perform_classification2(df_features, df_Y, feature_name):\n",
    "    metrics_results_best_methods = {\n",
    "        \"accuracy\" : {},\n",
    "        \"f1-score\" : {},\n",
    "        \"recall\" : {},\n",
    "        \"precision\" : {},\n",
    "        \"roc_auc\" : {}\n",
    "        }\n",
    "    print(\"Performing Classification\")\n",
    "    data = classification.DataProcessing(df_features, df_Y, stratified=False)\n",
    "    env = classification.BinaryClassification(data, average=\"macro\")\n",
    "    metrics_results = env.CrossValidationKFold()\n",
    "    labels = list(metrics_results['f1-score'].keys())\n",
    "    results_train_KFold, results_test_KFold = env.createMeansDataframe(metrics_results, labels)\n",
    "    results_train_KFold.style.highlight_max(axis=0)\n",
    "\n",
    "    best_method_name = env.get_best_method(results_test_KFold, \"F1-score\", ens=\"Test\")\n",
    "    print(f\"Best method name: {best_method_name}\")\n",
    "    name_best_models[feature_name] = best_method_name\n",
    "    metrics_results, predictions, models = env.TrainTest()\n",
    "    env.evaluate_model(models[best_method_name])\n",
    "    metrics_results_best_methods = env.get_metrics(models[best_method_name], feature_name, metrics_results_best_methods)"
   ]
  },
  {
   "cell_type": "markdown",
   "metadata": {},
   "source": [
    "### a. Otsu's Thresholding"
   ]
  },
  {
   "cell_type": "code",
   "execution_count": null,
   "metadata": {},
   "outputs": [
    {
     "name": "stdout",
     "output_type": "stream",
     "text": [
      "============================================\n",
      "\u001b[1mData Segmentation using Otsu's Thresholding\u001b[0;0m\n",
      "Performing Classification\n",
      "Best method name: LogReg\n",
      "Classification Report:\n",
      "              precision    recall  f1-score   support\n",
      "\n",
      "           0       0.79      0.73      0.76        86\n",
      "           1       0.59      0.66      0.62        50\n",
      "\n",
      "    accuracy                           0.71       136\n",
      "   macro avg       0.69      0.70      0.69       136\n",
      "weighted avg       0.71      0.71      0.71       136\n",
      "\n"
     ]
    }
   ],
   "source": [
    "df_features = pd.DataFrame(env_feature_extraction_unprocessed_images.method_otsu())\n",
    "\n",
    "perform_classification2(df_features, df_Y, \"Otsu's Thresholding\")"
   ]
  },
  {
   "cell_type": "markdown",
   "metadata": {},
   "source": [
    "### b. Adaptive's Thresholding"
   ]
  },
  {
   "cell_type": "code",
   "execution_count": null,
   "metadata": {},
   "outputs": [
    {
     "name": "stdout",
     "output_type": "stream",
     "text": [
      "============================================\n",
      "\u001b[1mData Segmentation using Adaptive's Thresholding\u001b[0;0m\n",
      "Performing Classification\n",
      "Best method name: RandomForest\n",
      "Classification Report:\n",
      "              precision    recall  f1-score   support\n",
      "\n",
      "           0       0.94      0.34      0.50        86\n",
      "           1       0.46      0.96      0.62        50\n",
      "\n",
      "    accuracy                           0.57       136\n",
      "   macro avg       0.70      0.65      0.56       136\n",
      "weighted avg       0.76      0.57      0.54       136\n",
      "\n"
     ]
    }
   ],
   "source": [
    "df_features = pd.DataFrame(env_feature_extraction_unprocessed_images.method_adaptive())\n",
    "\n",
    "perform_classification2(df_features, df_Y, \"Adaptive's Thresholding\")"
   ]
  },
  {
   "cell_type": "markdown",
   "metadata": {},
   "source": [
    "## 4. Texture Feature"
   ]
  },
  {
   "cell_type": "markdown",
   "metadata": {},
   "source": [
    "### a. Frequency-Based Methods"
   ]
  },
  {
   "cell_type": "code",
   "execution_count": null,
   "metadata": {},
   "outputs": [
    {
     "name": "stdout",
     "output_type": "stream",
     "text": [
      "============================================\n",
      "\u001b[1mExtracting Surface Textures Features using Gabor filters\u001b[0;0m\n",
      "Performing Classification\n",
      "Best method name: RandomForest\n",
      "Classification Report:\n",
      "              precision    recall  f1-score   support\n",
      "\n",
      "           0       0.64      0.62      0.63        86\n",
      "           1       0.38      0.40      0.39        50\n",
      "\n",
      "    accuracy                           0.54       136\n",
      "   macro avg       0.51      0.51      0.51       136\n",
      "weighted avg       0.54      0.54      0.54       136\n",
      "\n"
     ]
    }
   ],
   "source": [
    "df_features = pd.DataFrame(env_feature_extraction_unprocessed_images.method_Gabor())\n",
    "\n",
    "perform_classification2(df_features, df_Y, \"Gabor filters\")"
   ]
  },
  {
   "cell_type": "markdown",
   "metadata": {},
   "source": [
    "### b. Spatial Texture Descriptors"
   ]
  },
  {
   "cell_type": "code",
   "execution_count": null,
   "metadata": {},
   "outputs": [
    {
     "name": "stdout",
     "output_type": "stream",
     "text": [
      "============================================\n",
      "\u001b[1mExtracting Spatial Texture Features using LBP\u001b[0;0m\n",
      "Performing Classification\n",
      "Best method name: LogReg\n",
      "Classification Report:\n",
      "              precision    recall  f1-score   support\n",
      "\n",
      "           0       0.88      0.79      0.83        86\n",
      "           1       0.69      0.82      0.75        50\n",
      "\n",
      "    accuracy                           0.80       136\n",
      "   macro avg       0.79      0.81      0.79       136\n",
      "weighted avg       0.81      0.80      0.80       136\n",
      "\n"
     ]
    }
   ],
   "source": [
    "df_features = pd.DataFrame(env_feature_extraction_unprocessed_images.method_LBP())\n",
    "\n",
    "perform_classification2(df_features, df_Y, \"LBP\")"
   ]
  },
  {
   "cell_type": "markdown",
   "metadata": {},
   "source": [
    "# II. Processed images: using best configurations for processing and feature detection methods"
   ]
  },
  {
   "cell_type": "code",
   "execution_count": 5,
   "metadata": {},
   "outputs": [],
   "source": [
    "filters = {\n",
    "    \"SIFT\": \"gaussian\",\n",
    "    \"ORB\": \"median\",\n",
    "    \"EDGE\": \"bilateral\"\n",
    "}"
   ]
  },
  {
   "cell_type": "code",
   "execution_count": null,
   "metadata": {},
   "outputs": [
    {
     "name": "stdout",
     "output_type": "stream",
     "text": [
      "=====================================================================\n",
      "\u001b[1mComputing results for SIFT\u001b[0;0m\n",
      "Applying best preprocessing :\n",
      " {'filter': 'gaussian', 'filter_params': [[3, 3], 0], 'histogram': 'standard', 'gamma': 0.8, 'normalize': False, 'f1-score': 0.7926342950973493} \n",
      "\n",
      "Applying best method parameters:\n",
      " {'nOctaveLayers': 4, 'nfeatures': 500, 'num_clusters': 5, 'sigma': 1.6} \n",
      "\n",
      "============================================\n",
      "\u001b[1mExtracting SIFT Features\u001b[0;0m\n",
      "Performing Classification for SIFT + gaussian\n",
      "Best method name for SIFT + gaussian: RandomForest\n",
      "Classification Report:\n",
      "              precision    recall  f1-score   support\n",
      "\n",
      "           0       0.84      0.72      0.77        86\n",
      "           1       0.61      0.76      0.68        50\n",
      "\n",
      "    accuracy                           0.74       136\n",
      "   macro avg       0.73      0.74      0.73       136\n",
      "weighted avg       0.76      0.74      0.74       136\n",
      "\n",
      "=====================================================================\n",
      "\u001b[1mComputing results for ORB\u001b[0;0m\n",
      "Applying best preprocessing :\n",
      " {'filter': 'median', 'filter_params': [3], 'histogram': 'standard', 'gamma': 0.8, 'normalize': False, 'f1-score': 0.5966649879693358} \n",
      "\n",
      "Applying best method parameters:\n",
      " {'nfeatures': 300, 'num_clusters': 5, 'scaleFactor': 1.2} \n",
      "\n",
      "============================================\n",
      "\u001b[1mExtracting ORB Features\u001b[0;0m\n",
      "Performing Classification for ORB + median\n",
      "Best method name for ORB + median: LogReg\n",
      "Classification Report:\n",
      "              precision    recall  f1-score   support\n",
      "\n",
      "           0       0.75      0.58      0.65        86\n",
      "           1       0.48      0.66      0.55        50\n",
      "\n",
      "    accuracy                           0.61       136\n",
      "   macro avg       0.61      0.62      0.60       136\n",
      "weighted avg       0.65      0.61      0.62       136\n",
      "\n",
      "=====================================================================\n",
      "\u001b[1mComputing results for EDGE\u001b[0;0m\n",
      "Applying best preprocessing :\n",
      " {'filter': 'bilateral', 'filter_params': [5, 50, 50], 'histogram': 'standard', 'gamma': 0.8, 'normalize': False, 'f1-score': 0.8320987654320987} \n",
      "\n",
      "Applying best method parameters:\n",
      " {'canny_threshold1': 50, 'canny_threshold2': 150, 'laplacian_ksize': 3, 'sobel_ksize': 3} \n",
      "\n",
      "============================================\n",
      "\u001b[1mExtracting Edge features\u001b[0;0m\n",
      "Performing Classification for EDGE + bilateral\n",
      "Best method name for EDGE + bilateral: LogReg\n",
      "Classification Report:\n",
      "              precision    recall  f1-score   support\n",
      "\n",
      "           0       0.90      0.83      0.86        86\n",
      "           1       0.74      0.84      0.79        50\n",
      "\n",
      "    accuracy                           0.83       136\n",
      "   macro avg       0.82      0.83      0.82       136\n",
      "weighted avg       0.84      0.83      0.83       136\n",
      "\n"
     ]
    }
   ],
   "source": [
    "for method_name, best_config in best_configs_processing.items():\n",
    "\n",
    "    best_params_method = best_configs_methods[method_name]\n",
    "\n",
    "    print(\"=====================================================================\")\n",
    "    print(f\"\\033[1mComputing results for {method_name}\\033[0;0m\")\n",
    "    print(f\"Applying best preprocessing :\\n {best_config} \\n\")\n",
    "    print(f\"Applying best method parameters:\\n {best_params_method} \\n\")\n",
    "\n",
    "    image_process.apply_preprocessing(best_config)\n",
    "\n",
    "    env_feature_extraction = feature_extraction.FeatureExtraction(image_process)\n",
    "    feature_extraction_method = getattr(env_feature_extraction, f\"method_{method_name}\")\n",
    "    \n",
    "    method_name_preprocessed = f\"{method_name} + {filters[method_name]}\"\n",
    "\n",
    "    metrics_results_best_methods = perform_classification(\n",
    "        feature_extraction_method, method_name_preprocessed, df_Y, name_best_models, metrics_results_best_methods, best_params_method\n",
    "    )"
   ]
  },
  {
   "cell_type": "markdown",
   "metadata": {},
   "source": [
    "# III. Overall results"
   ]
  },
  {
   "cell_type": "code",
   "execution_count": 12,
   "metadata": {},
   "outputs": [
    {
     "data": {
      "text/html": [
       "<style type=\"text/css\">\n",
       "#T_09470_row0_col3, #T_09470_row0_col5, #T_09470_row2_col1, #T_09470_row2_col2, #T_09470_row2_col4 {\n",
       "  background-color: yellow;\n",
       "}\n",
       "</style>\n",
       "<table id=\"T_09470\">\n",
       "  <thead>\n",
       "    <tr>\n",
       "      <th class=\"blank level0\" >&nbsp;</th>\n",
       "      <th id=\"T_09470_level0_col0\" class=\"col_heading level0 col0\" >Best models</th>\n",
       "      <th id=\"T_09470_level0_col1\" class=\"col_heading level0 col1\" >accuracy</th>\n",
       "      <th id=\"T_09470_level0_col2\" class=\"col_heading level0 col2\" >f1-score</th>\n",
       "      <th id=\"T_09470_level0_col3\" class=\"col_heading level0 col3\" >recall</th>\n",
       "      <th id=\"T_09470_level0_col4\" class=\"col_heading level0 col4\" >precision</th>\n",
       "      <th id=\"T_09470_level0_col5\" class=\"col_heading level0 col5\" >roc_auc</th>\n",
       "    </tr>\n",
       "  </thead>\n",
       "  <tbody>\n",
       "    <tr>\n",
       "      <th id=\"T_09470_level0_row0\" class=\"row_heading level0 row0\" >SIFT + gaussian</th>\n",
       "      <td id=\"T_09470_row0_col0\" class=\"data row0 col0\" >LogReg</td>\n",
       "      <td id=\"T_09470_row0_col1\" class=\"data row0 col1\" >0.838235</td>\n",
       "      <td id=\"T_09470_row0_col2\" class=\"data row0 col2\" >0.833889</td>\n",
       "      <td id=\"T_09470_row0_col3\" class=\"data row0 col3\" >0.855349</td>\n",
       "      <td id=\"T_09470_row0_col4\" class=\"data row0 col4\" >0.831597</td>\n",
       "      <td id=\"T_09470_row0_col5\" class=\"data row0 col5\" >0.855349</td>\n",
       "    </tr>\n",
       "    <tr>\n",
       "      <th id=\"T_09470_level0_row1\" class=\"row_heading level0 row1\" >ORB + median</th>\n",
       "      <td id=\"T_09470_row1_col0\" class=\"data row1 col0\" >LogReg</td>\n",
       "      <td id=\"T_09470_row1_col1\" class=\"data row1 col1\" >0.588235</td>\n",
       "      <td id=\"T_09470_row1_col2\" class=\"data row1 col2\" >0.583825</td>\n",
       "      <td id=\"T_09470_row1_col3\" class=\"data row1 col3\" >0.603256</td>\n",
       "      <td id=\"T_09470_row1_col4\" class=\"data row1 col4\" >0.596354</td>\n",
       "      <td id=\"T_09470_row1_col5\" class=\"data row1 col5\" >0.603256</td>\n",
       "    </tr>\n",
       "    <tr>\n",
       "      <th id=\"T_09470_level0_row2\" class=\"row_heading level0 row2\" >EDGE + bilateral</th>\n",
       "      <td id=\"T_09470_row2_col0\" class=\"data row2 col0\" >LogReg</td>\n",
       "      <td id=\"T_09470_row2_col1\" class=\"data row2 col1\" >0.852941</td>\n",
       "      <td id=\"T_09470_row2_col2\" class=\"data row2 col2\" >0.845419</td>\n",
       "      <td id=\"T_09470_row2_col3\" class=\"data row2 col3\" >0.854419</td>\n",
       "      <td id=\"T_09470_row2_col4\" class=\"data row2 col4\" >0.840179</td>\n",
       "      <td id=\"T_09470_row2_col5\" class=\"data row2 col5\" >0.854419</td>\n",
       "    </tr>\n",
       "  </tbody>\n",
       "</table>\n"
      ],
      "text/plain": [
       "<pandas.io.formats.style.Styler at 0x2e48007b110>"
      ]
     },
     "execution_count": 12,
     "metadata": {},
     "output_type": "execute_result"
    }
   ],
   "source": [
    "df_best_models_all_datasets_macro_f1 = pd.DataFrame(metrics_results_best_methods)\n",
    "df_best_models_all_datasets_macro_f1.insert(0, 'Best models', name_best_models)\n",
    "df_best_models_all_datasets_macro_f1.style.highlight_max(axis=0, subset=df_best_models_all_datasets_macro_f1.columns[1:])"
   ]
  }
 ],
 "metadata": {
  "kernelspec": {
   "display_name": "Python 3 (ipykernel)",
   "language": "python",
   "name": "python3"
  },
  "language_info": {
   "codemirror_mode": {
    "name": "ipython",
    "version": 3
   },
   "file_extension": ".py",
   "mimetype": "text/x-python",
   "name": "python",
   "nbconvert_exporter": "python",
   "pygments_lexer": "ipython3",
   "version": "3.10.9"
  }
 },
 "nbformat": 4,
 "nbformat_minor": 2
}
