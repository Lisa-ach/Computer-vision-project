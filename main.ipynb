{
 "cells": [
  {
   "cell_type": "code",
   "execution_count": 1,
   "metadata": {},
   "outputs": [
    {
     "name": "stdout",
     "output_type": "stream",
     "text": [
      "=========1. Extract SIFT features from all images=========\n",
      "=========2. Stack all descriptors for clustering (BoVW) =========\n",
      "=========3. Cluster descriptors using KMeans (BoVW approach) =========\n",
      "========= 4. Create feature histograms for each image =========\n"
     ]
    }
   ],
   "source": [
    "from Data_processing import import_images as i\n",
    "from Classification import classification_class as classification\n",
    "from Features_extraction import SIFT as SIFT\n",
    "import pandas as pd"
   ]
  },
  {
   "cell_type": "code",
   "execution_count": 2,
   "metadata": {},
   "outputs": [],
   "source": [
    "metrics_results_best_methods = {\n",
    "        \"accuracy\" : {},\n",
    "        \"f1-score\" : {},\n",
    "        \"recall\" : {},\n",
    "        \"precision\" : {},\n",
    "        \"roc_auc\" : {}\n",
    "        }\n",
    "\n",
    "\n",
    "name_best_models = {}"
   ]
  },
  {
   "cell_type": "code",
   "execution_count": 3,
   "metadata": {},
   "outputs": [
    {
     "name": "stdout",
     "output_type": "stream",
     "text": [
      "========= 5. Classification =========\n",
      "Optimization Logistic Regression\n",
      "Optimization Classification Decision Tree\n",
      "Optimization Random Forest\n",
      "Best method name: LogReg\n",
      "Classification Report:\n",
      "              precision    recall  f1-score   support\n",
      "\n",
      "           0       0.74      0.81      0.78        86\n",
      "           1       0.62      0.52      0.57        50\n",
      "\n",
      "    accuracy                           0.71       136\n",
      "   macro avg       0.68      0.67      0.67       136\n",
      "weighted avg       0.70      0.71      0.70       136\n",
      "\n"
     ]
    }
   ],
   "source": [
    "print(\"========= 5. Classification =========\")\n",
    "df_features = pd.DataFrame(SIFT.feature_vectors)\n",
    "df_Y = pd.DataFrame(i.Y)\n",
    "\n",
    "data_SIFT = classification.DataProcessing(df_features, df_Y, stratified=False)\n",
    "env_SIFT = classification.BinaryClassification(data_SIFT, average=\"macro\")\n",
    "metrics_results = env_SIFT.CrossValidationKFold()\n",
    "labels = list(metrics_results['f1-score'].keys())\n",
    "results_train_KFold, results_test_KFold = env_SIFT.createMeansDataframe(metrics_results, labels)\n",
    "results_train_KFold.style.highlight_max(axis=0)\n",
    "\n",
    "best_method_name = env_SIFT.get_best_method(results_test_KFold, \"F1-score\", ens=\"Test\")\n",
    "print(f\"Best method name: {best_method_name}\")\n",
    "name_best_models[\"SIFT + BoW\"] = best_method_name\n",
    "metrics_results, predictions, models = env_SIFT.TrainTest()\n",
    "env_SIFT.evaluate_model(models[best_method_name])\n",
    "metrics_results_best_methods = env_SIFT.get_metrics(models[best_method_name], \"SIFT + BoW\", metrics_results_best_methods)"
   ]
  },
  {
   "cell_type": "code",
   "execution_count": 4,
   "metadata": {},
   "outputs": [
    {
     "data": {
      "text/plain": [
       "{'accuracy': {'SIFT + BoW': 0.7058823529411765},\n",
       " 'f1-score': {'SIFT + BoW': 0.6714975845410628},\n",
       " 'recall': {'SIFT + BoW': 0.6669767441860466},\n",
       " 'precision': {'SIFT + BoW': 0.6818642350557245},\n",
       " 'roc_auc': {'SIFT + BoW': 0.6669767441860466}}"
      ]
     },
     "execution_count": 4,
     "metadata": {},
     "output_type": "execute_result"
    }
   ],
   "source": [
    "metrics_results_best_methods"
   ]
  }
 ],
 "metadata": {
  "kernelspec": {
   "display_name": "base",
   "language": "python",
   "name": "python3"
  },
  "language_info": {
   "codemirror_mode": {
    "name": "ipython",
    "version": 3
   },
   "file_extension": ".py",
   "mimetype": "text/x-python",
   "name": "python",
   "nbconvert_exporter": "python",
   "pygments_lexer": "ipython3",
   "version": "3.11.7"
  }
 },
 "nbformat": 4,
 "nbformat_minor": 2
}
