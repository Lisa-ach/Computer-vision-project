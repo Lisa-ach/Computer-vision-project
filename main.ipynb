{
 "cells": [
  {
   "cell_type": "code",
   "execution_count": 1,
   "metadata": {},
   "outputs": [],
   "source": [
    "from Classification import classification_class as classification\n",
    "from Features_extraction.feature_extraction_class import FeatureExtraction\n",
    "from Data_processing.images_processing_class import ImagesProcessing\n",
    "from utils import perform_classification, best_preprocessing\n",
    "\n",
    "import pandas as pd\n",
    "import numpy as np\n",
    "import cv2\n",
    "import json"
   ]
  },
  {
   "cell_type": "code",
   "execution_count": 2,
   "metadata": {},
   "outputs": [],
   "source": [
    "metrics_results_best_methods = {\n",
    "        \"accuracy\" : {},\n",
    "        \"f1-score\" : {},\n",
    "        \"recall\" : {},\n",
    "        \"precision\" : {},\n",
    "        \"roc_auc\" : {}\n",
    "        }\n",
    "\n",
    "name_best_models = {}"
   ]
  },
  {
   "cell_type": "code",
   "execution_count": 3,
   "metadata": {},
   "outputs": [],
   "source": [
    "data_normal_path = \"Data/normal/\"\n",
    "data_pothole_path = \"Data/potholes/\"\n",
    "\n",
    "env_images = ImagesProcessing(folder_normal=data_normal_path, folder_potholes=data_pothole_path, img_size=(256, 256))\n",
    "\n",
    "Y = env_images.labels\n",
    "df_Y = pd.DataFrame(Y)"
   ]
  },
  {
   "cell_type": "code",
   "execution_count": 4,
   "metadata": {},
   "outputs": [],
   "source": [
    "with open(\"best_configs_processing.json\", \"r\") as f:\n",
    "    best_configs_processing = json.load(f)\n",
    "\n",
    "with open(\"best_configs_methods.json\", \"r\") as f:\n",
    "    best_configs_methods = json.load(f)"
   ]
  },
  {
   "cell_type": "markdown",
   "metadata": {},
   "source": [
    "# I. Unprocessed images"
   ]
  },
  {
   "cell_type": "code",
   "execution_count": 4,
   "metadata": {},
   "outputs": [],
   "source": [
    "env_feature_extraction_unprocessed_images = FeatureExtraction(env_images)"
   ]
  },
  {
   "cell_type": "markdown",
   "metadata": {},
   "source": [
    "## 1. Point of interest detection"
   ]
  },
  {
   "cell_type": "code",
   "execution_count": null,
   "metadata": {},
   "outputs": [
    {
     "name": "stdout",
     "output_type": "stream",
     "text": [
      "============================================\n",
      "\u001b[1mExtracting SIFT Features\u001b[0;0m\n",
      "Performing Classification for SIFT\n",
      "Best method name for SIFT: LogReg\n",
      "Classification Report:\n",
      "              precision    recall  f1-score   support\n",
      "\n",
      "           0       0.87      0.84      0.85        86\n",
      "           1       0.74      0.78      0.76        50\n",
      "\n",
      "    accuracy                           0.82       136\n",
      "   macro avg       0.80      0.81      0.80       136\n",
      "weighted avg       0.82      0.82      0.82       136\n",
      "\n"
     ]
    }
   ],
   "source": [
    "df_features = pd.DataFrame(env_feature_extraction_unprocessed_images.method_SIFT())\n",
    "\n",
    "metrics_results_best_methods = perform_classification(\n",
    "    'SIFT', df_Y, name_best_models, metrics_results_best_methods, df_features=df_features\n",
    ")"
   ]
  },
  {
   "cell_type": "code",
   "execution_count": 7,
   "metadata": {},
   "outputs": [
    {
     "name": "stdout",
     "output_type": "stream",
     "text": [
      "============================================\n",
      "\u001b[1mExtracting ORB Features\u001b[0;0m\n",
      "Performing Classification for ORB\n",
      "Best method name for ORB: LogReg\n",
      "Classification Report:\n",
      "              precision    recall  f1-score   support\n",
      "\n",
      "           0       0.72      0.63      0.67        86\n",
      "           1       0.48      0.58      0.52        50\n",
      "\n",
      "    accuracy                           0.61       136\n",
      "   macro avg       0.60      0.60      0.60       136\n",
      "weighted avg       0.63      0.61      0.62       136\n",
      "\n"
     ]
    }
   ],
   "source": [
    "df_features = pd.DataFrame(env_feature_extraction_unprocessed_images.method_ORB())\n",
    "\n",
    "metrics_results_best_methods = perform_classification(\n",
    "    'ORB', df_Y, name_best_models, metrics_results_best_methods, df_features=df_features\n",
    ")"
   ]
  },
  {
   "cell_type": "code",
   "execution_count": 8,
   "metadata": {},
   "outputs": [
    {
     "name": "stdout",
     "output_type": "stream",
     "text": [
      "============================================\n",
      "\u001b[1mExtracting Harris Corner Features\u001b[0;0m\n",
      "Performing Classification for Harris\n",
      "Best method name for Harris: RandomForest\n",
      "Classification Report:\n",
      "              precision    recall  f1-score   support\n",
      "\n",
      "           0       0.85      0.73      0.79        86\n",
      "           1       0.63      0.78      0.70        50\n",
      "\n",
      "    accuracy                           0.75       136\n",
      "   macro avg       0.74      0.76      0.74       136\n",
      "weighted avg       0.77      0.75      0.75       136\n",
      "\n"
     ]
    }
   ],
   "source": [
    "df_features_harris = pd.DataFrame(env_feature_extraction_unprocessed_images.method_Harris())\n",
    "\n",
    "metrics_results_best_methods = perform_classification(\n",
    "    'Harris', df_Y, name_best_models, metrics_results_best_methods, df_features=df_features_harris\n",
    ")"
   ]
  },
  {
   "cell_type": "markdown",
   "metadata": {},
   "source": [
    "## 2. Edge detection"
   ]
  },
  {
   "cell_type": "code",
   "execution_count": 9,
   "metadata": {},
   "outputs": [
    {
     "name": "stdout",
     "output_type": "stream",
     "text": [
      "============================================\n",
      "\u001b[1mExtracting Edge features\u001b[0;0m\n",
      "Performing Classification for EDGE\n",
      "Best method name for EDGE: LogReg\n",
      "Classification Report:\n",
      "              precision    recall  f1-score   support\n",
      "\n",
      "           0       0.91      0.81      0.86        86\n",
      "           1       0.73      0.86      0.79        50\n",
      "\n",
      "    accuracy                           0.83       136\n",
      "   macro avg       0.82      0.84      0.82       136\n",
      "weighted avg       0.84      0.83      0.83       136\n",
      "\n"
     ]
    }
   ],
   "source": [
    "df_features_edge = env_feature_extraction_unprocessed_images.method_EDGE()\n",
    "\n",
    "metrics_results_best_methods = perform_classification(\n",
    "    'EDGE', df_Y, name_best_models, metrics_results_best_methods, df_features=df_features_edge\n",
    ")"
   ]
  },
  {
   "cell_type": "markdown",
   "metadata": {},
   "source": [
    "## 3. Thresholding Method"
   ]
  },
  {
   "cell_type": "markdown",
   "metadata": {},
   "source": [
    "### a. Otsu's Thresholding"
   ]
  },
  {
   "cell_type": "code",
   "execution_count": 10,
   "metadata": {},
   "outputs": [
    {
     "name": "stdout",
     "output_type": "stream",
     "text": [
      "============================================\n",
      "\u001b[1mData Segmentation using Otsu's Thresholding\u001b[0;0m\n",
      "Performing Classification for Otsu's thresholding\n",
      "Best method name for Otsu's thresholding: LogReg\n",
      "Classification Report:\n",
      "              precision    recall  f1-score   support\n",
      "\n",
      "           0       0.79      0.73      0.76        86\n",
      "           1       0.59      0.66      0.62        50\n",
      "\n",
      "    accuracy                           0.71       136\n",
      "   macro avg       0.69      0.70      0.69       136\n",
      "weighted avg       0.71      0.71      0.71       136\n",
      "\n"
     ]
    }
   ],
   "source": [
    "df_features_otsu = pd.DataFrame(env_feature_extraction_unprocessed_images.method_otsu())\n",
    "\n",
    "metrics_results_best_methods = perform_classification(\n",
    "    \"Otsu's thresholding\", df_Y, name_best_models, metrics_results_best_methods, df_features=df_features_otsu\n",
    ")"
   ]
  },
  {
   "cell_type": "markdown",
   "metadata": {},
   "source": [
    "### b. Adaptive's Thresholding"
   ]
  },
  {
   "cell_type": "code",
   "execution_count": 11,
   "metadata": {},
   "outputs": [
    {
     "name": "stdout",
     "output_type": "stream",
     "text": [
      "============================================\n",
      "\u001b[1mData Segmentation using Adaptive's Thresholding\u001b[0;0m\n",
      "Performing Classification for Adaptive\n",
      "Best method name for Adaptive: RandomForest\n",
      "Classification Report:\n",
      "              precision    recall  f1-score   support\n",
      "\n",
      "           0       0.94      0.34      0.50        86\n",
      "           1       0.46      0.96      0.62        50\n",
      "\n",
      "    accuracy                           0.57       136\n",
      "   macro avg       0.70      0.65      0.56       136\n",
      "weighted avg       0.76      0.57      0.54       136\n",
      "\n"
     ]
    }
   ],
   "source": [
    "df_features_adaptive = pd.DataFrame(env_feature_extraction_unprocessed_images.method_adaptive())\n",
    "\n",
    "metrics_results_best_methods = perform_classification(\n",
    "    'Adaptive', df_Y, name_best_models, metrics_results_best_methods, df_features=df_features_adaptive\n",
    ")"
   ]
  },
  {
   "cell_type": "markdown",
   "metadata": {},
   "source": [
    "## 4. Texture Feature"
   ]
  },
  {
   "cell_type": "markdown",
   "metadata": {},
   "source": [
    "### a. Frequency-Based Methods"
   ]
  },
  {
   "cell_type": "code",
   "execution_count": 12,
   "metadata": {},
   "outputs": [
    {
     "name": "stdout",
     "output_type": "stream",
     "text": [
      "============================================\n",
      "\u001b[1mExtracting Surface Textures Features using Gabor filters\u001b[0;0m\n",
      "Performing Classification for Gabor\n",
      "Best method name for Gabor: RandomForest\n",
      "Classification Report:\n",
      "              precision    recall  f1-score   support\n",
      "\n",
      "           0       0.64      0.62      0.63        86\n",
      "           1       0.38      0.40      0.39        50\n",
      "\n",
      "    accuracy                           0.54       136\n",
      "   macro avg       0.51      0.51      0.51       136\n",
      "weighted avg       0.54      0.54      0.54       136\n",
      "\n"
     ]
    }
   ],
   "source": [
    "df_features_gabor = pd.DataFrame(env_feature_extraction_unprocessed_images.method_Gabor())\n",
    "\n",
    "metrics_results_best_methods = perform_classification(\n",
    "    'Gabor', df_Y, name_best_models, metrics_results_best_methods, df_features=df_features_gabor\n",
    ")"
   ]
  },
  {
   "cell_type": "markdown",
   "metadata": {},
   "source": [
    "### b. Spatial Texture Descriptors"
   ]
  },
  {
   "cell_type": "code",
   "execution_count": 13,
   "metadata": {},
   "outputs": [
    {
     "name": "stdout",
     "output_type": "stream",
     "text": [
      "============================================\n",
      "\u001b[1mExtracting Spatial Texture Features using LBP\u001b[0;0m\n",
      "Performing Classification for LBP\n",
      "Best method name for LBP: LogReg\n",
      "Classification Report:\n",
      "              precision    recall  f1-score   support\n",
      "\n",
      "           0       0.88      0.79      0.83        86\n",
      "           1       0.69      0.82      0.75        50\n",
      "\n",
      "    accuracy                           0.80       136\n",
      "   macro avg       0.79      0.81      0.79       136\n",
      "weighted avg       0.81      0.80      0.80       136\n",
      "\n"
     ]
    }
   ],
   "source": [
    "df_features_LBP = pd.DataFrame(env_feature_extraction_unprocessed_images.method_LBP())\n",
    "\n",
    "metrics_results_best_methods = perform_classification(\n",
    "    'LBP', df_Y, name_best_models, metrics_results_best_methods, df_features=df_features_LBP\n",
    ")"
   ]
  },
  {
   "cell_type": "markdown",
   "metadata": {},
   "source": [
    "## 5. Structural Features"
   ]
  },
  {
   "cell_type": "markdown",
   "metadata": {},
   "source": [
    "- ### Histogram of Oriented Gradients (HOG)"
   ]
  },
  {
   "cell_type": "code",
   "execution_count": 5,
   "metadata": {},
   "outputs": [
    {
     "name": "stdout",
     "output_type": "stream",
     "text": [
      "============================================\n",
      "\u001b[1mExtracting Structural Features using HOG\u001b[0;0m\n",
      "Performing Classification for HOG\n",
      "Best method name for HOG: LogReg\n",
      "Classification Report:\n",
      "              precision    recall  f1-score   support\n",
      "\n",
      "           0       0.98      0.73      0.84        86\n",
      "           1       0.68      0.98      0.80        50\n",
      "\n",
      "    accuracy                           0.82       136\n",
      "   macro avg       0.83      0.86      0.82       136\n",
      "weighted avg       0.87      0.82      0.83       136\n",
      "\n"
     ]
    }
   ],
   "source": [
    "df_features_HOG = pd.DataFrame(env_feature_extraction_unprocessed_images.method_HOG())\n",
    "\n",
    "metrics_results_best_methods = perform_classification(\n",
    "    'HOG', df_Y, name_best_models, metrics_results_best_methods, df_features=df_features_HOG\n",
    ")"
   ]
  },
  {
   "cell_type": "markdown",
   "metadata": {},
   "source": [
    "# II. Processed images: using best configurations for processing and feature detection methods"
   ]
  },
  {
   "cell_type": "code",
   "execution_count": 14,
   "metadata": {},
   "outputs": [
    {
     "name": "stdout",
     "output_type": "stream",
     "text": [
      "=====================================================================\n",
      "\u001b[1mComputing results for SIFT\u001b[0;0m\n",
      "Applying best preprocessing :\n",
      " {'filter': 'bilateral', 'filter_params': [12, 100, 100], 'histogram': 'clahe', 'normalize': False, 'f1-score': 0.804676279657609} \n",
      "\n",
      "Applying best method parameters:\n",
      " {'nOctaveLayers': 4, 'nfeatures': 500, 'num_clusters': 10, 'sigma': 1.2} \n",
      "\n",
      "============================================\n",
      "\u001b[1mExtracting SIFT Features\u001b[0;0m\n",
      "Performing Classification for SIFT + bilateral\n",
      "Best method name for SIFT + bilateral: RandomForest\n",
      "Classification Report:\n",
      "              precision    recall  f1-score   support\n",
      "\n",
      "           0       0.80      0.81      0.80        86\n",
      "           1       0.67      0.64      0.65        50\n",
      "\n",
      "    accuracy                           0.75       136\n",
      "   macro avg       0.73      0.73      0.73       136\n",
      "weighted avg       0.75      0.75      0.75       136\n",
      "\n",
      "=====================================================================\n",
      "\u001b[1mComputing results for ORB\u001b[0;0m\n",
      "Applying best preprocessing :\n",
      " {'filter': 'bilateral', 'filter_params': [12, 100, 100], 'histogram': 'none', 'normalize': False, 'f1-score': 0.5966649879693358} \n",
      "\n",
      "Applying best method parameters:\n",
      " {'nfeatures': 300, 'num_clusters': 5, 'scaleFactor': 1.5} \n",
      "\n",
      "============================================\n",
      "\u001b[1mExtracting ORB Features\u001b[0;0m\n",
      "Performing Classification for ORB + bilateral\n",
      "Best method name for ORB + bilateral: LogReg\n",
      "Classification Report:\n",
      "              precision    recall  f1-score   support\n",
      "\n",
      "           0       0.69      0.64      0.66        86\n",
      "           1       0.45      0.50      0.47        50\n",
      "\n",
      "    accuracy                           0.59       136\n",
      "   macro avg       0.57      0.57      0.57       136\n",
      "weighted avg       0.60      0.59      0.59       136\n",
      "\n",
      "=====================================================================\n",
      "\u001b[1mComputing results for Harris\u001b[0;0m\n",
      "Applying best preprocessing :\n",
      " {'filter': 'bilateral', 'filter_params': [12, 100, 100], 'histogram': 'standard', 'normalize': True, 'f1-score': 0.7614035087719299} \n",
      "\n",
      "Applying best method parameters:\n",
      " {'blockSize': 2, 'k': 0.04, 'ksize': 3, 'threshold': 0.01} \n",
      "\n",
      "============================================\n",
      "\u001b[1mExtracting Harris Corner Features\u001b[0;0m\n",
      "Performing Classification for Harris + bilateral\n",
      "Best method name for Harris + bilateral: RandomForest\n",
      "Classification Report:\n",
      "              precision    recall  f1-score   support\n",
      "\n",
      "           0       0.77      0.53      0.63        86\n",
      "           1       0.47      0.72      0.57        50\n",
      "\n",
      "    accuracy                           0.60       136\n",
      "   macro avg       0.62      0.63      0.60       136\n",
      "weighted avg       0.66      0.60      0.61       136\n",
      "\n",
      "=====================================================================\n",
      "\u001b[1mComputing results for EDGE\u001b[0;0m\n",
      "Applying best preprocessing :\n",
      " {'filter': 'bilateral', 'filter_params': [5, 50, 50], 'histogram': 'clahe', 'normalize': True, 'f1-score': 0.8310749774164408} \n",
      "\n",
      "Applying best method parameters:\n",
      " {'canny_threshold1': 100, 'canny_threshold2': 200, 'laplacian_ksize': 3, 'sobel_ksize': 5} \n",
      "\n",
      "============================================\n",
      "\u001b[1mExtracting Edge features\u001b[0;0m\n",
      "Performing Classification for EDGE + bilateral\n",
      "Best method name for EDGE + bilateral: LogReg\n",
      "Classification Report:\n",
      "              precision    recall  f1-score   support\n",
      "\n",
      "           0       0.89      0.79      0.84        86\n",
      "           1       0.70      0.84      0.76        50\n",
      "\n",
      "    accuracy                           0.81       136\n",
      "   macro avg       0.80      0.82      0.80       136\n",
      "weighted avg       0.82      0.81      0.81       136\n",
      "\n"
     ]
    }
   ],
   "source": [
    "for method_name, best_config in best_configs_processing.items():\n",
    "\n",
    "    best_params_method = best_configs_methods[method_name]\n",
    "\n",
    "    print(\"=====================================================================\")\n",
    "    print(f\"\\033[1mComputing results for {method_name}\\033[0;0m\")\n",
    "    print(f\"Applying best preprocessing :\\n {best_config} \\n\")\n",
    "    print(f\"Applying best method parameters:\\n {best_params_method} \\n\")\n",
    "\n",
    "    env_images.apply_preprocessing(best_config)\n",
    "\n",
    "    env_feature_extraction = FeatureExtraction(env_images)\n",
    "    feature_extraction_method = getattr(env_feature_extraction, f\"method_{method_name}\")\n",
    "    \n",
    "    method_name_preprocessed = f\"{method_name} + {best_config['filter']}\"\n",
    "\n",
    "    metrics_results_best_methods = perform_classification(\n",
    "        method_name_preprocessed, df_Y, name_best_models, metrics_results_best_methods, best_params_method, feature_extraction_method=feature_extraction_method\n",
    "    )"
   ]
  },
  {
   "cell_type": "markdown",
   "metadata": {},
   "source": [
    "# III. Overall results"
   ]
  },
  {
   "cell_type": "code",
   "execution_count": 15,
   "metadata": {},
   "outputs": [
    {
     "data": {
      "text/html": [
       "<style type=\"text/css\">\n",
       "#T_f9804_row3_col1, #T_f9804_row3_col2, #T_f9804_row3_col3, #T_f9804_row3_col4, #T_f9804_row3_col5 {\n",
       "  background-color: yellow;\n",
       "}\n",
       "</style>\n",
       "<table id=\"T_f9804\">\n",
       "  <thead>\n",
       "    <tr>\n",
       "      <th class=\"blank level0\" >&nbsp;</th>\n",
       "      <th id=\"T_f9804_level0_col0\" class=\"col_heading level0 col0\" >Best models</th>\n",
       "      <th id=\"T_f9804_level0_col1\" class=\"col_heading level0 col1\" >accuracy</th>\n",
       "      <th id=\"T_f9804_level0_col2\" class=\"col_heading level0 col2\" >f1-score</th>\n",
       "      <th id=\"T_f9804_level0_col3\" class=\"col_heading level0 col3\" >recall</th>\n",
       "      <th id=\"T_f9804_level0_col4\" class=\"col_heading level0 col4\" >precision</th>\n",
       "      <th id=\"T_f9804_level0_col5\" class=\"col_heading level0 col5\" >roc_auc</th>\n",
       "    </tr>\n",
       "  </thead>\n",
       "  <tbody>\n",
       "    <tr>\n",
       "      <th id=\"T_f9804_level0_row0\" class=\"row_heading level0 row0\" >SIFT</th>\n",
       "      <td id=\"T_f9804_row0_col0\" class=\"data row0 col0\" >LogReg</td>\n",
       "      <td id=\"T_f9804_row0_col1\" class=\"data row0 col1\" >0.816176</td>\n",
       "      <td id=\"T_f9804_row0_col2\" class=\"data row0 col2\" >0.804676</td>\n",
       "      <td id=\"T_f9804_row0_col3\" class=\"data row0 col3\" >0.808605</td>\n",
       "      <td id=\"T_f9804_row0_col4\" class=\"data row0 col4\" >0.801659</td>\n",
       "      <td id=\"T_f9804_row0_col5\" class=\"data row0 col5\" >0.808605</td>\n",
       "    </tr>\n",
       "    <tr>\n",
       "      <th id=\"T_f9804_level0_row1\" class=\"row_heading level0 row1\" >ORB</th>\n",
       "      <td id=\"T_f9804_row1_col0\" class=\"data row1 col0\" >LogReg</td>\n",
       "      <td id=\"T_f9804_row1_col1\" class=\"data row1 col1\" >0.610294</td>\n",
       "      <td id=\"T_f9804_row1_col2\" class=\"data row1 col2\" >0.596665</td>\n",
       "      <td id=\"T_f9804_row1_col3\" class=\"data row1 col3\" >0.603953</td>\n",
       "      <td id=\"T_f9804_row1_col4\" class=\"data row1 col4\" >0.597705</td>\n",
       "      <td id=\"T_f9804_row1_col5\" class=\"data row1 col5\" >0.603953</td>\n",
       "    </tr>\n",
       "    <tr>\n",
       "      <th id=\"T_f9804_level0_row2\" class=\"row_heading level0 row2\" >Harris</th>\n",
       "      <td id=\"T_f9804_row2_col0\" class=\"data row2 col0\" >RandomForest</td>\n",
       "      <td id=\"T_f9804_row2_col1\" class=\"data row2 col1\" >0.750000</td>\n",
       "      <td id=\"T_f9804_row2_col2\" class=\"data row2 col2\" >0.741964</td>\n",
       "      <td id=\"T_f9804_row2_col3\" class=\"data row2 col3\" >0.756279</td>\n",
       "      <td id=\"T_f9804_row2_col4\" class=\"data row2 col4\" >0.740192</td>\n",
       "      <td id=\"T_f9804_row2_col5\" class=\"data row2 col5\" >0.756279</td>\n",
       "    </tr>\n",
       "    <tr>\n",
       "      <th id=\"T_f9804_level0_row3\" class=\"row_heading level0 row3\" >EDGE</th>\n",
       "      <td id=\"T_f9804_row3_col0\" class=\"data row3 col0\" >LogReg</td>\n",
       "      <td id=\"T_f9804_row3_col1\" class=\"data row3 col1\" >0.830882</td>\n",
       "      <td id=\"T_f9804_row3_col2\" class=\"data row3 col2\" >0.823943</td>\n",
       "      <td id=\"T_f9804_row3_col3\" class=\"data row3 col3\" >0.836977</td>\n",
       "      <td id=\"T_f9804_row3_col4\" class=\"data row3 col4\" >0.818952</td>\n",
       "      <td id=\"T_f9804_row3_col5\" class=\"data row3 col5\" >0.836977</td>\n",
       "    </tr>\n",
       "    <tr>\n",
       "      <th id=\"T_f9804_level0_row4\" class=\"row_heading level0 row4\" >Otsu's thresholding</th>\n",
       "      <td id=\"T_f9804_row4_col0\" class=\"data row4 col0\" >LogReg</td>\n",
       "      <td id=\"T_f9804_row4_col1\" class=\"data row4 col1\" >0.705882</td>\n",
       "      <td id=\"T_f9804_row4_col2\" class=\"data row4 col2\" >0.690839</td>\n",
       "      <td id=\"T_f9804_row4_col3\" class=\"data row4 col3\" >0.696279</td>\n",
       "      <td id=\"T_f9804_row4_col4\" class=\"data row4 col4\" >0.688393</td>\n",
       "      <td id=\"T_f9804_row4_col5\" class=\"data row4 col5\" >0.696279</td>\n",
       "    </tr>\n",
       "    <tr>\n",
       "      <th id=\"T_f9804_level0_row5\" class=\"row_heading level0 row5\" >Adaptive</th>\n",
       "      <td id=\"T_f9804_row5_col0\" class=\"data row5 col0\" >RandomForest</td>\n",
       "      <td id=\"T_f9804_row5_col1\" class=\"data row5 col1\" >0.566176</td>\n",
       "      <td id=\"T_f9804_row5_col2\" class=\"data row5 col2\" >0.557541</td>\n",
       "      <td id=\"T_f9804_row5_col3\" class=\"data row5 col3\" >0.648605</td>\n",
       "      <td id=\"T_f9804_row5_col4\" class=\"data row5 col4\" >0.696313</td>\n",
       "      <td id=\"T_f9804_row5_col5\" class=\"data row5 col5\" >0.648605</td>\n",
       "    </tr>\n",
       "    <tr>\n",
       "      <th id=\"T_f9804_level0_row6\" class=\"row_heading level0 row6\" >Gabor</th>\n",
       "      <td id=\"T_f9804_row6_col0\" class=\"data row6 col0\" >RandomForest</td>\n",
       "      <td id=\"T_f9804_row6_col1\" class=\"data row6 col1\" >0.536765</td>\n",
       "      <td id=\"T_f9804_row6_col2\" class=\"data row6 col2\" >0.507784</td>\n",
       "      <td id=\"T_f9804_row6_col3\" class=\"data row6 col3\" >0.508140</td>\n",
       "      <td id=\"T_f9804_row6_col4\" class=\"data row6 col4\" >0.507956</td>\n",
       "      <td id=\"T_f9804_row6_col5\" class=\"data row6 col5\" >0.508140</td>\n",
       "    </tr>\n",
       "    <tr>\n",
       "      <th id=\"T_f9804_level0_row7\" class=\"row_heading level0 row7\" >LBP</th>\n",
       "      <td id=\"T_f9804_row7_col0\" class=\"data row7 col0\" >LogReg</td>\n",
       "      <td id=\"T_f9804_row7_col1\" class=\"data row7 col1\" >0.801471</td>\n",
       "      <td id=\"T_f9804_row7_col2\" class=\"data row7 col2\" >0.793325</td>\n",
       "      <td id=\"T_f9804_row7_col3\" class=\"data row7 col3\" >0.805349</td>\n",
       "      <td id=\"T_f9804_row7_col4\" class=\"data row7 col4\" >0.789016</td>\n",
       "      <td id=\"T_f9804_row7_col5\" class=\"data row7 col5\" >0.805349</td>\n",
       "    </tr>\n",
       "    <tr>\n",
       "      <th id=\"T_f9804_level0_row8\" class=\"row_heading level0 row8\" >SIFT + bilateral</th>\n",
       "      <td id=\"T_f9804_row8_col0\" class=\"data row8 col0\" >RandomForest</td>\n",
       "      <td id=\"T_f9804_row8_col1\" class=\"data row8 col1\" >0.750000</td>\n",
       "      <td id=\"T_f9804_row8_col2\" class=\"data row8 col2\" >0.728829</td>\n",
       "      <td id=\"T_f9804_row8_col3\" class=\"data row8 col3\" >0.726977</td>\n",
       "      <td id=\"T_f9804_row8_col4\" class=\"data row8 col4\" >0.731061</td>\n",
       "      <td id=\"T_f9804_row8_col5\" class=\"data row8 col5\" >0.726977</td>\n",
       "    </tr>\n",
       "    <tr>\n",
       "      <th id=\"T_f9804_level0_row9\" class=\"row_heading level0 row9\" >ORB + bilateral</th>\n",
       "      <td id=\"T_f9804_row9_col0\" class=\"data row9 col0\" >LogReg</td>\n",
       "      <td id=\"T_f9804_row9_col1\" class=\"data row9 col1\" >0.588235</td>\n",
       "      <td id=\"T_f9804_row9_col2\" class=\"data row9 col2\" >0.567174</td>\n",
       "      <td id=\"T_f9804_row9_col3\" class=\"data row9 col3\" >0.569767</td>\n",
       "      <td id=\"T_f9804_row9_col4\" class=\"data row9 col4\" >0.566964</td>\n",
       "      <td id=\"T_f9804_row9_col5\" class=\"data row9 col5\" >0.569767</td>\n",
       "    </tr>\n",
       "    <tr>\n",
       "      <th id=\"T_f9804_level0_row10\" class=\"row_heading level0 row10\" >Harris + bilateral</th>\n",
       "      <td id=\"T_f9804_row10_col0\" class=\"data row10 col0\" >RandomForest</td>\n",
       "      <td id=\"T_f9804_row10_col1\" class=\"data row10 col1\" >0.602941</td>\n",
       "      <td id=\"T_f9804_row10_col2\" class=\"data row10 col2\" >0.600783</td>\n",
       "      <td id=\"T_f9804_row10_col3\" class=\"data row10 col3\" >0.627442</td>\n",
       "      <td id=\"T_f9804_row10_col4\" class=\"data row10 col4\" >0.620175</td>\n",
       "      <td id=\"T_f9804_row10_col5\" class=\"data row10 col5\" >0.627442</td>\n",
       "    </tr>\n",
       "    <tr>\n",
       "      <th id=\"T_f9804_level0_row11\" class=\"row_heading level0 row11\" >EDGE + bilateral</th>\n",
       "      <td id=\"T_f9804_row11_col0\" class=\"data row11 col0\" >LogReg</td>\n",
       "      <td id=\"T_f9804_row11_col1\" class=\"data row11 col1\" >0.808824</td>\n",
       "      <td id=\"T_f9804_row11_col2\" class=\"data row11 col2\" >0.801571</td>\n",
       "      <td id=\"T_f9804_row11_col3\" class=\"data row11 col3\" >0.815349</td>\n",
       "      <td id=\"T_f9804_row11_col4\" class=\"data row11 col4\" >0.797368</td>\n",
       "      <td id=\"T_f9804_row11_col5\" class=\"data row11 col5\" >0.815349</td>\n",
       "    </tr>\n",
       "  </tbody>\n",
       "</table>\n"
      ],
      "text/plain": [
       "<pandas.io.formats.style.Styler at 0x22607ea0d10>"
      ]
     },
     "execution_count": 15,
     "metadata": {},
     "output_type": "execute_result"
    }
   ],
   "source": [
    "df_best_models_all_datasets_macro_f1 = pd.DataFrame(metrics_results_best_methods)\n",
    "df_best_models_all_datasets_macro_f1.insert(0, 'Best models', name_best_models)\n",
    "df_best_models_all_datasets_macro_f1.style.highlight_max(axis=0, subset=df_best_models_all_datasets_macro_f1.columns[1:])"
   ]
  }
 ],
 "metadata": {
  "kernelspec": {
   "display_name": "Python 3 (ipykernel)",
   "language": "python",
   "name": "python3"
  },
  "language_info": {
   "codemirror_mode": {
    "name": "ipython",
    "version": 3
   },
   "file_extension": ".py",
   "mimetype": "text/x-python",
   "name": "python",
   "nbconvert_exporter": "python",
   "pygments_lexer": "ipython3",
<<<<<<< HEAD
   "version": "3.10.10"
=======
   "version": "3.10.9"
>>>>>>> b53644d339a32851690a3e2767925f7cae9e8889
  }
 },
 "nbformat": 4,
 "nbformat_minor": 2
}
