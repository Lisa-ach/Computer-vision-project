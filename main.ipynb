{
 "cells": [
  {
   "cell_type": "code",
   "execution_count": 1,
   "metadata": {},
   "outputs": [],
   "source": [
    "from Classification import classification_class as classification\n",
    "from Features_extraction.feature_extraction_class import FeatureExtraction\n",
    "from Data_processing.images_processing_class import ImagesProcessing\n",
    "from utils import perform_classification\n",
    "\n",
    "import pandas as pd\n",
    "import numpy as np\n",
    "import cv2\n",
    "import json"
   ]
  },
  {
   "cell_type": "code",
   "execution_count": 2,
   "metadata": {},
   "outputs": [],
   "source": [
    "metrics_results_best_methods = {\n",
    "        \"accuracy\" : {},\n",
    "        \"f1-score\" : {},\n",
    "        \"recall\" : {},\n",
    "        \"precision\" : {},\n",
    "        \"roc_auc\" : {}\n",
    "        }\n",
    "\n",
    "name_best_models = {}"
   ]
  },
  {
   "cell_type": "code",
   "execution_count": 3,
   "metadata": {},
   "outputs": [],
   "source": [
    "data_normal_path = \"Data/normal/\"\n",
    "data_pothole_path = \"Data/potholes/\"\n",
    "\n",
    "env_images = ImagesProcessing(folder_normal=data_normal_path, folder_potholes=data_pothole_path, img_size=(256, 256))\n",
    "\n",
    "Y = env_images.labels\n",
    "df_Y = pd.DataFrame(Y)"
   ]
  },
  {
   "cell_type": "code",
   "execution_count": 4,
   "metadata": {},
   "outputs": [],
   "source": [
    "with open(\"best_configs_processing.json\", \"r\") as f:\n",
    "    best_configs_processing = json.load(f)\n",
    "\n",
    "with open(\"best_configs_methods.json\", \"r\") as f:\n",
    "    best_configs_methods = json.load(f)"
   ]
  },
  {
   "cell_type": "markdown",
   "metadata": {},
   "source": [
    "# I. Unprocessed images"
   ]
  },
  {
   "cell_type": "code",
   "execution_count": 10,
   "metadata": {},
   "outputs": [],
   "source": [
    "env_feature_extraction_unprocessed_images = FeatureExtraction(env_images)"
   ]
  },
  {
   "cell_type": "markdown",
   "metadata": {},
   "source": [
    "## 1. Point of interest detection"
   ]
  },
  {
   "cell_type": "code",
   "execution_count": 6,
   "metadata": {},
   "outputs": [
    {
     "name": "stdout",
     "output_type": "stream",
     "text": [
      "============================================\n",
      "\u001b[1mExtracting SIFT Features\u001b[0;0m\n",
      "Performing Classification for SIFT\n",
      "Best method name for SIFT: RandomForest\n",
      "Classification Report:\n",
      "              precision    recall  f1-score   support\n",
      "\n",
      "           0       0.83      0.76      0.79        86\n",
      "           1       0.64      0.74      0.69        50\n",
      "\n",
      "    accuracy                           0.75       136\n",
      "   macro avg       0.74      0.75      0.74       136\n",
      "weighted avg       0.76      0.75      0.75       136\n",
      "\n"
     ]
    }
   ],
   "source": [
    "df_features_SIFT = pd.DataFrame(env_feature_extraction_unprocessed_images.method_SIFT())\n",
    "\n",
    "metrics_results_best_methods, _ = perform_classification(\n",
    "    'SIFT', df_Y, name_best_models, metrics_results_best_methods, df_features=df_features_SIFT\n",
    ")"
   ]
  },
  {
   "cell_type": "code",
   "execution_count": 7,
   "metadata": {},
   "outputs": [
    {
     "name": "stdout",
     "output_type": "stream",
     "text": [
      "============================================\n",
      "\u001b[1mExtracting ORB Features\u001b[0;0m\n",
      "Performing Classification for ORB\n",
      "Best method name for ORB: LogReg\n",
      "Classification Report:\n",
      "              precision    recall  f1-score   support\n",
      "\n",
      "           0       0.72      0.63      0.67        86\n",
      "           1       0.48      0.58      0.52        50\n",
      "\n",
      "    accuracy                           0.61       136\n",
      "   macro avg       0.60      0.60      0.60       136\n",
      "weighted avg       0.63      0.61      0.62       136\n",
      "\n"
     ]
    }
   ],
   "source": [
    "df_features_ORB = pd.DataFrame(env_feature_extraction_unprocessed_images.method_ORB())\n",
    "\n",
    "metrics_results_best_methods, _ = perform_classification(\n",
    "    'ORB', df_Y, name_best_models, metrics_results_best_methods, df_features=df_features_ORB\n",
    ")"
   ]
  },
  {
   "cell_type": "code",
   "execution_count": 8,
   "metadata": {},
   "outputs": [
    {
     "name": "stdout",
     "output_type": "stream",
     "text": [
      "============================================\n",
      "\u001b[1mExtracting Harris Corner Features\u001b[0;0m\n",
      "Performing Classification for Harris\n",
      "Best method name for Harris: RandomForest\n",
      "Classification Report:\n",
      "              precision    recall  f1-score   support\n",
      "\n",
      "           0       0.85      0.73      0.79        86\n",
      "           1       0.63      0.78      0.70        50\n",
      "\n",
      "    accuracy                           0.75       136\n",
      "   macro avg       0.74      0.76      0.74       136\n",
      "weighted avg       0.77      0.75      0.75       136\n",
      "\n"
     ]
    }
   ],
   "source": [
    "df_features_harris = pd.DataFrame(env_feature_extraction_unprocessed_images.method_Harris())\n",
    "\n",
    "metrics_results_best_methods, _ = perform_classification(\n",
    "    'Harris', df_Y, name_best_models, metrics_results_best_methods, df_features=df_features_harris\n",
    ")"
   ]
  },
  {
   "cell_type": "markdown",
   "metadata": {},
   "source": [
    "## 2. Edge detection"
   ]
  },
  {
   "cell_type": "code",
   "execution_count": 9,
   "metadata": {},
   "outputs": [
    {
     "name": "stdout",
     "output_type": "stream",
     "text": [
      "============================================\n",
      "\u001b[1mExtracting Edge features\u001b[0;0m\n",
      "Performing Classification for EDGE\n",
      "Best method name for EDGE: LogReg\n",
      "Classification Report:\n",
      "              precision    recall  f1-score   support\n",
      "\n",
      "           0       0.91      0.81      0.86        86\n",
      "           1       0.73      0.86      0.79        50\n",
      "\n",
      "    accuracy                           0.83       136\n",
      "   macro avg       0.82      0.84      0.82       136\n",
      "weighted avg       0.84      0.83      0.83       136\n",
      "\n"
     ]
    }
   ],
   "source": [
    "df_features_edge = env_feature_extraction_unprocessed_images.method_EDGE()\n",
    "\n",
    "metrics_results_best_methods, _ = perform_classification(\n",
    "    'EDGE', df_Y, name_best_models, metrics_results_best_methods, df_features=df_features_edge\n",
    ")"
   ]
  },
  {
   "cell_type": "markdown",
   "metadata": {},
   "source": [
    "## 3. Thresholding Method"
   ]
  },
  {
   "cell_type": "markdown",
   "metadata": {},
   "source": [
    "### a. Otsu's Thresholding"
   ]
  },
  {
   "cell_type": "code",
   "execution_count": 10,
   "metadata": {},
   "outputs": [
    {
     "name": "stdout",
     "output_type": "stream",
     "text": [
      "============================================\n",
      "\u001b[1mData Segmentation using Otsu's Thresholding\u001b[0;0m\n",
      "Performing Classification for Otsu\n",
      "Best method name for Otsu: ClassificationDecisionTree\n",
      "Classification Report:\n",
      "              precision    recall  f1-score   support\n",
      "\n",
      "           0       0.68      0.74      0.71        86\n",
      "           1       0.48      0.40      0.43        50\n",
      "\n",
      "    accuracy                           0.62       136\n",
      "   macro avg       0.58      0.57      0.57       136\n",
      "weighted avg       0.61      0.62      0.61       136\n",
      "\n"
     ]
    }
   ],
   "source": [
    "df_features_otsu = pd.DataFrame(env_feature_extraction_unprocessed_images.method_Otsu())\n",
    "\n",
    "metrics_results_best_methods, _ = perform_classification(\n",
    "    \"Otsu\", df_Y, name_best_models, metrics_results_best_methods, df_features=df_features_otsu\n",
    ")"
   ]
  },
  {
   "cell_type": "markdown",
   "metadata": {},
   "source": [
    "### b. Adaptive's Thresholding"
   ]
  },
  {
   "cell_type": "code",
   "execution_count": 11,
   "metadata": {},
   "outputs": [
    {
     "name": "stdout",
     "output_type": "stream",
     "text": [
      "============================================\n",
      "\u001b[1mData Segmentation using Adaptive's Thresholding\u001b[0;0m\n",
      "Performing Classification for Adaptive\n",
      "Best method name for Adaptive: RandomForest\n",
      "Classification Report:\n",
      "              precision    recall  f1-score   support\n",
      "\n",
      "           0       0.94      0.34      0.50        86\n",
      "           1       0.46      0.96      0.62        50\n",
      "\n",
      "    accuracy                           0.57       136\n",
      "   macro avg       0.70      0.65      0.56       136\n",
      "weighted avg       0.76      0.57      0.54       136\n",
      "\n"
     ]
    }
   ],
   "source": [
    "df_features_adaptive = pd.DataFrame(env_feature_extraction_unprocessed_images.method_Adaptive())\n",
    "\n",
    "metrics_results_best_methods, _ = perform_classification(\n",
    "    'Adaptive', df_Y, name_best_models, metrics_results_best_methods, df_features=df_features_adaptive\n",
    ")"
   ]
  },
  {
   "cell_type": "markdown",
   "metadata": {},
   "source": [
    "## 4. Texture Feature"
   ]
  },
  {
   "cell_type": "markdown",
   "metadata": {},
   "source": [
    "### a. Frequency-Based Methods"
   ]
  },
  {
   "cell_type": "code",
   "execution_count": 12,
   "metadata": {},
   "outputs": [
    {
     "name": "stdout",
     "output_type": "stream",
     "text": [
      "============================================\n",
      "\u001b[1mExtracting Surface Textures Features using Gabor filters\u001b[0;0m\n",
      "Performing Classification for Gabor\n",
      "Best method name for Gabor: RandomForest\n",
      "Classification Report:\n",
      "              precision    recall  f1-score   support\n",
      "\n",
      "           0       0.64      0.62      0.63        86\n",
      "           1       0.38      0.40      0.39        50\n",
      "\n",
      "    accuracy                           0.54       136\n",
      "   macro avg       0.51      0.51      0.51       136\n",
      "weighted avg       0.54      0.54      0.54       136\n",
      "\n"
     ]
    }
   ],
   "source": [
    "df_features_gabor = pd.DataFrame(env_feature_extraction_unprocessed_images.method_Gabor())\n",
    "\n",
    "metrics_results_best_methods, _ = perform_classification(\n",
    "    'Gabor', df_Y, name_best_models, metrics_results_best_methods, df_features=df_features_gabor\n",
    ")"
   ]
  },
  {
   "cell_type": "markdown",
   "metadata": {},
   "source": [
    "### b. Spatial Texture Descriptors"
   ]
  },
  {
   "cell_type": "code",
   "execution_count": 13,
   "metadata": {},
   "outputs": [
    {
     "name": "stdout",
     "output_type": "stream",
     "text": [
      "============================================\n",
      "\u001b[1mExtracting Spatial Texture Features using LBP\u001b[0;0m\n",
      "Performing Classification for LBP\n",
      "Best method name for LBP: LogReg\n",
      "Classification Report:\n",
      "              precision    recall  f1-score   support\n",
      "\n",
      "           0       0.88      0.79      0.83        86\n",
      "           1       0.69      0.82      0.75        50\n",
      "\n",
      "    accuracy                           0.80       136\n",
      "   macro avg       0.79      0.81      0.79       136\n",
      "weighted avg       0.81      0.80      0.80       136\n",
      "\n"
     ]
    }
   ],
   "source": [
    "df_features_LBP = pd.DataFrame(env_feature_extraction_unprocessed_images.method_LBP())\n",
    "\n",
    "metrics_results_best_methods, _ = perform_classification(\n",
    "    'LBP', df_Y, name_best_models, metrics_results_best_methods, df_features=df_features_LBP\n",
    ")"
   ]
  },
  {
   "cell_type": "markdown",
   "metadata": {},
   "source": [
    "## 5. Structural Features"
   ]
  },
  {
   "cell_type": "markdown",
   "metadata": {},
   "source": [
    "- ### Histogram of Oriented Gradients (HOG)"
   ]
  },
  {
   "cell_type": "code",
   "execution_count": 14,
   "metadata": {},
   "outputs": [
    {
     "name": "stdout",
     "output_type": "stream",
     "text": [
      "============================================\n",
      "\u001b[1mExtracting Structural Features using HOG\u001b[0;0m\n",
      "Performing Classification for HOG\n",
      "Best method name for HOG: RandomForest\n",
      "Classification Report:\n",
      "              precision    recall  f1-score   support\n",
      "\n",
      "           0       0.93      0.80      0.86        86\n",
      "           1       0.73      0.90      0.80        50\n",
      "\n",
      "    accuracy                           0.84       136\n",
      "   macro avg       0.83      0.85      0.83       136\n",
      "weighted avg       0.86      0.84      0.84       136\n",
      "\n"
     ]
    }
   ],
   "source": [
    "df_features_HOG = pd.DataFrame(env_feature_extraction_unprocessed_images.method_HOG())\n",
    "\n",
    "metrics_results_best_methods, _ = perform_classification(\n",
    "    'HOG', df_Y, name_best_models, metrics_results_best_methods, df_features=df_features_HOG\n",
    ")"
   ]
  },
  {
   "cell_type": "markdown",
   "metadata": {},
   "source": [
    "# II. Processed images: using best configurations for processing and feature detection methods"
   ]
  },
  {
   "cell_type": "code",
   "execution_count": 5,
   "metadata": {},
   "outputs": [
    {
     "name": "stdout",
     "output_type": "stream",
     "text": [
      "=====================================================================\n",
      "\u001b[1mComputing results for SIFT\u001b[0;0m\n",
      "Applying best preprocessing :\n",
      " {'filter': 'bilateral', 'filter_params': [9, 75, 75], 'histogram': 'clahe', 'normalize': False, 'f1-score': 0.804676279657609} \n",
      "\n",
      "Applying best method parameters:\n",
      " {'nOctaveLayers': 4, 'nfeatures': 500, 'num_clusters': 10, 'sigma': 1.2} \n",
      "\n",
      "============================================\n",
      "\u001b[1mExtracting SIFT Features\u001b[0;0m\n",
      "Performing Classification for SIFT + bilateral\n",
      "Best method name for SIFT + bilateral: RandomForest\n",
      "Classification Report:\n",
      "              precision    recall  f1-score   support\n",
      "\n",
      "           0       0.81      0.80      0.81        86\n",
      "           1       0.67      0.68      0.67        50\n",
      "\n",
      "    accuracy                           0.76       136\n",
      "   macro avg       0.74      0.74      0.74       136\n",
      "weighted avg       0.76      0.76      0.76       136\n",
      "\n",
      "=====================================================================\n",
      "\u001b[1mComputing results for ORB\u001b[0;0m\n",
      "Applying best preprocessing :\n",
      " {'filter': 'bilateral', 'filter_params': [5, 50, 50], 'histogram': 'standard', 'normalize': False, 'f1-score': 0.5966649879693358} \n",
      "\n",
      "Applying best method parameters:\n",
      " {'nfeatures': 300, 'num_clusters': 5, 'scaleFactor': 1.5} \n",
      "\n",
      "============================================\n",
      "\u001b[1mExtracting ORB Features\u001b[0;0m\n",
      "Performing Classification for ORB + bilateral\n",
      "Best method name for ORB + bilateral: LogReg\n",
      "Classification Report:\n",
      "              precision    recall  f1-score   support\n",
      "\n",
      "           0       0.77      0.59      0.67        86\n",
      "           1       0.50      0.70      0.58        50\n",
      "\n",
      "    accuracy                           0.63       136\n",
      "   macro avg       0.64      0.65      0.63       136\n",
      "weighted avg       0.67      0.63      0.64       136\n",
      "\n",
      "=====================================================================\n",
      "\u001b[1mComputing results for Harris\u001b[0;0m\n",
      "Applying best preprocessing :\n",
      " {'filter': 'bilateral', 'filter_params': [12, 100, 100], 'histogram': 'standard', 'normalize': False, 'f1-score': 0.7614035087719299} \n",
      "\n",
      "Applying best method parameters:\n",
      " {'blockSize': 2, 'k': 0.04, 'ksize': 3, 'threshold': 0.01} \n",
      "\n",
      "============================================\n",
      "\u001b[1mExtracting Harris Corner Features\u001b[0;0m\n",
      "Performing Classification for Harris + bilateral\n",
      "Best method name for Harris + bilateral: RandomForest\n",
      "Classification Report:\n",
      "              precision    recall  f1-score   support\n",
      "\n",
      "           0       0.77      0.53      0.63        86\n",
      "           1       0.47      0.72      0.57        50\n",
      "\n",
      "    accuracy                           0.60       136\n",
      "   macro avg       0.62      0.63      0.60       136\n",
      "weighted avg       0.66      0.60      0.61       136\n",
      "\n",
      "=====================================================================\n",
      "\u001b[1mComputing results for EDGE\u001b[0;0m\n",
      "Applying best preprocessing :\n",
      " {'filter': 'bilateral', 'filter_params': [12, 100, 100], 'histogram': 'none', 'normalize': True, 'f1-score': 0.8310749774164408} \n",
      "\n",
      "Applying best method parameters:\n",
      " {'canny_threshold1': 100, 'canny_threshold2': 200, 'laplacian_ksize': 3, 'sobel_ksize': 5} \n",
      "\n",
      "============================================\n",
      "\u001b[1mExtracting Edge features\u001b[0;0m\n",
      "Performing Classification for EDGE + bilateral\n",
      "Best method name for EDGE + bilateral: LogReg\n",
      "Classification Report:\n",
      "              precision    recall  f1-score   support\n",
      "\n",
      "           0       0.89      0.77      0.82        86\n",
      "           1       0.68      0.84      0.75        50\n",
      "\n",
      "    accuracy                           0.79       136\n",
      "   macro avg       0.78      0.80      0.79       136\n",
      "weighted avg       0.81      0.79      0.80       136\n",
      "\n",
      "=====================================================================\n",
      "\u001b[1mComputing results for Otsu\u001b[0;0m\n",
      "Applying best preprocessing :\n",
      " {'filter': 'gaussian', 'filter_params': [[3, 3], 0], 'histogram': 'standard', 'normalize': True, 'f1-score': 0.6908388270061376} \n",
      "\n",
      "Applying best method parameters:\n",
      " None \n",
      "\n",
      "============================================\n",
      "\u001b[1mData Segmentation using Otsu's Thresholding\u001b[0;0m\n",
      "Performing Classification for Otsu + gaussian\n",
      "Best method name for Otsu + gaussian: LogReg\n",
      "Classification Report:\n",
      "              precision    recall  f1-score   support\n",
      "\n",
      "           0       0.70      0.52      0.60        86\n",
      "           1       0.43      0.62      0.51        50\n",
      "\n",
      "    accuracy                           0.56       136\n",
      "   macro avg       0.57      0.57      0.55       136\n",
      "weighted avg       0.60      0.56      0.57       136\n",
      "\n",
      "=====================================================================\n",
      "\u001b[1mComputing results for Adaptive\u001b[0;0m\n",
      "Applying best preprocessing :\n",
      " {'filter': 'bilateral', 'filter_params': [9, 75, 75], 'histogram': 'standard', 'normalize': True, 'f1-score': 0.6029411764705882} \n",
      "\n",
      "Applying best method parameters:\n",
      " {'C': 5, 'block_size': 9} \n",
      "\n",
      "============================================\n",
      "\u001b[1mData Segmentation using Adaptive's Thresholding\u001b[0;0m\n",
      "Performing Classification for Adaptive + bilateral\n",
      "Best method name for Adaptive + bilateral: RandomForest\n",
      "Classification Report:\n",
      "              precision    recall  f1-score   support\n",
      "\n",
      "           0       0.86      0.50      0.63        86\n",
      "           1       0.50      0.86      0.63        50\n",
      "\n",
      "    accuracy                           0.63       136\n",
      "   macro avg       0.68      0.68      0.63       136\n",
      "weighted avg       0.73      0.63      0.63       136\n",
      "\n",
      "=====================================================================\n",
      "\u001b[1mComputing results for Gabor\u001b[0;0m\n",
      "Applying best preprocessing :\n",
      " {'filter': 'bilateral', 'filter_params': [9, 75, 75], 'histogram': 'standard', 'normalize': False, 'f1-score': 0.5748937234308578} \n",
      "\n",
      "Applying best method parameters:\n",
      " {'gamma': 1.0, 'ksize': 7, 'lambd': 5, 'sigma': 6} \n",
      "\n",
      "============================================\n",
      "\u001b[1mExtracting Surface Textures Features using Gabor filters\u001b[0;0m\n",
      "Performing Classification for Gabor + bilateral\n",
      "Best method name for Gabor + bilateral: LogReg\n",
      "Classification Report:\n",
      "              precision    recall  f1-score   support\n",
      "\n",
      "           0       0.86      0.79      0.82        86\n",
      "           1       0.68      0.78      0.73        50\n",
      "\n",
      "    accuracy                           0.79       136\n",
      "   macro avg       0.77      0.79      0.78       136\n",
      "weighted avg       0.80      0.79      0.79       136\n",
      "\n",
      "=====================================================================\n",
      "\u001b[1mComputing results for LBP\u001b[0;0m\n",
      "Applying best preprocessing :\n",
      " {'filter': 'gaussian', 'filter_params': [[7, 7], 2], 'histogram': 'clahe', 'normalize': False, 'f1-score': 0.7933247031012551} \n",
      "\n",
      "Applying best method parameters:\n",
      " {'num_points': 24, 'radius': 2} \n",
      "\n",
      "============================================\n",
      "\u001b[1mExtracting Spatial Texture Features using LBP\u001b[0;0m\n",
      "Performing Classification for LBP + gaussian\n",
      "Best method name for LBP + gaussian: LogReg\n",
      "Classification Report:\n",
      "              precision    recall  f1-score   support\n",
      "\n",
      "           0       0.92      0.76      0.83        86\n",
      "           1       0.68      0.88      0.77        50\n",
      "\n",
      "    accuracy                           0.80       136\n",
      "   macro avg       0.80      0.82      0.80       136\n",
      "weighted avg       0.83      0.80      0.80       136\n",
      "\n",
      "=====================================================================\n",
      "\u001b[1mComputing results for HOG\u001b[0;0m\n",
      "Applying best preprocessing :\n",
      " {'filter': 'gaussian', 'filter_params': [[3, 3], 0], 'histogram': 'standard', 'normalize': True, 'f1-score': 0.8216393442622951} \n",
      "\n",
      "Applying best method parameters:\n",
      " {'orientations': 6, 'pixels_per_cell': [32, 32]} \n",
      "\n",
      "============================================\n",
      "\u001b[1mExtracting Structural Features using HOG\u001b[0;0m\n",
      "Performing Classification for HOG + gaussian\n",
      "Best method name for HOG + gaussian: RandomForest\n",
      "Classification Report:\n",
      "              precision    recall  f1-score   support\n",
      "\n",
      "           0       0.97      0.87      0.92        86\n",
      "           1       0.81      0.96      0.88        50\n",
      "\n",
      "    accuracy                           0.90       136\n",
      "   macro avg       0.89      0.92      0.90       136\n",
      "weighted avg       0.92      0.90      0.91       136\n",
      "\n"
     ]
    }
   ],
   "source": [
    "dict_features = {}\n",
    "dict_num_features = {}\n",
    "\n",
    "for method_name, best_config in best_configs_processing.items():\n",
    "\n",
    "    if method_name in best_configs_methods:\n",
    "        best_params_method = best_configs_methods[method_name]\n",
    "    else:\n",
    "        best_params_method = None\n",
    "\n",
    "    print(\"=====================================================================\")\n",
    "    print(f\"\\033[1mComputing results for {method_name}\\033[0;0m\")\n",
    "    print(f\"Applying best preprocessing :\\n {best_config} \\n\")\n",
    "    print(f\"Applying best method parameters:\\n {best_params_method} \\n\")\n",
    "\n",
    "    env_images.apply_preprocessing(best_config)\n",
    "\n",
    "    env_feature_extraction = FeatureExtraction(env_images)\n",
    "    feature_extraction_method = getattr(env_feature_extraction, f\"method_{method_name}\")\n",
    "    \n",
    "    method_name_preprocessed = f\"{method_name} + {best_config['filter']}\"\n",
    "\n",
    "    metrics_results_best_methods, df_features = perform_classification(\n",
    "        method_name_preprocessed, df_Y, name_best_models, metrics_results_best_methods, best_params_method, feature_extraction_method=feature_extraction_method\n",
    "    )\n",
    "\n",
    "    # To be able to reuse features later on\n",
    "    dict_features[method_name] = df_features\n",
    "    \n",
    "    # To have informations about number of features in final dataframe\n",
    "    dict_num_features[method_name] = df_features.shape[1]\n",
    "    dict_num_features[method_name_preprocessed] = df_features.shape[1]"
   ]
  },
  {
   "cell_type": "markdown",
   "metadata": {},
   "source": [
    "# III. Overall results"
   ]
  },
  {
   "cell_type": "code",
   "execution_count": 16,
   "metadata": {},
   "outputs": [
    {
     "data": {
      "text/html": [
       "<style type=\"text/css\">\n",
       "#T_9facf_row17_col1, #T_9facf_row17_col2, #T_9facf_row17_col3, #T_9facf_row17_col4, #T_9facf_row17_col5 {\n",
       "  background-color: yellow;\n",
       "}\n",
       "</style>\n",
       "<table id=\"T_9facf\">\n",
       "  <thead>\n",
       "    <tr>\n",
       "      <th class=\"blank level0\" >&nbsp;</th>\n",
       "      <th id=\"T_9facf_level0_col0\" class=\"col_heading level0 col0\" >Best models</th>\n",
       "      <th id=\"T_9facf_level0_col1\" class=\"col_heading level0 col1\" >accuracy</th>\n",
       "      <th id=\"T_9facf_level0_col2\" class=\"col_heading level0 col2\" >f1-score</th>\n",
       "      <th id=\"T_9facf_level0_col3\" class=\"col_heading level0 col3\" >recall</th>\n",
       "      <th id=\"T_9facf_level0_col4\" class=\"col_heading level0 col4\" >precision</th>\n",
       "      <th id=\"T_9facf_level0_col5\" class=\"col_heading level0 col5\" >roc_auc</th>\n",
       "      <th id=\"T_9facf_level0_col6\" class=\"col_heading level0 col6\" >Number of features</th>\n",
       "    </tr>\n",
       "  </thead>\n",
       "  <tbody>\n",
       "    <tr>\n",
       "      <th id=\"T_9facf_level0_row0\" class=\"row_heading level0 row0\" >SIFT</th>\n",
       "      <td id=\"T_9facf_row0_col0\" class=\"data row0 col0\" >RandomForest</td>\n",
       "      <td id=\"T_9facf_row0_col1\" class=\"data row0 col1\" >0.7500</td>\n",
       "      <td id=\"T_9facf_row0_col2\" class=\"data row0 col2\" >0.7389</td>\n",
       "      <td id=\"T_9facf_row0_col3\" class=\"data row0 col3\" >0.7479</td>\n",
       "      <td id=\"T_9facf_row0_col4\" class=\"data row0 col4\" >0.7356</td>\n",
       "      <td id=\"T_9facf_row0_col5\" class=\"data row0 col5\" >0.7479</td>\n",
       "      <td id=\"T_9facf_row0_col6\" class=\"data row0 col6\" >5</td>\n",
       "    </tr>\n",
       "    <tr>\n",
       "      <th id=\"T_9facf_level0_row1\" class=\"row_heading level0 row1\" >ORB</th>\n",
       "      <td id=\"T_9facf_row1_col0\" class=\"data row1 col0\" >LogReg</td>\n",
       "      <td id=\"T_9facf_row1_col1\" class=\"data row1 col1\" >0.6103</td>\n",
       "      <td id=\"T_9facf_row1_col2\" class=\"data row1 col2\" >0.5967</td>\n",
       "      <td id=\"T_9facf_row1_col3\" class=\"data row1 col3\" >0.6040</td>\n",
       "      <td id=\"T_9facf_row1_col4\" class=\"data row1 col4\" >0.5977</td>\n",
       "      <td id=\"T_9facf_row1_col5\" class=\"data row1 col5\" >0.6040</td>\n",
       "      <td id=\"T_9facf_row1_col6\" class=\"data row1 col6\" >5</td>\n",
       "    </tr>\n",
       "    <tr>\n",
       "      <th id=\"T_9facf_level0_row2\" class=\"row_heading level0 row2\" >Harris</th>\n",
       "      <td id=\"T_9facf_row2_col0\" class=\"data row2 col0\" >RandomForest</td>\n",
       "      <td id=\"T_9facf_row2_col1\" class=\"data row2 col1\" >0.7500</td>\n",
       "      <td id=\"T_9facf_row2_col2\" class=\"data row2 col2\" >0.7420</td>\n",
       "      <td id=\"T_9facf_row2_col3\" class=\"data row2 col3\" >0.7563</td>\n",
       "      <td id=\"T_9facf_row2_col4\" class=\"data row2 col4\" >0.7402</td>\n",
       "      <td id=\"T_9facf_row2_col5\" class=\"data row2 col5\" >0.7563</td>\n",
       "      <td id=\"T_9facf_row2_col6\" class=\"data row2 col6\" >7</td>\n",
       "    </tr>\n",
       "    <tr>\n",
       "      <th id=\"T_9facf_level0_row3\" class=\"row_heading level0 row3\" >EDGE</th>\n",
       "      <td id=\"T_9facf_row3_col0\" class=\"data row3 col0\" >LogReg</td>\n",
       "      <td id=\"T_9facf_row3_col1\" class=\"data row3 col1\" >0.8309</td>\n",
       "      <td id=\"T_9facf_row3_col2\" class=\"data row3 col2\" >0.8239</td>\n",
       "      <td id=\"T_9facf_row3_col3\" class=\"data row3 col3\" >0.8370</td>\n",
       "      <td id=\"T_9facf_row3_col4\" class=\"data row3 col4\" >0.8190</td>\n",
       "      <td id=\"T_9facf_row3_col5\" class=\"data row3 col5\" >0.8370</td>\n",
       "      <td id=\"T_9facf_row3_col6\" class=\"data row3 col6\" >20</td>\n",
       "    </tr>\n",
       "    <tr>\n",
       "      <th id=\"T_9facf_level0_row4\" class=\"row_heading level0 row4\" >Otsu</th>\n",
       "      <td id=\"T_9facf_row4_col0\" class=\"data row4 col0\" >ClassificationDecisionTree</td>\n",
       "      <td id=\"T_9facf_row4_col1\" class=\"data row4 col1\" >0.6176</td>\n",
       "      <td id=\"T_9facf_row4_col2\" class=\"data row4 col2\" >0.5729</td>\n",
       "      <td id=\"T_9facf_row4_col3\" class=\"data row4 col3\" >0.5721</td>\n",
       "      <td id=\"T_9facf_row4_col4\" class=\"data row4 col4\" >0.5785</td>\n",
       "      <td id=\"T_9facf_row4_col5\" class=\"data row4 col5\" >0.5721</td>\n",
       "      <td id=\"T_9facf_row4_col6\" class=\"data row4 col6\" >256</td>\n",
       "    </tr>\n",
       "    <tr>\n",
       "      <th id=\"T_9facf_level0_row5\" class=\"row_heading level0 row5\" >Adaptive</th>\n",
       "      <td id=\"T_9facf_row5_col0\" class=\"data row5 col0\" >RandomForest</td>\n",
       "      <td id=\"T_9facf_row5_col1\" class=\"data row5 col1\" >0.5662</td>\n",
       "      <td id=\"T_9facf_row5_col2\" class=\"data row5 col2\" >0.5575</td>\n",
       "      <td id=\"T_9facf_row5_col3\" class=\"data row5 col3\" >0.6486</td>\n",
       "      <td id=\"T_9facf_row5_col4\" class=\"data row5 col4\" >0.6963</td>\n",
       "      <td id=\"T_9facf_row5_col5\" class=\"data row5 col5\" >0.6486</td>\n",
       "      <td id=\"T_9facf_row5_col6\" class=\"data row5 col6\" >256</td>\n",
       "    </tr>\n",
       "    <tr>\n",
       "      <th id=\"T_9facf_level0_row6\" class=\"row_heading level0 row6\" >Gabor</th>\n",
       "      <td id=\"T_9facf_row6_col0\" class=\"data row6 col0\" >RandomForest</td>\n",
       "      <td id=\"T_9facf_row6_col1\" class=\"data row6 col1\" >0.5368</td>\n",
       "      <td id=\"T_9facf_row6_col2\" class=\"data row6 col2\" >0.5078</td>\n",
       "      <td id=\"T_9facf_row6_col3\" class=\"data row6 col3\" >0.5081</td>\n",
       "      <td id=\"T_9facf_row6_col4\" class=\"data row6 col4\" >0.5080</td>\n",
       "      <td id=\"T_9facf_row6_col5\" class=\"data row6 col5\" >0.5081</td>\n",
       "      <td id=\"T_9facf_row6_col6\" class=\"data row6 col6\" >12</td>\n",
       "    </tr>\n",
       "    <tr>\n",
       "      <th id=\"T_9facf_level0_row7\" class=\"row_heading level0 row7\" >LBP</th>\n",
       "      <td id=\"T_9facf_row7_col0\" class=\"data row7 col0\" >LogReg</td>\n",
       "      <td id=\"T_9facf_row7_col1\" class=\"data row7 col1\" >0.8015</td>\n",
       "      <td id=\"T_9facf_row7_col2\" class=\"data row7 col2\" >0.7933</td>\n",
       "      <td id=\"T_9facf_row7_col3\" class=\"data row7 col3\" >0.8053</td>\n",
       "      <td id=\"T_9facf_row7_col4\" class=\"data row7 col4\" >0.7890</td>\n",
       "      <td id=\"T_9facf_row7_col5\" class=\"data row7 col5\" >0.8053</td>\n",
       "      <td id=\"T_9facf_row7_col6\" class=\"data row7 col6\" >26</td>\n",
       "    </tr>\n",
       "    <tr>\n",
       "      <th id=\"T_9facf_level0_row8\" class=\"row_heading level0 row8\" >HOG</th>\n",
       "      <td id=\"T_9facf_row8_col0\" class=\"data row8 col0\" >RandomForest</td>\n",
       "      <td id=\"T_9facf_row8_col1\" class=\"data row8 col1\" >0.8382</td>\n",
       "      <td id=\"T_9facf_row8_col2\" class=\"data row8 col2\" >0.8330</td>\n",
       "      <td id=\"T_9facf_row8_col3\" class=\"data row8 col3\" >0.8512</td>\n",
       "      <td id=\"T_9facf_row8_col4\" class=\"data row8 col4\" >0.8291</td>\n",
       "      <td id=\"T_9facf_row8_col5\" class=\"data row8 col5\" >0.8512</td>\n",
       "      <td id=\"T_9facf_row8_col6\" class=\"data row8 col6\" >1176</td>\n",
       "    </tr>\n",
       "    <tr>\n",
       "      <th id=\"T_9facf_level0_row9\" class=\"row_heading level0 row9\" >SIFT + bilateral</th>\n",
       "      <td id=\"T_9facf_row9_col0\" class=\"data row9 col0\" >LogReg</td>\n",
       "      <td id=\"T_9facf_row9_col1\" class=\"data row9 col1\" >0.8162</td>\n",
       "      <td id=\"T_9facf_row9_col2\" class=\"data row9 col2\" >0.8031</td>\n",
       "      <td id=\"T_9facf_row9_col3\" class=\"data row9 col3\" >0.8044</td>\n",
       "      <td id=\"T_9facf_row9_col4\" class=\"data row9 col4\" >0.8020</td>\n",
       "      <td id=\"T_9facf_row9_col5\" class=\"data row9 col5\" >0.8044</td>\n",
       "      <td id=\"T_9facf_row9_col6\" class=\"data row9 col6\" >5</td>\n",
       "    </tr>\n",
       "    <tr>\n",
       "      <th id=\"T_9facf_level0_row10\" class=\"row_heading level0 row10\" >ORB + bilateral</th>\n",
       "      <td id=\"T_9facf_row10_col0\" class=\"data row10 col0\" >LogReg</td>\n",
       "      <td id=\"T_9facf_row10_col1\" class=\"data row10 col1\" >0.6324</td>\n",
       "      <td id=\"T_9facf_row10_col2\" class=\"data row10 col2\" >0.6272</td>\n",
       "      <td id=\"T_9facf_row10_col3\" class=\"data row10 col3\" >0.6465</td>\n",
       "      <td id=\"T_9facf_row10_col4\" class=\"data row10 col4\" >0.6364</td>\n",
       "      <td id=\"T_9facf_row10_col5\" class=\"data row10 col5\" >0.6465</td>\n",
       "      <td id=\"T_9facf_row10_col6\" class=\"data row10 col6\" >5</td>\n",
       "    </tr>\n",
       "    <tr>\n",
       "      <th id=\"T_9facf_level0_row11\" class=\"row_heading level0 row11\" >Harris + bilateral</th>\n",
       "      <td id=\"T_9facf_row11_col0\" class=\"data row11 col0\" >LogReg</td>\n",
       "      <td id=\"T_9facf_row11_col1\" class=\"data row11 col1\" >0.6618</td>\n",
       "      <td id=\"T_9facf_row11_col2\" class=\"data row11 col2\" >0.6570</td>\n",
       "      <td id=\"T_9facf_row11_col3\" class=\"data row11 col3\" >0.6781</td>\n",
       "      <td id=\"T_9facf_row11_col4\" class=\"data row11 col4\" >0.6658</td>\n",
       "      <td id=\"T_9facf_row11_col5\" class=\"data row11 col5\" >0.6781</td>\n",
       "      <td id=\"T_9facf_row11_col6\" class=\"data row11 col6\" >7</td>\n",
       "    </tr>\n",
       "    <tr>\n",
       "      <th id=\"T_9facf_level0_row12\" class=\"row_heading level0 row12\" >EDGE + bilateral</th>\n",
       "      <td id=\"T_9facf_row12_col0\" class=\"data row12 col0\" >LogReg</td>\n",
       "      <td id=\"T_9facf_row12_col1\" class=\"data row12 col1\" >0.7941</td>\n",
       "      <td id=\"T_9facf_row12_col2\" class=\"data row12 col2\" >0.7875</td>\n",
       "      <td id=\"T_9facf_row12_col3\" class=\"data row12 col3\" >0.8037</td>\n",
       "      <td id=\"T_9facf_row12_col4\" class=\"data row12 col4\" >0.7847</td>\n",
       "      <td id=\"T_9facf_row12_col5\" class=\"data row12 col5\" >0.8037</td>\n",
       "      <td id=\"T_9facf_row12_col6\" class=\"data row12 col6\" >20</td>\n",
       "    </tr>\n",
       "    <tr>\n",
       "      <th id=\"T_9facf_level0_row13\" class=\"row_heading level0 row13\" >Otsu + gaussian</th>\n",
       "      <td id=\"T_9facf_row13_col0\" class=\"data row13 col0\" >ClassificationDecisionTree</td>\n",
       "      <td id=\"T_9facf_row13_col1\" class=\"data row13 col1\" >0.5441</td>\n",
       "      <td id=\"T_9facf_row13_col2\" class=\"data row13 col2\" >0.5425</td>\n",
       "      <td id=\"T_9facf_row13_col3\" class=\"data row13 col3\" >0.5684</td>\n",
       "      <td id=\"T_9facf_row13_col4\" class=\"data row13 col4\" >0.5650</td>\n",
       "      <td id=\"T_9facf_row13_col5\" class=\"data row13 col5\" >0.5684</td>\n",
       "      <td id=\"T_9facf_row13_col6\" class=\"data row13 col6\" >256</td>\n",
       "    </tr>\n",
       "    <tr>\n",
       "      <th id=\"T_9facf_level0_row14\" class=\"row_heading level0 row14\" >Adaptive + bilateral</th>\n",
       "      <td id=\"T_9facf_row14_col0\" class=\"data row14 col0\" >LogReg</td>\n",
       "      <td id=\"T_9facf_row14_col1\" class=\"data row14 col1\" >0.7132</td>\n",
       "      <td id=\"T_9facf_row14_col2\" class=\"data row14 col2\" >0.6975</td>\n",
       "      <td id=\"T_9facf_row14_col3\" class=\"data row14 col3\" >0.7021</td>\n",
       "      <td id=\"T_9facf_row14_col4\" class=\"data row14 col4\" >0.6951</td>\n",
       "      <td id=\"T_9facf_row14_col5\" class=\"data row14 col5\" >0.7021</td>\n",
       "      <td id=\"T_9facf_row14_col6\" class=\"data row14 col6\" >256</td>\n",
       "    </tr>\n",
       "    <tr>\n",
       "      <th id=\"T_9facf_level0_row15\" class=\"row_heading level0 row15\" >Gabor + bilateral</th>\n",
       "      <td id=\"T_9facf_row15_col0\" class=\"data row15 col0\" >LogReg</td>\n",
       "      <td id=\"T_9facf_row15_col1\" class=\"data row15 col1\" >0.7868</td>\n",
       "      <td id=\"T_9facf_row15_col2\" class=\"data row15 col2\" >0.7766</td>\n",
       "      <td id=\"T_9facf_row15_col3\" class=\"data row15 col3\" >0.7853</td>\n",
       "      <td id=\"T_9facf_row15_col4\" class=\"data row15 col4\" >0.7725</td>\n",
       "      <td id=\"T_9facf_row15_col5\" class=\"data row15 col5\" >0.7853</td>\n",
       "      <td id=\"T_9facf_row15_col6\" class=\"data row15 col6\" >12</td>\n",
       "    </tr>\n",
       "    <tr>\n",
       "      <th id=\"T_9facf_level0_row16\" class=\"row_heading level0 row16\" >LBP + gaussian</th>\n",
       "      <td id=\"T_9facf_row16_col0\" class=\"data row16 col0\" >LogReg</td>\n",
       "      <td id=\"T_9facf_row16_col1\" class=\"data row16 col1\" >0.8015</td>\n",
       "      <td id=\"T_9facf_row16_col2\" class=\"data row16 col2\" >0.7966</td>\n",
       "      <td id=\"T_9facf_row16_col3\" class=\"data row16 col3\" >0.8179</td>\n",
       "      <td id=\"T_9facf_row16_col4\" class=\"data row16 col4\" >0.7962</td>\n",
       "      <td id=\"T_9facf_row16_col5\" class=\"data row16 col5\" >0.8179</td>\n",
       "      <td id=\"T_9facf_row16_col6\" class=\"data row16 col6\" >26</td>\n",
       "    </tr>\n",
       "    <tr>\n",
       "      <th id=\"T_9facf_level0_row17\" class=\"row_heading level0 row17\" >HOG + gaussian</th>\n",
       "      <td id=\"T_9facf_row17_col0\" class=\"data row17 col0\" >RandomForest</td>\n",
       "      <td id=\"T_9facf_row17_col1\" class=\"data row17 col1\" >0.9044</td>\n",
       "      <td id=\"T_9facf_row17_col2\" class=\"data row17 col2\" >0.9005</td>\n",
       "      <td id=\"T_9facf_row17_col3\" class=\"data row17 col3\" >0.9160</td>\n",
       "      <td id=\"T_9facf_row17_col4\" class=\"data row17 col4\" >0.8938</td>\n",
       "      <td id=\"T_9facf_row17_col5\" class=\"data row17 col5\" >0.9160</td>\n",
       "      <td id=\"T_9facf_row17_col6\" class=\"data row17 col6\" >1176</td>\n",
       "    </tr>\n",
       "  </tbody>\n",
       "</table>\n"
      ],
      "text/plain": [
       "<pandas.io.formats.style.Styler at 0x2478a6d5610>"
      ]
     },
     "execution_count": 16,
     "metadata": {},
     "output_type": "execute_result"
    }
   ],
   "source": [
    "df_best_models_all_datasets_best_f1 = pd.DataFrame(metrics_results_best_methods)\n",
    "df_best_models_all_datasets_best_f1.insert(0, 'Best models', name_best_models)\n",
    "df_best_models_all_datasets_best_f1.insert(6, 'Number of features', dict_num_features)\n",
    "df_best_models_all_datasets_best_f1= df_best_models_all_datasets_best_f1.map(lambda x: f'{x:.4f}' if isinstance(x, float) else x)\n",
    "df_best_models_all_datasets_best_f1.style.highlight_max(axis=0, subset=df_best_models_all_datasets_best_f1.columns[1:6])"
   ]
  },
  {
   "cell_type": "markdown",
   "metadata": {},
   "source": [
    "# IV. Combining some features"
   ]
  },
  {
   "cell_type": "code",
   "execution_count": 6,
   "metadata": {},
   "outputs": [],
   "source": [
    "metrics_results_concatenated_features = {\n",
    "        \"accuracy\" : {},\n",
    "        \"f1-score\" : {},\n",
    "        \"recall\" : {},\n",
    "        \"precision\" : {},\n",
    "        \"roc_auc\" : {}\n",
    "        }\n",
    "\n",
    "name_best_models_concatenated_features = {}\n"
   ]
  },
  {
   "cell_type": "markdown",
   "metadata": {},
   "source": [
    "## 1. SIFT + Edge"
   ]
  },
  {
   "cell_type": "code",
   "execution_count": 30,
   "metadata": {},
   "outputs": [
    {
     "name": "stdout",
     "output_type": "stream",
     "text": [
      "Performing Classification for SIFT + Edge\n",
      "Best method name for SIFT + Edge: LogReg\n",
      "Classification Report:\n",
      "              precision    recall  f1-score   support\n",
      "\n",
      "           0       0.91      0.84      0.87        86\n",
      "           1       0.75      0.86      0.80        50\n",
      "\n",
      "    accuracy                           0.85       136\n",
      "   macro avg       0.83      0.85      0.84       136\n",
      "weighted avg       0.85      0.85      0.85       136\n",
      "\n"
     ]
    }
   ],
   "source": [
    "df_features_SIFT_Edge = env_feature_extraction_unprocessed_images.concatenate_features([dict_features[\"SIFT\"], dict_features[\"EDGE\"]])\n",
    "\n",
    "metrics_results_concatenated_features, _ = perform_classification(\n",
    "    'SIFT + Edge', df_Y, name_best_models_concatenated_features, metrics_results_concatenated_features, df_features=df_features_SIFT_Edge\n",
    ")\n"
   ]
  },
  {
   "cell_type": "markdown",
   "metadata": {},
   "source": [
    "## 2. SIFT + HOG"
   ]
  },
  {
   "cell_type": "code",
   "execution_count": 32,
   "metadata": {},
   "outputs": [
    {
     "name": "stdout",
     "output_type": "stream",
     "text": [
      "Performing Classification for SIFT + HOG\n",
      "Best method name for SIFT + HOG: RandomForest\n",
      "Classification Report:\n",
      "              precision    recall  f1-score   support\n",
      "\n",
      "           0       1.00      0.87      0.93        86\n",
      "           1       0.82      1.00      0.90        50\n",
      "\n",
      "    accuracy                           0.92       136\n",
      "   macro avg       0.91      0.94      0.92       136\n",
      "weighted avg       0.93      0.92      0.92       136\n",
      "\n"
     ]
    }
   ],
   "source": [
    "df_features_SIFT_HOG = env_feature_extraction_unprocessed_images.concatenate_features([dict_features[\"SIFT\"], dict_features[\"HOG\"]])\n",
    "\n",
    "metrics_results_concatenated_features, _ = perform_classification(\n",
    "    'SIFT + HOG', df_Y, name_best_models_concatenated_features, metrics_results_concatenated_features, df_features=df_features_SIFT_HOG # , dim_reduction=\"PCA\"\n",
    ")"
   ]
  },
  {
   "cell_type": "markdown",
   "metadata": {},
   "source": [
    "## 3. HOG with PCA + SIFT"
   ]
  },
  {
   "cell_type": "code",
   "execution_count": 8,
   "metadata": {},
   "outputs": [
    {
     "name": "stdout",
     "output_type": "stream",
     "text": [
      "Performing Classification for HOG with PCA\n",
      "Number of components for the chosen cumulative variance: 210\n",
      "Best method name for HOG with PCA: LogReg\n",
      "Classification Report:\n",
      "              precision    recall  f1-score   support\n",
      "\n",
      "           0       0.97      0.77      0.86        86\n",
      "           1       0.71      0.96      0.81        50\n",
      "\n",
      "    accuracy                           0.84       136\n",
      "   macro avg       0.84      0.86      0.84       136\n",
      "weighted avg       0.87      0.84      0.84       136\n",
      "\n"
     ]
    }
   ],
   "source": [
    "metrics_results_concatenated_features, df_features_HOG_PCA = perform_classification(\n",
    "    'HOG with PCA', df_Y, name_best_models_concatenated_features, metrics_results_concatenated_features, df_features=dict_features[\"HOG\"], dim_reduction=\"PCA\"\n",
    ")"
   ]
  },
  {
   "cell_type": "code",
   "execution_count": 11,
   "metadata": {},
   "outputs": [
    {
     "name": "stdout",
     "output_type": "stream",
     "text": [
      "Performing Classification for SIFT + HOG PCA\n",
      "Best method name for SIFT + HOG PCA: RandomForest\n",
      "Classification Report:\n",
      "              precision    recall  f1-score   support\n",
      "\n",
      "           0       1.00      0.87      0.93        86\n",
      "           1       0.82      1.00      0.90        50\n",
      "\n",
      "    accuracy                           0.92       136\n",
      "   macro avg       0.91      0.94      0.92       136\n",
      "weighted avg       0.93      0.92      0.92       136\n",
      "\n"
     ]
    }
   ],
   "source": [
    "df_features_SIFT_HOG = env_feature_extraction_unprocessed_images.concatenate_features([dict_features[\"SIFT\"], df_features_HOG_PCA])\n",
    "\n",
    "metrics_results_concatenated_features, _ = perform_classification(\n",
    "    'SIFT + HOG PCA', df_Y, name_best_models_concatenated_features, metrics_results_concatenated_features, df_features=df_features_SIFT_HOG\n",
    ")"
   ]
  }
 ],
 "metadata": {
  "kernelspec": {
   "display_name": "base",
   "language": "python",
   "name": "python3"
  },
  "language_info": {
   "codemirror_mode": {
    "name": "ipython",
    "version": 3
   },
   "file_extension": ".py",
   "mimetype": "text/x-python",
   "name": "python",
   "nbconvert_exporter": "python",
   "pygments_lexer": "ipython3",
   "version": "3.11.7"
  }
 },
 "nbformat": 4,
 "nbformat_minor": 2
}
