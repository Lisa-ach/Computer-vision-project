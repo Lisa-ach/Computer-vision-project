{
 "cells": [
  {
   "cell_type": "code",
   "execution_count": 1,
   "id": "e2722a0f",
   "metadata": {},
   "outputs": [],
   "source": [
    "from Classification import classification_class as classification\n",
    "from Features_extraction import feature_extraction_class as feature_extraction\n",
    "from Data_processing.images_processing_class import ImagesProcessing\n",
    "from utils import perform_classification, best_preprocessing\n",
    "\n",
    "import pandas as pd\n",
    "import numpy as np\n",
    "import cv2\n",
    "import json"
   ]
  },
  {
   "cell_type": "code",
   "execution_count": 2,
   "id": "0452f6c2",
   "metadata": {},
   "outputs": [],
   "source": [
    "metrics_results_best_methods = {\n",
    "        \"accuracy\" : {},\n",
    "        \"f1-score\" : {},\n",
    "        \"recall\" : {},\n",
    "        \"precision\" : {},\n",
    "        \"roc_auc\" : {}\n",
    "        }\n",
    "\n",
    "name_best_models = {}"
   ]
  },
  {
   "cell_type": "code",
   "execution_count": 3,
   "id": "6710053a",
   "metadata": {},
   "outputs": [],
   "source": [
    "data_normal_path = \"Data/normal/\"\n",
    "data_pothole_path = \"Data/potholes/\"\n",
    "\n",
    "image_process = ImagesProcessing(folder_normal=data_normal_path, folder_potholes=data_pothole_path, img_size=(256, 256))\n",
    "images = image_process.images\n",
    "Y = image_process.labels\n",
    "df_Y = pd.DataFrame(Y)"
   ]
  },
  {
   "cell_type": "markdown",
   "id": "1b7f7dbf",
   "metadata": {},
   "source": [
    "# I. Unprocessed images"
   ]
  },
  {
   "cell_type": "code",
   "execution_count": 4,
   "id": "bf430697",
   "metadata": {},
   "outputs": [],
   "source": [
    "env_feature_extraction_unprocessed_images = feature_extraction.FeatureExtraction(images)"
   ]
  },
  {
   "cell_type": "code",
   "execution_count": null,
   "id": "42b07794",
   "metadata": {},
   "outputs": [],
   "source": [
    "methods = {\n",
    "    \"SIFT + BoW\": env_feature_extraction_unprocessed_images.method_SIFT,\n",
    "    \"ORB + BoW\": env_feature_extraction_unprocessed_images.method_ORB,\n",
    "    \"EDGE\": env_feature_extraction_unprocessed_images.method_EDGE\n",
    "}\n",
    "\n",
    "for method_name, method_function in methods.items():\n",
    "    metrics_results_best_methods = perform_classification(\n",
    "        method_function, method_name, df_Y, name_best_models, metrics_results_best_methods\n",
    "    )\n"
   ]
  },
  {
   "cell_type": "markdown",
   "id": "db3538ab",
   "metadata": {},
   "source": [
    "# II. Find best configurations for preprocessing"
   ]
  },
  {
   "cell_type": "code",
   "execution_count": 5,
   "id": "e22d9f40",
   "metadata": {
    "scrolled": false
   },
   "outputs": [
    {
     "name": "stdout",
     "output_type": "stream",
     "text": [
      "============================================\n",
      "\u001b[1mExtracting SIFT Features\u001b[0;0m\n",
      "Best preprocessing configuration for SIFT: {'filter': 'gaussian', 'filter_params': ((3, 3), 0), 'histogram': 'standard', 'gamma': 0.8, 'normalize': False, 'f1-score': 0.7926342950973493}\n",
      "============================================\n",
      "\u001b[1mExtracting ORB Features\u001b[0;0m\n",
      "Best preprocessing configuration for ORB: {'filter': 'median', 'filter_params': (3,), 'histogram': 'standard', 'gamma': 0.8, 'normalize': False, 'f1-score': 0.5966649879693358}\n",
      "============================================\n",
      "\u001b[1mExtracting Edge features\u001b[0;0m\n",
      "Best preprocessing configuration for EDGE: {'filter': 'bilateral', 'filter_params': (5, 50, 50), 'histogram': 'standard', 'gamma': 0.8, 'normalize': False, 'f1-score': 0.8320987654320987}\n"
     ]
    }
   ],
   "source": [
    "# TODO: Change this filter with the good association method-filter find in articles\n",
    "\n",
    "filters = {\n",
    "    \"SIFT\": \"gaussian\",\n",
    "    \"ORB\": \"median\",\n",
    "    \"EDGE\": \"bilateral\"\n",
    "}\n",
    "\n",
    "best_configs = {}\n",
    "\n",
    "for method_name, filter_name in filters.items():\n",
    "    best_config, all_results = best_preprocessing(\n",
    "        image_process, getattr(env_feature_extraction_unprocessed_images, f\"method_{method_name}\"), filter_name, method_name, n_iter=30\n",
    "    )\n",
    "    best_configs[method_name] = best_config"
   ]
  },
  {
   "cell_type": "code",
   "execution_count": null,
   "id": "aad15c4d",
   "metadata": {},
   "outputs": [],
   "source": [
    "with open(\"best_configs_processing.json\", \"w\") as f:\n",
    "    json.dump(best_configs, f, indent=4)"
   ]
  },
  {
   "cell_type": "markdown",
   "id": "b3782560",
   "metadata": {},
   "source": [
    "# III. Application of the best preprocessing"
   ]
  },
  {
   "cell_type": "code",
   "execution_count": null,
   "id": "ad30eebc",
   "metadata": {},
   "outputs": [],
   "source": [
    "with open(\"best_configs_methods.json\", \"r\") as f:\n",
    "    best_configs_methods = json.load(f)"
   ]
  },
  {
   "cell_type": "code",
   "execution_count": null,
   "id": "2e61977a",
   "metadata": {},
   "outputs": [
    {
     "name": "stdout",
     "output_type": "stream",
     "text": [
      "Applying best preprocessing for SIFT: {'filter': 'gaussian', 'filter_params': ((5, 5), 1), 'histogram': 'none', 'gamma': 'none', 'normalize': False, 'f1-score': 0.7836818851251841}\n",
      "============================================\n",
      "\u001b[1mExtracting SIFT Features\u001b[0;0m\n",
      "Performing Classification for SIFT + gaussian\n",
      "Best method name for SIFT + gaussian: RandomForest\n",
      "Classification Report:\n",
      "              precision    recall  f1-score   support\n",
      "\n",
      "           0       0.78      0.81      0.80        86\n",
      "           1       0.65      0.60      0.62        50\n",
      "\n",
      "    accuracy                           0.74       136\n",
      "   macro avg       0.71      0.71      0.71       136\n",
      "weighted avg       0.73      0.74      0.73       136\n",
      "\n",
      "Applying best preprocessing for ORB: {'filter': 'median', 'filter_params': (5,), 'histogram': 'clahe', 'gamma': 1.0, 'normalize': False, 'f1-score': 0.6053571428571429}\n",
      "============================================\n",
      "\u001b[1mExtracting ORB Features\u001b[0;0m\n",
      "Performing Classification for ORB + median\n",
      "Best method name for ORB + median: LogReg\n",
      "Classification Report:\n",
      "              precision    recall  f1-score   support\n",
      "\n",
      "           0       0.70      0.53      0.61        86\n",
      "           1       0.43      0.60      0.50        50\n",
      "\n",
      "    accuracy                           0.56       136\n",
      "   macro avg       0.56      0.57      0.55       136\n",
      "weighted avg       0.60      0.56      0.57       136\n",
      "\n",
      "Applying best preprocessing for EDGE: {'filter': 'bilateral', 'filter_params': (9, 75, 75), 'histogram': 'none', 'gamma': 1.0, 'normalize': True, 'f1-score': 0.8320987654320988}\n",
      "============================================\n",
      "\u001b[1mExtracting Edge features\u001b[0;0m\n",
      "Performing Classification for EDGE + bilateral\n",
      "Best method name for EDGE + bilateral: LogReg\n",
      "Classification Report:\n",
      "              precision    recall  f1-score   support\n",
      "\n",
      "           0       0.89      0.77      0.82        86\n",
      "           1       0.68      0.84      0.75        50\n",
      "\n",
      "    accuracy                           0.79       136\n",
      "   macro avg       0.78      0.80      0.79       136\n",
      "weighted avg       0.81      0.79      0.80       136\n",
      "\n"
     ]
    }
   ],
   "source": [
    "for method_name, best_config in best_configs.items():\n",
    "    best_params_method = best_configs_methods[method_name]\n",
    "\n",
    "    print(\"=====================================================================\")\n",
    "    print(f\"\\033[1mComputing results for {method_name}\\033[0;0m\")\n",
    "    print(f\"Applying best preprocessing :\\n {best_config} \\n\")\n",
    "    print(f\"Applying best method parameters:\\n {best_params_method} \\n\")\n",
    "\n",
    "    image_process.apply_preprocessing(best_config)\n",
    "\n",
    "    images=image_process.images\n",
    "    \n",
    "    env_feature_extraction = feature_extraction.FeatureExtraction(images)\n",
    "    feature_extraction_method = getattr(env_feature_extraction, f\"method_{method_name}\")\n",
    "    \n",
    "    method_name_preprocessed = f\"{method_name} + {filters[method_name]}\"\n",
    "\n",
    "    metrics_results_best_methods = perform_classification(\n",
    "        feature_extraction_method, method_name_preprocessed, best_params_method, df_Y, name_best_models, metrics_results_best_methods\n",
    "    )\n"
   ]
  },
  {
   "cell_type": "markdown",
   "id": "f9ca5986",
   "metadata": {},
   "source": [
    "# IV. Overall results"
   ]
  },
  {
   "cell_type": "code",
   "execution_count": 10,
   "id": "f12424c4",
   "metadata": {},
   "outputs": [
    {
     "data": {
      "text/html": [
       "<style type=\"text/css\">\n",
       "#T_84fd6_row0_col1, #T_84fd6_row0_col4, #T_84fd6_row2_col2, #T_84fd6_row2_col3, #T_84fd6_row2_col5, #T_84fd6_row7_col2, #T_84fd6_row7_col3, #T_84fd6_row7_col5 {\n",
       "  background-color: yellow;\n",
       "}\n",
       "</style>\n",
       "<table id=\"T_84fd6\">\n",
       "  <thead>\n",
       "    <tr>\n",
       "      <th class=\"blank level0\" >&nbsp;</th>\n",
       "      <th id=\"T_84fd6_level0_col0\" class=\"col_heading level0 col0\" >Best models</th>\n",
       "      <th id=\"T_84fd6_level0_col1\" class=\"col_heading level0 col1\" >accuracy</th>\n",
       "      <th id=\"T_84fd6_level0_col2\" class=\"col_heading level0 col2\" >f1-score</th>\n",
       "      <th id=\"T_84fd6_level0_col3\" class=\"col_heading level0 col3\" >recall</th>\n",
       "      <th id=\"T_84fd6_level0_col4\" class=\"col_heading level0 col4\" >precision</th>\n",
       "      <th id=\"T_84fd6_level0_col5\" class=\"col_heading level0 col5\" >roc_auc</th>\n",
       "    </tr>\n",
       "  </thead>\n",
       "  <tbody>\n",
       "    <tr>\n",
       "      <th id=\"T_84fd6_level0_row0\" class=\"row_heading level0 row0\" >SIFT + BoW</th>\n",
       "      <td id=\"T_84fd6_row0_col0\" class=\"data row0 col0\" >LogReg</td>\n",
       "      <td id=\"T_84fd6_row0_col1\" class=\"data row0 col1\" >0.801471</td>\n",
       "      <td id=\"T_84fd6_row0_col2\" class=\"data row0 col2\" >0.783682</td>\n",
       "      <td id=\"T_84fd6_row0_col3\" class=\"data row0 col3\" >0.780233</td>\n",
       "      <td id=\"T_84fd6_row0_col4\" class=\"data row0 col4\" >0.788071</td>\n",
       "      <td id=\"T_84fd6_row0_col5\" class=\"data row0 col5\" >0.780233</td>\n",
       "    </tr>\n",
       "    <tr>\n",
       "      <th id=\"T_84fd6_level0_row1\" class=\"row_heading level0 row1\" >ORB + BoW</th>\n",
       "      <td id=\"T_84fd6_row1_col0\" class=\"data row1 col0\" >LogReg</td>\n",
       "      <td id=\"T_84fd6_row1_col1\" class=\"data row1 col1\" >0.617647</td>\n",
       "      <td id=\"T_84fd6_row1_col2\" class=\"data row1 col2\" >0.605357</td>\n",
       "      <td id=\"T_84fd6_row1_col3\" class=\"data row1 col3\" >0.613953</td>\n",
       "      <td id=\"T_84fd6_row1_col4\" class=\"data row1 col4\" >0.606800</td>\n",
       "      <td id=\"T_84fd6_row1_col5\" class=\"data row1 col5\" >0.613953</td>\n",
       "    </tr>\n",
       "    <tr>\n",
       "      <th id=\"T_84fd6_level0_row2\" class=\"row_heading level0 row2\" >EDGE</th>\n",
       "      <td id=\"T_84fd6_row2_col0\" class=\"data row2 col0\" >LogReg</td>\n",
       "      <td id=\"T_84fd6_row2_col1\" class=\"data row2 col1\" >0.794118</td>\n",
       "      <td id=\"T_84fd6_row2_col2\" class=\"data row2 col2\" >0.787500</td>\n",
       "      <td id=\"T_84fd6_row2_col3\" class=\"data row2 col3\" >0.803721</td>\n",
       "      <td id=\"T_84fd6_row2_col4\" class=\"data row2 col4\" >0.784656</td>\n",
       "      <td id=\"T_84fd6_row2_col5\" class=\"data row2 col5\" >0.803721</td>\n",
       "    </tr>\n",
       "    <tr>\n",
       "      <th id=\"T_84fd6_level0_row3\" class=\"row_heading level0 row3\" >SIFT</th>\n",
       "      <td id=\"T_84fd6_row3_col0\" class=\"data row3 col0\" >RandomForest</td>\n",
       "      <td id=\"T_84fd6_row3_col1\" class=\"data row3 col1\" >0.750000</td>\n",
       "      <td id=\"T_84fd6_row3_col2\" class=\"data row3 col2\" >0.726326</td>\n",
       "      <td id=\"T_84fd6_row3_col3\" class=\"data row3 col3\" >0.722791</td>\n",
       "      <td id=\"T_84fd6_row3_col4\" class=\"data row3 col4\" >0.731401</td>\n",
       "      <td id=\"T_84fd6_row3_col5\" class=\"data row3 col5\" >0.722791</td>\n",
       "    </tr>\n",
       "    <tr>\n",
       "      <th id=\"T_84fd6_level0_row4\" class=\"row_heading level0 row4\" >ORB</th>\n",
       "      <td id=\"T_84fd6_row4_col0\" class=\"data row4 col0\" >LogReg</td>\n",
       "      <td id=\"T_84fd6_row4_col1\" class=\"data row4 col1\" >0.558824</td>\n",
       "      <td id=\"T_84fd6_row4_col2\" class=\"data row4 col2\" >0.552632</td>\n",
       "      <td id=\"T_84fd6_row4_col3\" class=\"data row4 col3\" >0.567442</td>\n",
       "      <td id=\"T_84fd6_row4_col4\" class=\"data row4 col4\" >0.562771</td>\n",
       "      <td id=\"T_84fd6_row4_col5\" class=\"data row4 col5\" >0.567442</td>\n",
       "    </tr>\n",
       "    <tr>\n",
       "      <th id=\"T_84fd6_level0_row5\" class=\"row_heading level0 row5\" >SIFT + gaussian</th>\n",
       "      <td id=\"T_84fd6_row5_col0\" class=\"data row5 col0\" >RandomForest</td>\n",
       "      <td id=\"T_84fd6_row5_col1\" class=\"data row5 col1\" >0.735294</td>\n",
       "      <td id=\"T_84fd6_row5_col2\" class=\"data row5 col2\" >0.710227</td>\n",
       "      <td id=\"T_84fd6_row5_col3\" class=\"data row5 col3\" >0.706977</td>\n",
       "      <td id=\"T_84fd6_row5_col4\" class=\"data row5 col4\" >0.714976</td>\n",
       "      <td id=\"T_84fd6_row5_col5\" class=\"data row5 col5\" >0.706977</td>\n",
       "    </tr>\n",
       "    <tr>\n",
       "      <th id=\"T_84fd6_level0_row6\" class=\"row_heading level0 row6\" >ORB + median</th>\n",
       "      <td id=\"T_84fd6_row6_col0\" class=\"data row6 col0\" >LogReg</td>\n",
       "      <td id=\"T_84fd6_row6_col1\" class=\"data row6 col1\" >0.558824</td>\n",
       "      <td id=\"T_84fd6_row6_col2\" class=\"data row6 col2\" >0.552632</td>\n",
       "      <td id=\"T_84fd6_row6_col3\" class=\"data row6 col3\" >0.567442</td>\n",
       "      <td id=\"T_84fd6_row6_col4\" class=\"data row6 col4\" >0.562771</td>\n",
       "      <td id=\"T_84fd6_row6_col5\" class=\"data row6 col5\" >0.567442</td>\n",
       "    </tr>\n",
       "    <tr>\n",
       "      <th id=\"T_84fd6_level0_row7\" class=\"row_heading level0 row7\" >EDGE + bilateral</th>\n",
       "      <td id=\"T_84fd6_row7_col0\" class=\"data row7 col0\" >LogReg</td>\n",
       "      <td id=\"T_84fd6_row7_col1\" class=\"data row7 col1\" >0.794118</td>\n",
       "      <td id=\"T_84fd6_row7_col2\" class=\"data row7 col2\" >0.787500</td>\n",
       "      <td id=\"T_84fd6_row7_col3\" class=\"data row7 col3\" >0.803721</td>\n",
       "      <td id=\"T_84fd6_row7_col4\" class=\"data row7 col4\" >0.784656</td>\n",
       "      <td id=\"T_84fd6_row7_col5\" class=\"data row7 col5\" >0.803721</td>\n",
       "    </tr>\n",
       "  </tbody>\n",
       "</table>\n"
      ],
      "text/plain": [
       "<pandas.io.formats.style.Styler at 0x1e0746cc640>"
      ]
     },
     "execution_count": 10,
     "metadata": {},
     "output_type": "execute_result"
    }
   ],
   "source": [
    "df_best_models_all_datasets_macro_f1 = pd.DataFrame(metrics_results_best_methods)\n",
    "df_best_models_all_datasets_macro_f1.insert(0, 'Best models', name_best_models)\n",
    "df_best_models_all_datasets_macro_f1.style.highlight_max(axis=0, subset=df_best_models_all_datasets_macro_f1.columns[1:])\n"
   ]
  }
 ],
 "metadata": {
  "kernelspec": {
   "display_name": "base",
   "language": "python",
   "name": "python3"
  },
  "language_info": {
   "codemirror_mode": {
    "name": "ipython",
    "version": 3
   },
   "file_extension": ".py",
   "mimetype": "text/x-python",
   "name": "python",
   "nbconvert_exporter": "python",
   "pygments_lexer": "ipython3",
   "version": "3.11.7"
  }
 },
 "nbformat": 4,
 "nbformat_minor": 5
}
